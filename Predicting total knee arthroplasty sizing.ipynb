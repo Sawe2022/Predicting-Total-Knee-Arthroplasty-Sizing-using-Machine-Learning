{
 "cells": [
  {
   "cell_type": "markdown",
   "metadata": {},
   "source": [
    "# AMPATH INTERNSHIP"
   ]
  },
  {
   "cell_type": "markdown",
   "metadata": {},
   "source": [
    "## Task 1"
   ]
  },
  {
   "cell_type": "markdown",
   "metadata": {},
   "source": [
    "## Predicting total knee arthroplasty (TKA) sizing"
   ]
  },
  {
   "cell_type": "markdown",
   "metadata": {},
   "source": [
    "Total knee arthroplasty (TKA)/ total knee replacement is a surgical procedure to replace the weight bearing surfaces of the knee joint to releive pain and disability. It is most commonly performed for osteoarthritis and also for other knee diseases such as rheumatoid arthritis and psoriatic arthritis.\n",
    "\n",
    "The main objective of this task is to determine whether demographic variables (height, weight and gender) can accurately predict total knee arthroplasty sizing using machine learning techniques.\n",
    "\n",
    "Research question: Can demographic variables accurately predict component sizing in primary total knee athroplasty using machine learning techniques?"
   ]
  },
  {
   "cell_type": "code",
   "execution_count": 1,
   "metadata": {},
   "outputs": [],
   "source": [
    "# Importing necessary libraries\n",
    "import numpy as np # for working with arrays\n",
    "import pandas as pd # for working with dataframes\n",
    "import scipy as sp # statistical library\n",
    "import pandas_profiling as pp # for data profiling\n",
    "\n",
    "\n",
    "# Libraries for visualizations and plotting\n",
    "import matplotlib.pyplot as plt\n",
    "# displaying visualizations within the notebook\n",
    "%matplotlib inline \n",
    "import seaborn as sns # for customized visualizations\n",
    "# Filtering warnings\n",
    "from warnings import filterwarnings\n",
    "filterwarnings('ignore')"
   ]
  },
  {
   "cell_type": "markdown",
   "metadata": {},
   "source": [
    "## Loading the dataset"
   ]
  },
  {
   "cell_type": "code",
   "execution_count": 2,
   "metadata": {},
   "outputs": [],
   "source": [
    "train_df = pd.read_csv(\"C:/Users/hp/Desktop/AMPATH INTERNSHIP 2021/TKA_Train_data.csv\")"
   ]
  },
  {
   "cell_type": "code",
   "execution_count": 3,
   "metadata": {},
   "outputs": [],
   "source": [
    "test_df = pd.read_csv(\"C:/Users/hp/Desktop/AMPATH INTERNSHIP 2021/TKA_Test_data.csv\")"
   ]
  },
  {
   "cell_type": "code",
   "execution_count": 156,
   "metadata": {},
   "outputs": [
    {
     "data": {
      "text/plain": [
       "Index(['Procedure_TKR.Height_cm', 'Procedure_TKR.Weight_kg',\n",
       "       'Demographics.Gender (0=Female, 1=Male)', 'Tibia ML Dimension (mm)',\n",
       "       'Femur AP Dimension (mm)'],\n",
       "      dtype='object')"
      ]
     },
     "execution_count": 156,
     "metadata": {},
     "output_type": "execute_result"
    }
   ],
   "source": [
    "train_data.columns"
   ]
  },
  {
   "cell_type": "markdown",
   "metadata": {},
   "source": [
    "### Exploratory data analysis (EDA)"
   ]
  },
  {
   "cell_type": "code",
   "execution_count": 4,
   "metadata": {},
   "outputs": [
    {
     "data": {
      "text/html": [
       "<div>\n",
       "<style scoped>\n",
       "    .dataframe tbody tr th:only-of-type {\n",
       "        vertical-align: middle;\n",
       "    }\n",
       "\n",
       "    .dataframe tbody tr th {\n",
       "        vertical-align: top;\n",
       "    }\n",
       "\n",
       "    .dataframe thead th {\n",
       "        text-align: right;\n",
       "    }\n",
       "</style>\n",
       "<table border=\"1\" class=\"dataframe\">\n",
       "  <thead>\n",
       "    <tr style=\"text-align: right;\">\n",
       "      <th></th>\n",
       "      <th>Procedure_TKR2.F_Company</th>\n",
       "      <th>Procedure_TKR2.F_Model</th>\n",
       "      <th>Procedure_TKR2.F_Details</th>\n",
       "      <th>Femur AP Dimension (mm)</th>\n",
       "      <th>Procedure_TKR2.T_Model</th>\n",
       "      <th>Procedure_TKR2.T_Details</th>\n",
       "      <th>Tibia ML Dimension (mm)</th>\n",
       "      <th>Procedure_TKR2.Pat_Model</th>\n",
       "      <th>Procedure_TKR2.Pat_Details</th>\n",
       "      <th>Procedure_TKR2.Poly_Model</th>\n",
       "      <th>...</th>\n",
       "      <th>Unnamed: 67</th>\n",
       "      <th>Unnamed: 68</th>\n",
       "      <th>Unnamed: 69</th>\n",
       "      <th>Unnamed: 70</th>\n",
       "      <th>Unnamed: 71</th>\n",
       "      <th>Unnamed: 72</th>\n",
       "      <th>Unnamed: 73</th>\n",
       "      <th>Unnamed: 74</th>\n",
       "      <th>Unnamed: 75</th>\n",
       "      <th>Unnamed: 76</th>\n",
       "    </tr>\n",
       "  </thead>\n",
       "  <tbody>\n",
       "    <tr>\n",
       "      <th>0</th>\n",
       "      <td>Zimmer</td>\n",
       "      <td>Persona</td>\n",
       "      <td>Size 6, Left, Cemented, PS, Standard</td>\n",
       "      <td>60.4</td>\n",
       "      <td>Persona</td>\n",
       "      <td>Size C, Left, 5 Degree, STM</td>\n",
       "      <td>63.8</td>\n",
       "      <td>Persona</td>\n",
       "      <td>All poly, 35mm</td>\n",
       "      <td>Persona</td>\n",
       "      <td>...</td>\n",
       "      <td>NaN</td>\n",
       "      <td>NaN</td>\n",
       "      <td>NaN</td>\n",
       "      <td>NaN</td>\n",
       "      <td>NaN</td>\n",
       "      <td>NaN</td>\n",
       "      <td>NaN</td>\n",
       "      <td>NaN</td>\n",
       "      <td>NaN</td>\n",
       "      <td>NaN</td>\n",
       "    </tr>\n",
       "    <tr>\n",
       "      <th>1</th>\n",
       "      <td>Zimmer</td>\n",
       "      <td>NexGen LPS Option</td>\n",
       "      <td>Left, Size C</td>\n",
       "      <td>53.5</td>\n",
       "      <td>NexGen</td>\n",
       "      <td>Micro/1, 40mm A/P, 58mm M/L, Precoat Stemmed</td>\n",
       "      <td>58.0</td>\n",
       "      <td>NaN</td>\n",
       "      <td>NaN</td>\n",
       "      <td>NaN</td>\n",
       "      <td>...</td>\n",
       "      <td>NaN</td>\n",
       "      <td>NaN</td>\n",
       "      <td>NaN</td>\n",
       "      <td>NaN</td>\n",
       "      <td>NaN</td>\n",
       "      <td>NaN</td>\n",
       "      <td>NaN</td>\n",
       "      <td>NaN</td>\n",
       "      <td>NaN</td>\n",
       "      <td>NaN</td>\n",
       "    </tr>\n",
       "    <tr>\n",
       "      <th>2</th>\n",
       "      <td>Zimmer</td>\n",
       "      <td>NexGen GS LPS - Flex</td>\n",
       "      <td>Left, Size D</td>\n",
       "      <td>57.5</td>\n",
       "      <td>NexGen</td>\n",
       "      <td>Size 3, PreCoat Stemmed</td>\n",
       "      <td>66.0</td>\n",
       "      <td>NexGen All-Poly Patella</td>\n",
       "      <td>32mm, 8.5mm Thickness</td>\n",
       "      <td>NexGen LPS-Flex Fixed Molded Articular Surface</td>\n",
       "      <td>...</td>\n",
       "      <td>NaN</td>\n",
       "      <td>NaN</td>\n",
       "      <td>NaN</td>\n",
       "      <td>NaN</td>\n",
       "      <td>NaN</td>\n",
       "      <td>NaN</td>\n",
       "      <td>NaN</td>\n",
       "      <td>NaN</td>\n",
       "      <td>NaN</td>\n",
       "      <td>NaN</td>\n",
       "    </tr>\n",
       "    <tr>\n",
       "      <th>3</th>\n",
       "      <td>Zimmer</td>\n",
       "      <td>NexGen GS LPS - Flex</td>\n",
       "      <td>Right, Size F</td>\n",
       "      <td>65.3</td>\n",
       "      <td>NexGen</td>\n",
       "      <td>Size 3, PreCoat Stemmed</td>\n",
       "      <td>66.0</td>\n",
       "      <td>NexGen All-Poly Patella</td>\n",
       "      <td>32mm, 8.5mm Thickness</td>\n",
       "      <td>NexGen LPS-Flex Fixed Molded Articular Surface</td>\n",
       "      <td>...</td>\n",
       "      <td>NaN</td>\n",
       "      <td>NaN</td>\n",
       "      <td>NaN</td>\n",
       "      <td>NaN</td>\n",
       "      <td>NaN</td>\n",
       "      <td>NaN</td>\n",
       "      <td>NaN</td>\n",
       "      <td>NaN</td>\n",
       "      <td>NaN</td>\n",
       "      <td>NaN</td>\n",
       "    </tr>\n",
       "    <tr>\n",
       "      <th>4</th>\n",
       "      <td>Zimmer</td>\n",
       "      <td>Persona CR</td>\n",
       "      <td>CR, Narrow, Size 7, Left</td>\n",
       "      <td>60.8</td>\n",
       "      <td>Persona</td>\n",
       "      <td>Size D, Left, 5 Degree, NP STM</td>\n",
       "      <td>67.0</td>\n",
       "      <td>Persona</td>\n",
       "      <td>All poly, 32mm</td>\n",
       "      <td>Persona CR</td>\n",
       "      <td>...</td>\n",
       "      <td>NaN</td>\n",
       "      <td>NaN</td>\n",
       "      <td>NaN</td>\n",
       "      <td>NaN</td>\n",
       "      <td>NaN</td>\n",
       "      <td>NaN</td>\n",
       "      <td>NaN</td>\n",
       "      <td>NaN</td>\n",
       "      <td>NaN</td>\n",
       "      <td>NaN</td>\n",
       "    </tr>\n",
       "  </tbody>\n",
       "</table>\n",
       "<p>5 rows × 77 columns</p>\n",
       "</div>"
      ],
      "text/plain": [
       "  Procedure_TKR2.F_Company Procedure_TKR2.F_Model  \\\n",
       "0                   Zimmer                Persona   \n",
       "1                   Zimmer      NexGen LPS Option   \n",
       "2                   Zimmer   NexGen GS LPS - Flex   \n",
       "3                   Zimmer   NexGen GS LPS - Flex   \n",
       "4                   Zimmer             Persona CR   \n",
       "\n",
       "               Procedure_TKR2.F_Details  Femur AP Dimension (mm)  \\\n",
       "0  Size 6, Left, Cemented, PS, Standard                     60.4   \n",
       "1                          Left, Size C                     53.5   \n",
       "2                          Left, Size D                     57.5   \n",
       "3                         Right, Size F                     65.3   \n",
       "4              CR, Narrow, Size 7, Left                     60.8   \n",
       "\n",
       "  Procedure_TKR2.T_Model                      Procedure_TKR2.T_Details  \\\n",
       "0                Persona                   Size C, Left, 5 Degree, STM   \n",
       "1                 NexGen  Micro/1, 40mm A/P, 58mm M/L, Precoat Stemmed   \n",
       "2                 NexGen                       Size 3, PreCoat Stemmed   \n",
       "3                 NexGen                       Size 3, PreCoat Stemmed   \n",
       "4                Persona                Size D, Left, 5 Degree, NP STM   \n",
       "\n",
       "   Tibia ML Dimension (mm) Procedure_TKR2.Pat_Model  \\\n",
       "0                     63.8                  Persona   \n",
       "1                     58.0                      NaN   \n",
       "2                     66.0  NexGen All-Poly Patella   \n",
       "3                     66.0  NexGen All-Poly Patella   \n",
       "4                     67.0                  Persona   \n",
       "\n",
       "  Procedure_TKR2.Pat_Details                       Procedure_TKR2.Poly_Model  \\\n",
       "0             All poly, 35mm                                         Persona   \n",
       "1                        NaN                                             NaN   \n",
       "2      32mm, 8.5mm Thickness  NexGen LPS-Flex Fixed Molded Articular Surface   \n",
       "3      32mm, 8.5mm Thickness  NexGen LPS-Flex Fixed Molded Articular Surface   \n",
       "4             All poly, 32mm                                      Persona CR   \n",
       "\n",
       "   ... Unnamed: 67 Unnamed: 68 Unnamed: 69  Unnamed: 70  Unnamed: 71  \\\n",
       "0  ...         NaN         NaN         NaN          NaN          NaN   \n",
       "1  ...         NaN         NaN         NaN          NaN          NaN   \n",
       "2  ...         NaN         NaN         NaN          NaN          NaN   \n",
       "3  ...         NaN         NaN         NaN          NaN          NaN   \n",
       "4  ...         NaN         NaN         NaN          NaN          NaN   \n",
       "\n",
       "   Unnamed: 72  Unnamed: 73 Unnamed: 74 Unnamed: 75 Unnamed: 76  \n",
       "0          NaN          NaN         NaN         NaN         NaN  \n",
       "1          NaN          NaN         NaN         NaN         NaN  \n",
       "2          NaN          NaN         NaN         NaN         NaN  \n",
       "3          NaN          NaN         NaN         NaN         NaN  \n",
       "4          NaN          NaN         NaN         NaN         NaN  \n",
       "\n",
       "[5 rows x 77 columns]"
      ]
     },
     "execution_count": 4,
     "metadata": {},
     "output_type": "execute_result"
    }
   ],
   "source": [
    "# Checking the five few rows of train data\n",
    "train_df.head()"
   ]
  },
  {
   "cell_type": "code",
   "execution_count": 5,
   "metadata": {},
   "outputs": [
    {
     "data": {
      "text/html": [
       "<div>\n",
       "<style scoped>\n",
       "    .dataframe tbody tr th:only-of-type {\n",
       "        vertical-align: middle;\n",
       "    }\n",
       "\n",
       "    .dataframe tbody tr th {\n",
       "        vertical-align: top;\n",
       "    }\n",
       "\n",
       "    .dataframe thead th {\n",
       "        text-align: right;\n",
       "    }\n",
       "</style>\n",
       "<table border=\"1\" class=\"dataframe\">\n",
       "  <thead>\n",
       "    <tr style=\"text-align: right;\">\n",
       "      <th></th>\n",
       "      <th>Procedure_TKR2.F_Company</th>\n",
       "      <th>Procedure_TKR2.F_Model</th>\n",
       "      <th>Procedure_TKR2.F_Details</th>\n",
       "      <th>Femur AP Dimension (mm)</th>\n",
       "      <th>Procedure_TKR2.T_Model</th>\n",
       "      <th>Procedure_TKR2.T_Details</th>\n",
       "      <th>Tibia ML Dimension (mm)</th>\n",
       "      <th>Procedure_TKR2.Pat_Model</th>\n",
       "      <th>Procedure_TKR2.Pat_Details</th>\n",
       "      <th>Procedure_TKR2.Poly_Model</th>\n",
       "      <th>...</th>\n",
       "      <th>Unnamed: 67</th>\n",
       "      <th>Unnamed: 68</th>\n",
       "      <th>Unnamed: 69</th>\n",
       "      <th>Unnamed: 70</th>\n",
       "      <th>Unnamed: 71</th>\n",
       "      <th>Unnamed: 72</th>\n",
       "      <th>Unnamed: 73</th>\n",
       "      <th>Unnamed: 74</th>\n",
       "      <th>Unnamed: 75</th>\n",
       "      <th>Unnamed: 76</th>\n",
       "    </tr>\n",
       "  </thead>\n",
       "  <tbody>\n",
       "    <tr>\n",
       "      <th>3402</th>\n",
       "      <td>Zimmer</td>\n",
       "      <td>NexGen LPS-Flex Option</td>\n",
       "      <td>Right, Size G</td>\n",
       "      <td>70.4</td>\n",
       "      <td>NexGen</td>\n",
       "      <td>Size 6, PreCoat Stemmed</td>\n",
       "      <td>74.0</td>\n",
       "      <td>NaN</td>\n",
       "      <td>NaN</td>\n",
       "      <td>NexGen LPS-Flex Fixed Molded Articular Surface</td>\n",
       "      <td>...</td>\n",
       "      <td>NaN</td>\n",
       "      <td>NaN</td>\n",
       "      <td>NaN</td>\n",
       "      <td>NaN</td>\n",
       "      <td>NaN</td>\n",
       "      <td>NaN</td>\n",
       "      <td>NaN</td>\n",
       "      <td>NaN</td>\n",
       "      <td>NaN</td>\n",
       "      <td>NaN</td>\n",
       "    </tr>\n",
       "    <tr>\n",
       "      <th>3403</th>\n",
       "      <td>Zimmer</td>\n",
       "      <td>NexGen LPS-Flex Option</td>\n",
       "      <td>Left, Size G</td>\n",
       "      <td>70.5</td>\n",
       "      <td>NexGen</td>\n",
       "      <td>Size 7, PreCoat Stemmed</td>\n",
       "      <td>82.0</td>\n",
       "      <td>NaN</td>\n",
       "      <td>NaN</td>\n",
       "      <td>NexGen LPS-Flex Fixed Molded Articular Surface</td>\n",
       "      <td>...</td>\n",
       "      <td>NaN</td>\n",
       "      <td>NaN</td>\n",
       "      <td>NaN</td>\n",
       "      <td>NaN</td>\n",
       "      <td>NaN</td>\n",
       "      <td>NaN</td>\n",
       "      <td>NaN</td>\n",
       "      <td>NaN</td>\n",
       "      <td>NaN</td>\n",
       "      <td>NaN</td>\n",
       "    </tr>\n",
       "    <tr>\n",
       "      <th>3404</th>\n",
       "      <td>Zimmer</td>\n",
       "      <td>NexGen GS LPS-Flex</td>\n",
       "      <td>Left, Size E</td>\n",
       "      <td>61.5</td>\n",
       "      <td>NexGen</td>\n",
       "      <td>Size 3, PreCoat Stemmed</td>\n",
       "      <td>66.0</td>\n",
       "      <td>NexGen All-Poly Patella</td>\n",
       "      <td>32mm, 8.5mm Thickness</td>\n",
       "      <td>NexGen LPS-Flex Fixed Molded Articular Surface</td>\n",
       "      <td>...</td>\n",
       "      <td>NaN</td>\n",
       "      <td>NaN</td>\n",
       "      <td>NaN</td>\n",
       "      <td>NaN</td>\n",
       "      <td>NaN</td>\n",
       "      <td>NaN</td>\n",
       "      <td>NaN</td>\n",
       "      <td>NaN</td>\n",
       "      <td>NaN</td>\n",
       "      <td>NaN</td>\n",
       "    </tr>\n",
       "    <tr>\n",
       "      <th>3405</th>\n",
       "      <td>Stryker</td>\n",
       "      <td>Triathlon Femoral Condyle</td>\n",
       "      <td>Cemented, Cruciate Retaining, Sz 4 Rt</td>\n",
       "      <td>62.0</td>\n",
       "      <td>Triathlon Total Knee Universal Tibial Baseplate</td>\n",
       "      <td>Size 4</td>\n",
       "      <td>70.0</td>\n",
       "      <td>Triathlon X3 Symmetric Patella</td>\n",
       "      <td>Triathlon X3 Symmetric Patella, Cross-Linked, ...</td>\n",
       "      <td>Triathlon X3 CR Tibial Insert</td>\n",
       "      <td>...</td>\n",
       "      <td>NaN</td>\n",
       "      <td>NaN</td>\n",
       "      <td>NaN</td>\n",
       "      <td>NaN</td>\n",
       "      <td>NaN</td>\n",
       "      <td>NaN</td>\n",
       "      <td>NaN</td>\n",
       "      <td>NaN</td>\n",
       "      <td>NaN</td>\n",
       "      <td>NaN</td>\n",
       "    </tr>\n",
       "    <tr>\n",
       "      <th>3406</th>\n",
       "      <td>Stryker</td>\n",
       "      <td>Triathlon</td>\n",
       "      <td>Cemented, Cruciate Retaining, Sz 7 Lt</td>\n",
       "      <td>71.0</td>\n",
       "      <td>Triathlon Total Knee Universal Tibial Baseplate</td>\n",
       "      <td>Size 7</td>\n",
       "      <td>80.0</td>\n",
       "      <td>Triathlon X3 Symmetric Patella</td>\n",
       "      <td>Triathlon X3 Symmetric Patella, Cross-Linked, ...</td>\n",
       "      <td>Triathalon X3 11 mm</td>\n",
       "      <td>...</td>\n",
       "      <td>NaN</td>\n",
       "      <td>NaN</td>\n",
       "      <td>NaN</td>\n",
       "      <td>NaN</td>\n",
       "      <td>NaN</td>\n",
       "      <td>NaN</td>\n",
       "      <td>NaN</td>\n",
       "      <td>NaN</td>\n",
       "      <td>NaN</td>\n",
       "      <td>NaN</td>\n",
       "    </tr>\n",
       "  </tbody>\n",
       "</table>\n",
       "<p>5 rows × 77 columns</p>\n",
       "</div>"
      ],
      "text/plain": [
       "     Procedure_TKR2.F_Company     Procedure_TKR2.F_Model  \\\n",
       "3402                   Zimmer     NexGen LPS-Flex Option   \n",
       "3403                   Zimmer     NexGen LPS-Flex Option   \n",
       "3404                   Zimmer         NexGen GS LPS-Flex   \n",
       "3405                  Stryker  Triathlon Femoral Condyle   \n",
       "3406                  Stryker                  Triathlon   \n",
       "\n",
       "                   Procedure_TKR2.F_Details  Femur AP Dimension (mm)  \\\n",
       "3402                          Right, Size G                     70.4   \n",
       "3403                           Left, Size G                     70.5   \n",
       "3404                           Left, Size E                     61.5   \n",
       "3405  Cemented, Cruciate Retaining, Sz 4 Rt                     62.0   \n",
       "3406  Cemented, Cruciate Retaining, Sz 7 Lt                     71.0   \n",
       "\n",
       "                               Procedure_TKR2.T_Model  \\\n",
       "3402                                           NexGen   \n",
       "3403                                           NexGen   \n",
       "3404                                           NexGen   \n",
       "3405  Triathlon Total Knee Universal Tibial Baseplate   \n",
       "3406  Triathlon Total Knee Universal Tibial Baseplate   \n",
       "\n",
       "     Procedure_TKR2.T_Details  Tibia ML Dimension (mm)  \\\n",
       "3402  Size 6, PreCoat Stemmed                     74.0   \n",
       "3403  Size 7, PreCoat Stemmed                     82.0   \n",
       "3404  Size 3, PreCoat Stemmed                     66.0   \n",
       "3405                   Size 4                     70.0   \n",
       "3406                   Size 7                     80.0   \n",
       "\n",
       "            Procedure_TKR2.Pat_Model  \\\n",
       "3402                             NaN   \n",
       "3403                             NaN   \n",
       "3404         NexGen All-Poly Patella   \n",
       "3405  Triathlon X3 Symmetric Patella   \n",
       "3406  Triathlon X3 Symmetric Patella   \n",
       "\n",
       "                             Procedure_TKR2.Pat_Details  \\\n",
       "3402                                                NaN   \n",
       "3403                                                NaN   \n",
       "3404                              32mm, 8.5mm Thickness   \n",
       "3405  Triathlon X3 Symmetric Patella, Cross-Linked, ...   \n",
       "3406  Triathlon X3 Symmetric Patella, Cross-Linked, ...   \n",
       "\n",
       "                           Procedure_TKR2.Poly_Model  ... Unnamed: 67  \\\n",
       "3402  NexGen LPS-Flex Fixed Molded Articular Surface  ...         NaN   \n",
       "3403  NexGen LPS-Flex Fixed Molded Articular Surface  ...         NaN   \n",
       "3404  NexGen LPS-Flex Fixed Molded Articular Surface  ...         NaN   \n",
       "3405                   Triathlon X3 CR Tibial Insert  ...         NaN   \n",
       "3406                             Triathalon X3 11 mm  ...         NaN   \n",
       "\n",
       "     Unnamed: 68 Unnamed: 69  Unnamed: 70  Unnamed: 71  Unnamed: 72  \\\n",
       "3402         NaN         NaN          NaN          NaN          NaN   \n",
       "3403         NaN         NaN          NaN          NaN          NaN   \n",
       "3404         NaN         NaN          NaN          NaN          NaN   \n",
       "3405         NaN         NaN          NaN          NaN          NaN   \n",
       "3406         NaN         NaN          NaN          NaN          NaN   \n",
       "\n",
       "      Unnamed: 73 Unnamed: 74 Unnamed: 75 Unnamed: 76  \n",
       "3402          NaN         NaN         NaN         NaN  \n",
       "3403          NaN         NaN         NaN         NaN  \n",
       "3404          NaN         NaN         NaN         NaN  \n",
       "3405          NaN         NaN         NaN         NaN  \n",
       "3406          NaN         NaN         NaN         NaN  \n",
       "\n",
       "[5 rows x 77 columns]"
      ]
     },
     "execution_count": 5,
     "metadata": {},
     "output_type": "execute_result"
    }
   ],
   "source": [
    "# Checking the last five rows of train data\n",
    "train_df.tail()"
   ]
  },
  {
   "cell_type": "code",
   "execution_count": 6,
   "metadata": {},
   "outputs": [
    {
     "data": {
      "text/plain": [
       "Index(['Procedure_TKR2.F_Company', 'Procedure_TKR2.F_Model',\n",
       "       'Procedure_TKR2.F_Details', 'Femur AP Dimension (mm)',\n",
       "       'Procedure_TKR2.T_Model', 'Procedure_TKR2.T_Details',\n",
       "       'Tibia ML Dimension (mm)', 'Procedure_TKR2.Pat_Model',\n",
       "       'Procedure_TKR2.Pat_Details', 'Procedure_TKR2.Poly_Model',\n",
       "       'Procedure_TKR2.Poly_Details', 'Procedure_TKR2.O1_Model',\n",
       "       'Procedure_TKR2.O1_Details', 'Demographics.Gender (0=Female, 1=Male)',\n",
       "       'Procedure_TKR.Height_cm', 'Procedure_TKR.Weight_kg',\n",
       "       'Procedure_TKR.BMI', 'Surgery_Main.Side', 'Surgery_Main.Procedure',\n",
       "       'Procedure_TKR.Primary_Diagnosis', 'Procedure_TKR.ASARisk',\n",
       "       'Procedure_TKR.Approach', 'Unnamed: 22', 'Unnamed: 23', 'Unnamed: 24',\n",
       "       'Unnamed: 25', 'Unnamed: 26', 'Unnamed: 27', 'Unnamed: 28',\n",
       "       'Unnamed: 29', 'Unnamed: 30', 'Unnamed: 31', 'Unnamed: 32',\n",
       "       'Unnamed: 33', 'Unnamed: 34', 'Unnamed: 35', 'Unnamed: 36',\n",
       "       'Unnamed: 37', 'Unnamed: 38', 'Unnamed: 39', 'Unnamed: 40',\n",
       "       'Unnamed: 41', 'Unnamed: 42', 'Unnamed: 43', 'Unnamed: 44',\n",
       "       'Unnamed: 45', 'Unnamed: 46', 'Unnamed: 47', 'Unnamed: 48',\n",
       "       'Unnamed: 49', 'Unnamed: 50', 'Unnamed: 51', 'Unnamed: 52',\n",
       "       'Unnamed: 53', 'Unnamed: 54', 'Unnamed: 55', 'Unnamed: 56',\n",
       "       'Unnamed: 57', 'Unnamed: 58', 'Unnamed: 59', 'Unnamed: 60',\n",
       "       'Unnamed: 61', 'Unnamed: 62', 'Unnamed: 63', 'Unnamed: 64',\n",
       "       'Unnamed: 65', 'Unnamed: 66', 'Unnamed: 67', 'Unnamed: 68',\n",
       "       'Unnamed: 69', 'Unnamed: 70', 'Unnamed: 71', 'Unnamed: 72',\n",
       "       'Unnamed: 73', 'Unnamed: 74', 'Unnamed: 75', 'Unnamed: 76'],\n",
       "      dtype='object')"
      ]
     },
     "execution_count": 6,
     "metadata": {},
     "output_type": "execute_result"
    }
   ],
   "source": [
    "# Checking the column names of train set\n",
    "train_df.columns"
   ]
  },
  {
   "cell_type": "code",
   "execution_count": 7,
   "metadata": {},
   "outputs": [
    {
     "data": {
      "text/html": [
       "<div>\n",
       "<style scoped>\n",
       "    .dataframe tbody tr th:only-of-type {\n",
       "        vertical-align: middle;\n",
       "    }\n",
       "\n",
       "    .dataframe tbody tr th {\n",
       "        vertical-align: top;\n",
       "    }\n",
       "\n",
       "    .dataframe thead th {\n",
       "        text-align: right;\n",
       "    }\n",
       "</style>\n",
       "<table border=\"1\" class=\"dataframe\">\n",
       "  <thead>\n",
       "    <tr style=\"text-align: right;\">\n",
       "      <th></th>\n",
       "      <th>age</th>\n",
       "      <th>right</th>\n",
       "      <th>Demographics.Gender (0=Female, 1=Male)</th>\n",
       "      <th>Procedure_TKR.BMI</th>\n",
       "      <th>Procedure_TKR.Weight_kg</th>\n",
       "      <th>Procedure_TKR.Height_cm</th>\n",
       "      <th>Femoral Model</th>\n",
       "      <th>Femur implanted</th>\n",
       "      <th>Tibial Model</th>\n",
       "      <th>Tibia Implanted</th>\n",
       "      <th>Unnamed: 10</th>\n",
       "    </tr>\n",
       "  </thead>\n",
       "  <tbody>\n",
       "    <tr>\n",
       "      <th>0</th>\n",
       "      <td>59</td>\n",
       "      <td>1</td>\n",
       "      <td>0.0</td>\n",
       "      <td>30.13</td>\n",
       "      <td>95.3</td>\n",
       "      <td>177.8</td>\n",
       "      <td>SN Legion Size 6</td>\n",
       "      <td>66.0</td>\n",
       "      <td>Genesis II size 5</td>\n",
       "      <td>74.0</td>\n",
       "      <td>NaN</td>\n",
       "    </tr>\n",
       "    <tr>\n",
       "      <th>1</th>\n",
       "      <td>42</td>\n",
       "      <td>0</td>\n",
       "      <td>1.0</td>\n",
       "      <td>32.49</td>\n",
       "      <td>100.2</td>\n",
       "      <td>173.2</td>\n",
       "      <td>SN Legion Size 7</td>\n",
       "      <td>70.0</td>\n",
       "      <td>Genesis II size 6</td>\n",
       "      <td>77.0</td>\n",
       "      <td>NaN</td>\n",
       "    </tr>\n",
       "    <tr>\n",
       "      <th>2</th>\n",
       "      <td>71</td>\n",
       "      <td>0</td>\n",
       "      <td>0.0</td>\n",
       "      <td>34.00</td>\n",
       "      <td>98.4</td>\n",
       "      <td>170.2</td>\n",
       "      <td>Stryker Triathlon Femoral 5</td>\n",
       "      <td>65.0</td>\n",
       "      <td>Stryker Triathlon Tibial 5</td>\n",
       "      <td>74.0</td>\n",
       "      <td>NaN</td>\n",
       "    </tr>\n",
       "    <tr>\n",
       "      <th>3</th>\n",
       "      <td>83</td>\n",
       "      <td>0</td>\n",
       "      <td>0.0</td>\n",
       "      <td>24.27</td>\n",
       "      <td>62.1</td>\n",
       "      <td>160.0</td>\n",
       "      <td>SN Legion Size 4</td>\n",
       "      <td>59.0</td>\n",
       "      <td>Genesis II size 2</td>\n",
       "      <td>64.0</td>\n",
       "      <td>NaN</td>\n",
       "    </tr>\n",
       "    <tr>\n",
       "      <th>4</th>\n",
       "      <td>56</td>\n",
       "      <td>1</td>\n",
       "      <td>1.0</td>\n",
       "      <td>49.51</td>\n",
       "      <td>161.0</td>\n",
       "      <td>180.3</td>\n",
       "      <td>Stryker Triathlon Femoral 8</td>\n",
       "      <td>75.0</td>\n",
       "      <td>Stryker Triathlon Tibial 7</td>\n",
       "      <td>80.0</td>\n",
       "      <td>NaN</td>\n",
       "    </tr>\n",
       "  </tbody>\n",
       "</table>\n",
       "</div>"
      ],
      "text/plain": [
       "  age right  Demographics.Gender (0=Female, 1=Male)  Procedure_TKR.BMI  \\\n",
       "0  59     1                                     0.0              30.13   \n",
       "1  42     0                                     1.0              32.49   \n",
       "2  71     0                                     0.0              34.00   \n",
       "3  83     0                                     0.0              24.27   \n",
       "4  56     1                                     1.0              49.51   \n",
       "\n",
       "   Procedure_TKR.Weight_kg  Procedure_TKR.Height_cm  \\\n",
       "0                     95.3                    177.8   \n",
       "1                    100.2                    173.2   \n",
       "2                     98.4                    170.2   \n",
       "3                     62.1                    160.0   \n",
       "4                    161.0                    180.3   \n",
       "\n",
       "                 Femoral Model  Femur implanted                Tibial Model  \\\n",
       "0             SN Legion Size 6             66.0           Genesis II size 5   \n",
       "1             SN Legion Size 7             70.0           Genesis II size 6   \n",
       "2  Stryker Triathlon Femoral 5             65.0  Stryker Triathlon Tibial 5   \n",
       "3             SN Legion Size 4             59.0           Genesis II size 2   \n",
       "4  Stryker Triathlon Femoral 8             75.0  Stryker Triathlon Tibial 7   \n",
       "\n",
       "   Tibia Implanted  Unnamed: 10  \n",
       "0             74.0          NaN  \n",
       "1             77.0          NaN  \n",
       "2             74.0          NaN  \n",
       "3             64.0          NaN  \n",
       "4             80.0          NaN  "
      ]
     },
     "execution_count": 7,
     "metadata": {},
     "output_type": "execute_result"
    }
   ],
   "source": [
    "# Displaying the first five rows of test set\n",
    "test_df.head()"
   ]
  },
  {
   "cell_type": "code",
   "execution_count": 8,
   "metadata": {},
   "outputs": [
    {
     "data": {
      "text/plain": [
       "1016"
      ]
     },
     "execution_count": 8,
     "metadata": {},
     "output_type": "execute_result"
    }
   ],
   "source": [
    "# Checking the length of test set\n",
    "len(test_df)"
   ]
  },
  {
   "cell_type": "code",
   "execution_count": 9,
   "metadata": {},
   "outputs": [
    {
     "data": {
      "text/html": [
       "<div>\n",
       "<style scoped>\n",
       "    .dataframe tbody tr th:only-of-type {\n",
       "        vertical-align: middle;\n",
       "    }\n",
       "\n",
       "    .dataframe tbody tr th {\n",
       "        vertical-align: top;\n",
       "    }\n",
       "\n",
       "    .dataframe thead th {\n",
       "        text-align: right;\n",
       "    }\n",
       "</style>\n",
       "<table border=\"1\" class=\"dataframe\">\n",
       "  <thead>\n",
       "    <tr style=\"text-align: right;\">\n",
       "      <th></th>\n",
       "      <th>Femur AP Dimension (mm)</th>\n",
       "      <th>Tibia ML Dimension (mm)</th>\n",
       "      <th>Demographics.Gender (0=Female, 1=Male)</th>\n",
       "      <th>Procedure_TKR.Height_cm</th>\n",
       "      <th>Procedure_TKR.Weight_kg</th>\n",
       "      <th>Procedure_TKR.BMI</th>\n",
       "      <th>Unnamed: 23</th>\n",
       "      <th>Unnamed: 24</th>\n",
       "      <th>Unnamed: 25</th>\n",
       "      <th>Unnamed: 26</th>\n",
       "      <th>...</th>\n",
       "      <th>Unnamed: 67</th>\n",
       "      <th>Unnamed: 68</th>\n",
       "      <th>Unnamed: 69</th>\n",
       "      <th>Unnamed: 70</th>\n",
       "      <th>Unnamed: 71</th>\n",
       "      <th>Unnamed: 72</th>\n",
       "      <th>Unnamed: 73</th>\n",
       "      <th>Unnamed: 74</th>\n",
       "      <th>Unnamed: 75</th>\n",
       "      <th>Unnamed: 76</th>\n",
       "    </tr>\n",
       "  </thead>\n",
       "  <tbody>\n",
       "    <tr>\n",
       "      <th>count</th>\n",
       "      <td>3389.000000</td>\n",
       "      <td>3384.000000</td>\n",
       "      <td>3400.000000</td>\n",
       "      <td>3393.000000</td>\n",
       "      <td>3399.000000</td>\n",
       "      <td>3385.000000</td>\n",
       "      <td>0.0</td>\n",
       "      <td>0.0</td>\n",
       "      <td>0.0</td>\n",
       "      <td>0.0</td>\n",
       "      <td>...</td>\n",
       "      <td>0.0</td>\n",
       "      <td>0.0</td>\n",
       "      <td>0.0</td>\n",
       "      <td>0.0</td>\n",
       "      <td>0.0</td>\n",
       "      <td>0.0</td>\n",
       "      <td>0.0</td>\n",
       "      <td>0.0</td>\n",
       "      <td>0.0</td>\n",
       "      <td>0.0</td>\n",
       "    </tr>\n",
       "    <tr>\n",
       "      <th>mean</th>\n",
       "      <td>64.445117</td>\n",
       "      <td>72.255496</td>\n",
       "      <td>0.372647</td>\n",
       "      <td>168.853248</td>\n",
       "      <td>96.577129</td>\n",
       "      <td>35.346689</td>\n",
       "      <td>NaN</td>\n",
       "      <td>NaN</td>\n",
       "      <td>NaN</td>\n",
       "      <td>NaN</td>\n",
       "      <td>...</td>\n",
       "      <td>NaN</td>\n",
       "      <td>NaN</td>\n",
       "      <td>NaN</td>\n",
       "      <td>NaN</td>\n",
       "      <td>NaN</td>\n",
       "      <td>NaN</td>\n",
       "      <td>NaN</td>\n",
       "      <td>NaN</td>\n",
       "      <td>NaN</td>\n",
       "      <td>NaN</td>\n",
       "    </tr>\n",
       "    <tr>\n",
       "      <th>std</th>\n",
       "      <td>56.865458</td>\n",
       "      <td>57.014339</td>\n",
       "      <td>0.483580</td>\n",
       "      <td>56.762893</td>\n",
       "      <td>61.697155</td>\n",
       "      <td>29.581954</td>\n",
       "      <td>NaN</td>\n",
       "      <td>NaN</td>\n",
       "      <td>NaN</td>\n",
       "      <td>NaN</td>\n",
       "      <td>...</td>\n",
       "      <td>NaN</td>\n",
       "      <td>NaN</td>\n",
       "      <td>NaN</td>\n",
       "      <td>NaN</td>\n",
       "      <td>NaN</td>\n",
       "      <td>NaN</td>\n",
       "      <td>NaN</td>\n",
       "      <td>NaN</td>\n",
       "      <td>NaN</td>\n",
       "      <td>NaN</td>\n",
       "    </tr>\n",
       "    <tr>\n",
       "      <th>min</th>\n",
       "      <td>52.300000</td>\n",
       "      <td>43.000000</td>\n",
       "      <td>0.000000</td>\n",
       "      <td>0.000000</td>\n",
       "      <td>0.000000</td>\n",
       "      <td>12.771436</td>\n",
       "      <td>NaN</td>\n",
       "      <td>NaN</td>\n",
       "      <td>NaN</td>\n",
       "      <td>NaN</td>\n",
       "      <td>...</td>\n",
       "      <td>NaN</td>\n",
       "      <td>NaN</td>\n",
       "      <td>NaN</td>\n",
       "      <td>NaN</td>\n",
       "      <td>NaN</td>\n",
       "      <td>NaN</td>\n",
       "      <td>NaN</td>\n",
       "      <td>NaN</td>\n",
       "      <td>NaN</td>\n",
       "      <td>NaN</td>\n",
       "    </tr>\n",
       "    <tr>\n",
       "      <th>25%</th>\n",
       "      <td>59.600000</td>\n",
       "      <td>66.000000</td>\n",
       "      <td>0.000000</td>\n",
       "      <td>160.020000</td>\n",
       "      <td>78.000000</td>\n",
       "      <td>27.896468</td>\n",
       "      <td>NaN</td>\n",
       "      <td>NaN</td>\n",
       "      <td>NaN</td>\n",
       "      <td>NaN</td>\n",
       "      <td>...</td>\n",
       "      <td>NaN</td>\n",
       "      <td>NaN</td>\n",
       "      <td>NaN</td>\n",
       "      <td>NaN</td>\n",
       "      <td>NaN</td>\n",
       "      <td>NaN</td>\n",
       "      <td>NaN</td>\n",
       "      <td>NaN</td>\n",
       "      <td>NaN</td>\n",
       "      <td>NaN</td>\n",
       "    </tr>\n",
       "    <tr>\n",
       "      <th>50%</th>\n",
       "      <td>63.500000</td>\n",
       "      <td>71.000000</td>\n",
       "      <td>0.000000</td>\n",
       "      <td>167.640000</td>\n",
       "      <td>92.300000</td>\n",
       "      <td>32.227499</td>\n",
       "      <td>NaN</td>\n",
       "      <td>NaN</td>\n",
       "      <td>NaN</td>\n",
       "      <td>NaN</td>\n",
       "      <td>...</td>\n",
       "      <td>NaN</td>\n",
       "      <td>NaN</td>\n",
       "      <td>NaN</td>\n",
       "      <td>NaN</td>\n",
       "      <td>NaN</td>\n",
       "      <td>NaN</td>\n",
       "      <td>NaN</td>\n",
       "      <td>NaN</td>\n",
       "      <td>NaN</td>\n",
       "      <td>NaN</td>\n",
       "    </tr>\n",
       "    <tr>\n",
       "      <th>75%</th>\n",
       "      <td>66.200000</td>\n",
       "      <td>75.100000</td>\n",
       "      <td>1.000000</td>\n",
       "      <td>175.260000</td>\n",
       "      <td>109.090000</td>\n",
       "      <td>37.966465</td>\n",
       "      <td>NaN</td>\n",
       "      <td>NaN</td>\n",
       "      <td>NaN</td>\n",
       "      <td>NaN</td>\n",
       "      <td>...</td>\n",
       "      <td>NaN</td>\n",
       "      <td>NaN</td>\n",
       "      <td>NaN</td>\n",
       "      <td>NaN</td>\n",
       "      <td>NaN</td>\n",
       "      <td>NaN</td>\n",
       "      <td>NaN</td>\n",
       "      <td>NaN</td>\n",
       "      <td>NaN</td>\n",
       "      <td>NaN</td>\n",
       "    </tr>\n",
       "    <tr>\n",
       "      <th>max</th>\n",
       "      <td>3363.000000</td>\n",
       "      <td>3371.000000</td>\n",
       "      <td>1.000000</td>\n",
       "      <td>3377.000000</td>\n",
       "      <td>3377.000000</td>\n",
       "      <td>622.558594</td>\n",
       "      <td>NaN</td>\n",
       "      <td>NaN</td>\n",
       "      <td>NaN</td>\n",
       "      <td>NaN</td>\n",
       "      <td>...</td>\n",
       "      <td>NaN</td>\n",
       "      <td>NaN</td>\n",
       "      <td>NaN</td>\n",
       "      <td>NaN</td>\n",
       "      <td>NaN</td>\n",
       "      <td>NaN</td>\n",
       "      <td>NaN</td>\n",
       "      <td>NaN</td>\n",
       "      <td>NaN</td>\n",
       "      <td>NaN</td>\n",
       "    </tr>\n",
       "  </tbody>\n",
       "</table>\n",
       "<p>8 rows × 60 columns</p>\n",
       "</div>"
      ],
      "text/plain": [
       "       Femur AP Dimension (mm)  Tibia ML Dimension (mm)  \\\n",
       "count              3389.000000              3384.000000   \n",
       "mean                 64.445117                72.255496   \n",
       "std                  56.865458                57.014339   \n",
       "min                  52.300000                43.000000   \n",
       "25%                  59.600000                66.000000   \n",
       "50%                  63.500000                71.000000   \n",
       "75%                  66.200000                75.100000   \n",
       "max                3363.000000              3371.000000   \n",
       "\n",
       "       Demographics.Gender (0=Female, 1=Male)  Procedure_TKR.Height_cm  \\\n",
       "count                             3400.000000              3393.000000   \n",
       "mean                                 0.372647               168.853248   \n",
       "std                                  0.483580                56.762893   \n",
       "min                                  0.000000                 0.000000   \n",
       "25%                                  0.000000               160.020000   \n",
       "50%                                  0.000000               167.640000   \n",
       "75%                                  1.000000               175.260000   \n",
       "max                                  1.000000              3377.000000   \n",
       "\n",
       "       Procedure_TKR.Weight_kg  Procedure_TKR.BMI  Unnamed: 23  Unnamed: 24  \\\n",
       "count              3399.000000        3385.000000          0.0          0.0   \n",
       "mean                 96.577129          35.346689          NaN          NaN   \n",
       "std                  61.697155          29.581954          NaN          NaN   \n",
       "min                   0.000000          12.771436          NaN          NaN   \n",
       "25%                  78.000000          27.896468          NaN          NaN   \n",
       "50%                  92.300000          32.227499          NaN          NaN   \n",
       "75%                 109.090000          37.966465          NaN          NaN   \n",
       "max                3377.000000         622.558594          NaN          NaN   \n",
       "\n",
       "       Unnamed: 25  Unnamed: 26  ...  Unnamed: 67  Unnamed: 68  Unnamed: 69  \\\n",
       "count          0.0          0.0  ...          0.0          0.0          0.0   \n",
       "mean           NaN          NaN  ...          NaN          NaN          NaN   \n",
       "std            NaN          NaN  ...          NaN          NaN          NaN   \n",
       "min            NaN          NaN  ...          NaN          NaN          NaN   \n",
       "25%            NaN          NaN  ...          NaN          NaN          NaN   \n",
       "50%            NaN          NaN  ...          NaN          NaN          NaN   \n",
       "75%            NaN          NaN  ...          NaN          NaN          NaN   \n",
       "max            NaN          NaN  ...          NaN          NaN          NaN   \n",
       "\n",
       "       Unnamed: 70  Unnamed: 71  Unnamed: 72  Unnamed: 73  Unnamed: 74  \\\n",
       "count          0.0          0.0          0.0          0.0          0.0   \n",
       "mean           NaN          NaN          NaN          NaN          NaN   \n",
       "std            NaN          NaN          NaN          NaN          NaN   \n",
       "min            NaN          NaN          NaN          NaN          NaN   \n",
       "25%            NaN          NaN          NaN          NaN          NaN   \n",
       "50%            NaN          NaN          NaN          NaN          NaN   \n",
       "75%            NaN          NaN          NaN          NaN          NaN   \n",
       "max            NaN          NaN          NaN          NaN          NaN   \n",
       "\n",
       "       Unnamed: 75  Unnamed: 76  \n",
       "count          0.0          0.0  \n",
       "mean           NaN          NaN  \n",
       "std            NaN          NaN  \n",
       "min            NaN          NaN  \n",
       "25%            NaN          NaN  \n",
       "50%            NaN          NaN  \n",
       "75%            NaN          NaN  \n",
       "max            NaN          NaN  \n",
       "\n",
       "[8 rows x 60 columns]"
      ]
     },
     "execution_count": 9,
     "metadata": {},
     "output_type": "execute_result"
    }
   ],
   "source": [
    "# Summary statistics\n",
    "train_df.describe()"
   ]
  },
  {
   "cell_type": "code",
   "execution_count": 10,
   "metadata": {},
   "outputs": [
    {
     "data": {
      "text/plain": [
       "77"
      ]
     },
     "execution_count": 10,
     "metadata": {},
     "output_type": "execute_result"
    }
   ],
   "source": [
    "# Counting the number of columns\n",
    "len(train_df.columns)"
   ]
  },
  {
   "cell_type": "code",
   "execution_count": 11,
   "metadata": {},
   "outputs": [
    {
     "data": {
      "text/html": [
       "<div>\n",
       "<style scoped>\n",
       "    .dataframe tbody tr th:only-of-type {\n",
       "        vertical-align: middle;\n",
       "    }\n",
       "\n",
       "    .dataframe tbody tr th {\n",
       "        vertical-align: top;\n",
       "    }\n",
       "\n",
       "    .dataframe thead th {\n",
       "        text-align: right;\n",
       "    }\n",
       "</style>\n",
       "<table border=\"1\" class=\"dataframe\">\n",
       "  <thead>\n",
       "    <tr style=\"text-align: right;\">\n",
       "      <th></th>\n",
       "      <th>Demographics.Gender (0=Female, 1=Male)</th>\n",
       "      <th>Procedure_TKR.BMI</th>\n",
       "      <th>Procedure_TKR.Weight_kg</th>\n",
       "      <th>Procedure_TKR.Height_cm</th>\n",
       "      <th>Femur implanted</th>\n",
       "      <th>Tibia Implanted</th>\n",
       "      <th>Unnamed: 10</th>\n",
       "    </tr>\n",
       "  </thead>\n",
       "  <tbody>\n",
       "    <tr>\n",
       "      <th>count</th>\n",
       "      <td>496.000000</td>\n",
       "      <td>490.000000</td>\n",
       "      <td>491.000000</td>\n",
       "      <td>491.000000</td>\n",
       "      <td>491.000000</td>\n",
       "      <td>488.000000</td>\n",
       "      <td>0.0</td>\n",
       "    </tr>\n",
       "    <tr>\n",
       "      <th>mean</th>\n",
       "      <td>0.389113</td>\n",
       "      <td>33.332373</td>\n",
       "      <td>95.979063</td>\n",
       "      <td>169.359898</td>\n",
       "      <td>64.157434</td>\n",
       "      <td>71.393033</td>\n",
       "      <td>NaN</td>\n",
       "    </tr>\n",
       "    <tr>\n",
       "      <th>std</th>\n",
       "      <td>0.488041</td>\n",
       "      <td>6.857739</td>\n",
       "      <td>23.122266</td>\n",
       "      <td>11.086556</td>\n",
       "      <td>5.047097</td>\n",
       "      <td>5.876109</td>\n",
       "      <td>NaN</td>\n",
       "    </tr>\n",
       "    <tr>\n",
       "      <th>min</th>\n",
       "      <td>0.000000</td>\n",
       "      <td>18.959000</td>\n",
       "      <td>44.900000</td>\n",
       "      <td>139.700000</td>\n",
       "      <td>51.900000</td>\n",
       "      <td>58.000000</td>\n",
       "      <td>NaN</td>\n",
       "    </tr>\n",
       "    <tr>\n",
       "      <th>25%</th>\n",
       "      <td>0.000000</td>\n",
       "      <td>28.638000</td>\n",
       "      <td>80.300000</td>\n",
       "      <td>160.000000</td>\n",
       "      <td>59.600000</td>\n",
       "      <td>66.000000</td>\n",
       "      <td>NaN</td>\n",
       "    </tr>\n",
       "    <tr>\n",
       "      <th>50%</th>\n",
       "      <td>0.000000</td>\n",
       "      <td>32.289500</td>\n",
       "      <td>93.400000</td>\n",
       "      <td>167.710000</td>\n",
       "      <td>63.000000</td>\n",
       "      <td>71.000000</td>\n",
       "      <td>NaN</td>\n",
       "    </tr>\n",
       "    <tr>\n",
       "      <th>75%</th>\n",
       "      <td>1.000000</td>\n",
       "      <td>37.459250</td>\n",
       "      <td>108.700000</td>\n",
       "      <td>177.800000</td>\n",
       "      <td>67.350000</td>\n",
       "      <td>75.000000</td>\n",
       "      <td>NaN</td>\n",
       "    </tr>\n",
       "    <tr>\n",
       "      <th>max</th>\n",
       "      <td>1.000000</td>\n",
       "      <td>62.980000</td>\n",
       "      <td>195.000000</td>\n",
       "      <td>195.600000</td>\n",
       "      <td>77.500000</td>\n",
       "      <td>87.000000</td>\n",
       "      <td>NaN</td>\n",
       "    </tr>\n",
       "  </tbody>\n",
       "</table>\n",
       "</div>"
      ],
      "text/plain": [
       "       Demographics.Gender (0=Female, 1=Male)  Procedure_TKR.BMI  \\\n",
       "count                              496.000000         490.000000   \n",
       "mean                                 0.389113          33.332373   \n",
       "std                                  0.488041           6.857739   \n",
       "min                                  0.000000          18.959000   \n",
       "25%                                  0.000000          28.638000   \n",
       "50%                                  0.000000          32.289500   \n",
       "75%                                  1.000000          37.459250   \n",
       "max                                  1.000000          62.980000   \n",
       "\n",
       "       Procedure_TKR.Weight_kg  Procedure_TKR.Height_cm  Femur implanted  \\\n",
       "count               491.000000               491.000000       491.000000   \n",
       "mean                 95.979063               169.359898        64.157434   \n",
       "std                  23.122266                11.086556         5.047097   \n",
       "min                  44.900000               139.700000        51.900000   \n",
       "25%                  80.300000               160.000000        59.600000   \n",
       "50%                  93.400000               167.710000        63.000000   \n",
       "75%                 108.700000               177.800000        67.350000   \n",
       "max                 195.000000               195.600000        77.500000   \n",
       "\n",
       "       Tibia Implanted  Unnamed: 10  \n",
       "count       488.000000          0.0  \n",
       "mean         71.393033          NaN  \n",
       "std           5.876109          NaN  \n",
       "min          58.000000          NaN  \n",
       "25%          66.000000          NaN  \n",
       "50%          71.000000          NaN  \n",
       "75%          75.000000          NaN  \n",
       "max          87.000000          NaN  "
      ]
     },
     "execution_count": 11,
     "metadata": {},
     "output_type": "execute_result"
    }
   ],
   "source": [
    "# Summary statistics for test set\n",
    "test_df.describe()"
   ]
  },
  {
   "cell_type": "code",
   "execution_count": 12,
   "metadata": {},
   "outputs": [
    {
     "data": {
      "text/plain": [
       "Index(['age', 'right', 'Demographics.Gender (0=Female, 1=Male)',\n",
       "       'Procedure_TKR.BMI', 'Procedure_TKR.Weight_kg',\n",
       "       'Procedure_TKR.Height_cm', 'Femoral Model', 'Femur implanted',\n",
       "       'Tibial Model', 'Tibia Implanted', 'Unnamed: 10'],\n",
       "      dtype='object')"
      ]
     },
     "execution_count": 12,
     "metadata": {},
     "output_type": "execute_result"
    }
   ],
   "source": [
    "# Checking column names for test set\n",
    "test_df.columns"
   ]
  },
  {
   "cell_type": "code",
   "execution_count": 13,
   "metadata": {},
   "outputs": [
    {
     "data": {
      "text/plain": [
       "11"
      ]
     },
     "execution_count": 13,
     "metadata": {},
     "output_type": "execute_result"
    }
   ],
   "source": [
    "# Number of columns of test set\n",
    "len(test_df.columns)"
   ]
  },
  {
   "cell_type": "code",
   "execution_count": 14,
   "metadata": {},
   "outputs": [
    {
     "data": {
      "text/plain": [
       "age                                        object\n",
       "right                                      object\n",
       "Demographics.Gender (0=Female, 1=Male)    float64\n",
       "Procedure_TKR.BMI                         float64\n",
       "Procedure_TKR.Weight_kg                   float64\n",
       "Procedure_TKR.Height_cm                   float64\n",
       "Femoral Model                              object\n",
       "Femur implanted                           float64\n",
       "Tibial Model                               object\n",
       "Tibia Implanted                           float64\n",
       "Unnamed: 10                               float64\n",
       "dtype: object"
      ]
     },
     "execution_count": 14,
     "metadata": {},
     "output_type": "execute_result"
    }
   ],
   "source": [
    "# Checking the datatypes\n",
    "test_df.dtypes"
   ]
  },
  {
   "cell_type": "code",
   "execution_count": 15,
   "metadata": {},
   "outputs": [
    {
     "data": {
      "text/plain": [
       "0        59\n",
       "1        42\n",
       "2        71\n",
       "3        83\n",
       "4        56\n",
       "       ... \n",
       "1011    NaN\n",
       "1012    NaN\n",
       "1013    NaN\n",
       "1014    NaN\n",
       "1015    NaN\n",
       "Name: age, Length: 1016, dtype: object"
      ]
     },
     "execution_count": 15,
     "metadata": {},
     "output_type": "execute_result"
    }
   ],
   "source": [
    "# Checking variable age in test data\n",
    "test_df['age']"
   ]
  },
  {
   "cell_type": "code",
   "execution_count": 16,
   "metadata": {},
   "outputs": [
    {
     "data": {
      "text/plain": [
       "Procedure_TKR2.F_Company     object\n",
       "Procedure_TKR2.F_Model       object\n",
       "Procedure_TKR2.F_Details     object\n",
       "Femur AP Dimension (mm)     float64\n",
       "Procedure_TKR2.T_Model       object\n",
       "                             ...   \n",
       "Unnamed: 72                 float64\n",
       "Unnamed: 73                 float64\n",
       "Unnamed: 74                 float64\n",
       "Unnamed: 75                 float64\n",
       "Unnamed: 76                 float64\n",
       "Length: 77, dtype: object"
      ]
     },
     "execution_count": 16,
     "metadata": {},
     "output_type": "execute_result"
    }
   ],
   "source": [
    "# Data types for train set\n",
    "train_df.dtypes"
   ]
  },
  {
   "cell_type": "code",
   "execution_count": 17,
   "metadata": {},
   "outputs": [
    {
     "data": {
      "text/plain": [
       "Procedure_TKR2.F_Company       5\n",
       "Procedure_TKR2.F_Model         9\n",
       "Procedure_TKR2.F_Details      11\n",
       "Femur AP Dimension (mm)       18\n",
       "Procedure_TKR2.T_Model        11\n",
       "                            ... \n",
       "Unnamed: 72                 3407\n",
       "Unnamed: 73                 3407\n",
       "Unnamed: 74                 3407\n",
       "Unnamed: 75                 3407\n",
       "Unnamed: 76                 3407\n",
       "Length: 77, dtype: int64"
      ]
     },
     "execution_count": 17,
     "metadata": {},
     "output_type": "execute_result"
    }
   ],
   "source": [
    "# Checking missing values\n",
    "train_df.isna().sum()"
   ]
  },
  {
   "cell_type": "code",
   "execution_count": 18,
   "metadata": {},
   "outputs": [
    {
     "data": {
      "text/plain": [
       "float64    60\n",
       "object     17\n",
       "dtype: int64"
      ]
     },
     "metadata": {},
     "output_type": "display_data"
    }
   ],
   "source": [
    "# checking the value counts of each data type \n",
    "display(train_df.dtypes.value_counts())"
   ]
  },
  {
   "cell_type": "code",
   "execution_count": 19,
   "metadata": {},
   "outputs": [
    {
     "data": {
      "text/plain": [
       "float64    7\n",
       "object     4\n",
       "dtype: int64"
      ]
     },
     "metadata": {},
     "output_type": "display_data"
    }
   ],
   "source": [
    "display(test_df.dtypes.value_counts())"
   ]
  },
  {
   "cell_type": "code",
   "execution_count": 20,
   "metadata": {},
   "outputs": [
    {
     "data": {
      "text/plain": [
       "14"
      ]
     },
     "execution_count": 20,
     "metadata": {},
     "output_type": "execute_result"
    }
   ],
   "source": [
    "# Checking missing values for each variable that will be used\n",
    "train_df['Procedure_TKR.Height_cm'].isna().sum()"
   ]
  },
  {
   "cell_type": "code",
   "execution_count": 21,
   "metadata": {},
   "outputs": [
    {
     "data": {
      "text/plain": [
       "8"
      ]
     },
     "execution_count": 21,
     "metadata": {},
     "output_type": "execute_result"
    }
   ],
   "source": [
    "train_df['Procedure_TKR.Weight_kg'].isna().sum()"
   ]
  },
  {
   "cell_type": "code",
   "execution_count": 22,
   "metadata": {},
   "outputs": [
    {
     "data": {
      "text/plain": [
       "7"
      ]
     },
     "execution_count": 22,
     "metadata": {},
     "output_type": "execute_result"
    }
   ],
   "source": [
    "train_df['Demographics.Gender (0=Female, 1=Male)'].isna().sum()"
   ]
  },
  {
   "cell_type": "code",
   "execution_count": 23,
   "metadata": {},
   "outputs": [
    {
     "data": {
      "text/plain": [
       "23"
      ]
     },
     "execution_count": 23,
     "metadata": {},
     "output_type": "execute_result"
    }
   ],
   "source": [
    "train_df['Tibia ML Dimension (mm)'].isna().sum()"
   ]
  },
  {
   "cell_type": "code",
   "execution_count": 24,
   "metadata": {},
   "outputs": [
    {
     "data": {
      "text/plain": [
       "18"
      ]
     },
     "execution_count": 24,
     "metadata": {},
     "output_type": "execute_result"
    }
   ],
   "source": [
    "train_df['Femur AP Dimension (mm)'].isna().sum()"
   ]
  },
  {
   "cell_type": "code",
   "execution_count": 25,
   "metadata": {},
   "outputs": [
    {
     "data": {
      "text/plain": [
       "dtype('float64')"
      ]
     },
     "execution_count": 25,
     "metadata": {},
     "output_type": "execute_result"
    }
   ],
   "source": [
    "train_df['Demographics.Gender (0=Female, 1=Male)'].dtype"
   ]
  },
  {
   "cell_type": "code",
   "execution_count": 26,
   "metadata": {},
   "outputs": [
    {
     "name": "stdout",
     "output_type": "stream",
     "text": [
      "[ 0. nan  1.]\n"
     ]
    }
   ],
   "source": [
    "# Checking the levels in the categorical variable gender.\n",
    "print (train_df['Demographics.Gender (0=Female, 1=Male)'].unique())"
   ]
  },
  {
   "cell_type": "code",
   "execution_count": 27,
   "metadata": {},
   "outputs": [],
   "source": [
    "# Slicing the data to remain with desired variables\n",
    "train_data=train_df.loc[:,['Procedure_TKR.Height_cm','Procedure_TKR.Weight_kg','Demographics.Gender (0=Female, 1=Male)','Tibia ML Dimension (mm)',\n",
    "                          'Femur AP Dimension (mm)']]"
   ]
  },
  {
   "cell_type": "code",
   "execution_count": 28,
   "metadata": {},
   "outputs": [],
   "source": [
    "# Dropping null values on variable gender\n",
    "train_data = train_data.dropna(subset=['Demographics.Gender (0=Female, 1=Male)'])"
   ]
  },
  {
   "cell_type": "code",
   "execution_count": 29,
   "metadata": {},
   "outputs": [
    {
     "data": {
      "text/html": [
       "<div>\n",
       "<style scoped>\n",
       "    .dataframe tbody tr th:only-of-type {\n",
       "        vertical-align: middle;\n",
       "    }\n",
       "\n",
       "    .dataframe tbody tr th {\n",
       "        vertical-align: top;\n",
       "    }\n",
       "\n",
       "    .dataframe thead th {\n",
       "        text-align: right;\n",
       "    }\n",
       "</style>\n",
       "<table border=\"1\" class=\"dataframe\">\n",
       "  <thead>\n",
       "    <tr style=\"text-align: right;\">\n",
       "      <th></th>\n",
       "      <th>Procedure_TKR.Height_cm</th>\n",
       "      <th>Procedure_TKR.Weight_kg</th>\n",
       "      <th>Demographics.Gender (0=Female, 1=Male)</th>\n",
       "      <th>Tibia ML Dimension (mm)</th>\n",
       "      <th>Femur AP Dimension (mm)</th>\n",
       "    </tr>\n",
       "  </thead>\n",
       "  <tbody>\n",
       "    <tr>\n",
       "      <th>0</th>\n",
       "      <td>60.00</td>\n",
       "      <td>58.64</td>\n",
       "      <td>0.0</td>\n",
       "      <td>63.8</td>\n",
       "      <td>60.4</td>\n",
       "    </tr>\n",
       "    <tr>\n",
       "      <th>1</th>\n",
       "      <td>116.84</td>\n",
       "      <td>62.20</td>\n",
       "      <td>0.0</td>\n",
       "      <td>58.0</td>\n",
       "      <td>53.5</td>\n",
       "    </tr>\n",
       "    <tr>\n",
       "      <th>2</th>\n",
       "      <td>127.00</td>\n",
       "      <td>52.00</td>\n",
       "      <td>0.0</td>\n",
       "      <td>66.0</td>\n",
       "      <td>57.5</td>\n",
       "    </tr>\n",
       "    <tr>\n",
       "      <th>3</th>\n",
       "      <td>124.46</td>\n",
       "      <td>68.64</td>\n",
       "      <td>0.0</td>\n",
       "      <td>66.0</td>\n",
       "      <td>65.3</td>\n",
       "    </tr>\n",
       "    <tr>\n",
       "      <th>4</th>\n",
       "      <td>121.92</td>\n",
       "      <td>75.00</td>\n",
       "      <td>0.0</td>\n",
       "      <td>67.0</td>\n",
       "      <td>60.8</td>\n",
       "    </tr>\n",
       "  </tbody>\n",
       "</table>\n",
       "</div>"
      ],
      "text/plain": [
       "   Procedure_TKR.Height_cm  Procedure_TKR.Weight_kg  \\\n",
       "0                    60.00                    58.64   \n",
       "1                   116.84                    62.20   \n",
       "2                   127.00                    52.00   \n",
       "3                   124.46                    68.64   \n",
       "4                   121.92                    75.00   \n",
       "\n",
       "   Demographics.Gender (0=Female, 1=Male)  Tibia ML Dimension (mm)  \\\n",
       "0                                     0.0                     63.8   \n",
       "1                                     0.0                     58.0   \n",
       "2                                     0.0                     66.0   \n",
       "3                                     0.0                     66.0   \n",
       "4                                     0.0                     67.0   \n",
       "\n",
       "   Femur AP Dimension (mm)  \n",
       "0                     60.4  \n",
       "1                     53.5  \n",
       "2                     57.5  \n",
       "3                     65.3  \n",
       "4                     60.8  "
      ]
     },
     "execution_count": 29,
     "metadata": {},
     "output_type": "execute_result"
    }
   ],
   "source": [
    "train_data.head()"
   ]
  },
  {
   "cell_type": "code",
   "execution_count": 30,
   "metadata": {},
   "outputs": [],
   "source": [
    "# train_data=train_data.astype({'Demographics.Gender (0=Female, 1=Male)': 'int32'})"
   ]
  },
  {
   "cell_type": "code",
   "execution_count": 31,
   "metadata": {},
   "outputs": [
    {
     "data": {
      "text/plain": [
       "3400"
      ]
     },
     "execution_count": 31,
     "metadata": {},
     "output_type": "execute_result"
    }
   ],
   "source": [
    "# Checking the length of train set after deopping null values in train set\n",
    "len(train_data)"
   ]
  },
  {
   "cell_type": "code",
   "execution_count": 32,
   "metadata": {},
   "outputs": [
    {
     "data": {
      "text/plain": [
       "Procedure_TKR.Height_cm                   float64\n",
       "Procedure_TKR.Weight_kg                   float64\n",
       "Demographics.Gender (0=Female, 1=Male)    float64\n",
       "Tibia ML Dimension (mm)                   float64\n",
       "Femur AP Dimension (mm)                   float64\n",
       "dtype: object"
      ]
     },
     "execution_count": 32,
     "metadata": {},
     "output_type": "execute_result"
    }
   ],
   "source": [
    "train_data.dtypes"
   ]
  },
  {
   "cell_type": "code",
   "execution_count": 33,
   "metadata": {},
   "outputs": [
    {
     "data": {
      "text/plain": [
       "Procedure_TKR.Height_cm                    9\n",
       "Procedure_TKR.Weight_kg                    3\n",
       "Demographics.Gender (0=Female, 1=Male)     0\n",
       "Tibia ML Dimension (mm)                   19\n",
       "Femur AP Dimension (mm)                   14\n",
       "dtype: int64"
      ]
     },
     "execution_count": 33,
     "metadata": {},
     "output_type": "execute_result"
    }
   ],
   "source": [
    "train_data.isna().sum()"
   ]
  },
  {
   "cell_type": "code",
   "execution_count": 34,
   "metadata": {},
   "outputs": [],
   "source": [
    "# Imputing missing values\n",
    "# K-NN IMPUTATION\n",
    "#  KNN Imputer maintains the value and variability of your datasets and yet it is more precise and efficient than using the average values.\n",
    "from sklearn.impute import KNNImputer\n",
    "imputer = KNNImputer(n_neighbors=5)\n",
    "train_data = pd.DataFrame(imputer.fit_transform(train_data),columns = train_data.columns)"
   ]
  },
  {
   "cell_type": "code",
   "execution_count": 35,
   "metadata": {},
   "outputs": [
    {
     "data": {
      "text/plain": [
       "Procedure_TKR.Height_cm                   0\n",
       "Procedure_TKR.Weight_kg                   0\n",
       "Demographics.Gender (0=Female, 1=Male)    0\n",
       "Tibia ML Dimension (mm)                   0\n",
       "Femur AP Dimension (mm)                   0\n",
       "dtype: int64"
      ]
     },
     "execution_count": 35,
     "metadata": {},
     "output_type": "execute_result"
    }
   ],
   "source": [
    "train_data.isna().sum()"
   ]
  },
  {
   "cell_type": "markdown",
   "metadata": {},
   "source": [
    "##### Comment\n",
    "We see that now our train set has no missing values"
   ]
  },
  {
   "cell_type": "code",
   "execution_count": 36,
   "metadata": {},
   "outputs": [],
   "source": [
    "# Converting the variable gender from float to integer\n",
    "train_data=train_data.astype({'Demographics.Gender (0=Female, 1=Male)': 'int32'})"
   ]
  },
  {
   "cell_type": "code",
   "execution_count": 37,
   "metadata": {},
   "outputs": [
    {
     "data": {
      "text/plain": [
       "Procedure_TKR.Height_cm                   float64\n",
       "Procedure_TKR.Weight_kg                   float64\n",
       "Demographics.Gender (0=Female, 1=Male)      int32\n",
       "Tibia ML Dimension (mm)                   float64\n",
       "Femur AP Dimension (mm)                   float64\n",
       "dtype: object"
      ]
     },
     "execution_count": 37,
     "metadata": {},
     "output_type": "execute_result"
    }
   ],
   "source": [
    "train_data.dtypes"
   ]
  },
  {
   "cell_type": "code",
   "execution_count": 38,
   "metadata": {},
   "outputs": [
    {
     "name": "stdout",
     "output_type": "stream",
     "text": [
      "[0 1]\n"
     ]
    }
   ],
   "source": [
    "# Checking the unique levels in gender\n",
    "print (train_data['Demographics.Gender (0=Female, 1=Male)'].unique())"
   ]
  },
  {
   "cell_type": "code",
   "execution_count": 39,
   "metadata": {},
   "outputs": [
    {
     "data": {
      "text/plain": [
       "0"
      ]
     },
     "execution_count": 39,
     "metadata": {},
     "output_type": "execute_result"
    }
   ],
   "source": [
    "train_data['Demographics.Gender (0=Female, 1=Male)'].isna().sum()"
   ]
  },
  {
   "cell_type": "markdown",
   "metadata": {},
   "source": [
    "## Visualizations"
   ]
  },
  {
   "cell_type": "markdown",
   "metadata": {},
   "source": [
    "### 1. Visualizing distribution of categorical variable gender"
   ]
  },
  {
   "cell_type": "code",
   "execution_count": 40,
   "metadata": {},
   "outputs": [
    {
     "data": {
      "image/png": "[encoded data removed]",
      "text/plain": [
       "<Figure size 576x360 with 1 Axes>"
      ]
     },
     "metadata": {
      "needs_background": "light"
     },
     "output_type": "display_data"
    }
   ],
   "source": [
    "# sns.set(style=\"whitegrid\")\n",
    "plt.figure(figsize=(8,5))\n",
    "total = float(len(train_data))\n",
    "ax = sns.countplot(x=\"Demographics.Gender (0=Female, 1=Male)\", hue=\"Demographics.Gender (0=Female, 1=Male)\", data=train_data)\n",
    "plt.title('Distribution of gender', fontsize=20)\n",
    "for p in ax.patches:\n",
    "    percentage = '{:.1f}%'.format(100 * p.get_height()/total)\n",
    "    x = p.get_x() + p.get_width()\n",
    "    y = p.get_height()\n",
    "    ax.annotate(percentage, (x, y),ha='center')\n",
    "plt.show()"
   ]
  },
  {
   "cell_type": "markdown",
   "metadata": {},
   "source": [
    "#### Interpretation\n",
    "The above barchart shows the distribution of gender in the training data set.\n",
    "It is evident that females are more than males i.e 62.7% are females whereas 37.3% are males.\n"
   ]
  },
  {
   "cell_type": "markdown",
   "metadata": {},
   "source": [
    "### 2. Multiple Histograms to check the distribution of continous variables"
   ]
  },
  {
   "cell_type": "code",
   "execution_count": 41,
   "metadata": {},
   "outputs": [
    {
     "data": {
      "image/png": "[encoded data removed]",
      "text/plain": [
       "<Figure size 1080x720 with 6 Axes>"
      ]
     },
     "metadata": {
      "needs_background": "light"
     },
     "output_type": "display_data"
    }
   ],
   "source": [
    "# Multiple histograms\n",
    "train_data.hist(bins=30, figsize=(15,10));"
   ]
  },
  {
   "cell_type": "markdown",
   "metadata": {},
   "source": [
    "##### Interpretation\n",
    "The above multiple histograms show the distributions of the variables.\n",
    "\n",
    "Focusing on the continous variables, height, weight and femur dimension appear to be normally distributed. However, tibia dimension appears to be skewed to the left."
   ]
  },
  {
   "cell_type": "markdown",
   "metadata": {},
   "source": [
    "### 3. Boxplots to check the distribution of outcome variables(femur and tibia dimension) distribution between males and females"
   ]
  },
  {
   "cell_type": "markdown",
   "metadata": {},
   "source": [
    "#### 3.1 Gender vs tibia dimension"
   ]
  },
  {
   "cell_type": "code",
   "execution_count": 42,
   "metadata": {},
   "outputs": [
    {
     "data": {
      "image/png": "[encoded data removed]",
      "text/plain": [
       "<Figure size 432x288 with 1 Axes>"
      ]
     },
     "metadata": {
      "needs_background": "light"
     },
     "output_type": "display_data"
    }
   ],
   "source": [
    "# BOXPLOTS\n",
    "sns.boxplot(x='Demographics.Gender (0=Female, 1=Male)', y='Tibia ML Dimension (mm)', data=train_data)\n",
    "plt.title('Gender vs Tibial dimension');"
   ]
  },
  {
   "cell_type": "markdown",
   "metadata": {},
   "source": [
    "##### Interpretation\n",
    "The above boxplots compares the distribution of tibial length among gender.\n",
    "\n",
    "It can be seen that the boxplot for males is abit higher. \n",
    "\n",
    "The median tibial length for males is approximately 75mm,the minimum is about 66mm while the maximum is almost 90mm. \n",
    "For females, the median tibial length is about 67mm, the minimum is 62mm while the maximum is about 76mm. The interquartile ranges for the 2 genders are not very different from each other.\n",
    "\n",
    "Moreover, for both genders, we observe that there are some outliers in the tibial dimension.\n",
    "\n",
    "Generally, the tibial dimension for males is higher than that of females."
   ]
  },
  {
   "cell_type": "markdown",
   "metadata": {},
   "source": [
    "#### 3.2 T-test to check whether the difference between tibia dimension for females and males is statistically significant"
   ]
  },
  {
   "cell_type": "code",
   "execution_count": 43,
   "metadata": {},
   "outputs": [
    {
     "name": "stdout",
     "output_type": "stream",
     "text": [
      "   Demographics.Gender (0=Female, 1=Male)  Tibia ML Dimension (mm)\n",
      "0                                       0                68.120816\n",
      "1                                       1                76.630845\n"
     ]
    }
   ],
   "source": [
    "# mean_tibia_females = np.mean('Tibia ML Dimension (mm)', data = train_data)\n",
    "mean_tibia = train_data.groupby('Demographics.Gender (0=Female, 1=Male)', as_index=False)['Tibia ML Dimension (mm)'].mean()\n",
    "print(mean_tibia)"
   ]
  },
  {
   "cell_type": "code",
   "execution_count": 44,
   "metadata": {},
   "outputs": [
    {
     "data": {
      "text/html": [
       "<div>\n",
       "<style scoped>\n",
       "    .dataframe tbody tr th:only-of-type {\n",
       "        vertical-align: middle;\n",
       "    }\n",
       "\n",
       "    .dataframe tbody tr th {\n",
       "        vertical-align: top;\n",
       "    }\n",
       "\n",
       "    .dataframe thead th {\n",
       "        text-align: right;\n",
       "    }\n",
       "</style>\n",
       "<table border=\"1\" class=\"dataframe\">\n",
       "  <thead>\n",
       "    <tr style=\"text-align: right;\">\n",
       "      <th></th>\n",
       "      <th>Procedure_TKR.Height_cm</th>\n",
       "      <th>Procedure_TKR.Weight_kg</th>\n",
       "      <th>Demographics.Gender (0=Female, 1=Male)</th>\n",
       "      <th>Tibia ML Dimension (mm)</th>\n",
       "      <th>Femur AP Dimension (mm)</th>\n",
       "    </tr>\n",
       "  </thead>\n",
       "  <tbody>\n",
       "    <tr>\n",
       "      <th>1377</th>\n",
       "      <td>152.40</td>\n",
       "      <td>53.80</td>\n",
       "      <td>1</td>\n",
       "      <td>67.0</td>\n",
       "      <td>57.3</td>\n",
       "    </tr>\n",
       "    <tr>\n",
       "      <th>1384</th>\n",
       "      <td>152.40</td>\n",
       "      <td>59.09</td>\n",
       "      <td>1</td>\n",
       "      <td>63.8</td>\n",
       "      <td>60.8</td>\n",
       "    </tr>\n",
       "    <tr>\n",
       "      <th>1388</th>\n",
       "      <td>152.40</td>\n",
       "      <td>60.30</td>\n",
       "      <td>1</td>\n",
       "      <td>74.0</td>\n",
       "      <td>59.4</td>\n",
       "    </tr>\n",
       "    <tr>\n",
       "      <th>1393</th>\n",
       "      <td>157.48</td>\n",
       "      <td>55.00</td>\n",
       "      <td>1</td>\n",
       "      <td>63.8</td>\n",
       "      <td>60.8</td>\n",
       "    </tr>\n",
       "    <tr>\n",
       "      <th>1395</th>\n",
       "      <td>154.94</td>\n",
       "      <td>59.09</td>\n",
       "      <td>1</td>\n",
       "      <td>66.0</td>\n",
       "      <td>61.5</td>\n",
       "    </tr>\n",
       "  </tbody>\n",
       "</table>\n",
       "</div>"
      ],
      "text/plain": [
       "      Procedure_TKR.Height_cm  Procedure_TKR.Weight_kg  \\\n",
       "1377                   152.40                    53.80   \n",
       "1384                   152.40                    59.09   \n",
       "1388                   152.40                    60.30   \n",
       "1393                   157.48                    55.00   \n",
       "1395                   154.94                    59.09   \n",
       "\n",
       "      Demographics.Gender (0=Female, 1=Male)  Tibia ML Dimension (mm)  \\\n",
       "1377                                       1                     67.0   \n",
       "1384                                       1                     63.8   \n",
       "1388                                       1                     74.0   \n",
       "1393                                       1                     63.8   \n",
       "1395                                       1                     66.0   \n",
       "\n",
       "      Femur AP Dimension (mm)  \n",
       "1377                     57.3  \n",
       "1384                     60.8  \n",
       "1388                     59.4  \n",
       "1393                     60.8  \n",
       "1395                     61.5  "
      ]
     },
     "execution_count": 44,
     "metadata": {},
     "output_type": "execute_result"
    }
   ],
   "source": [
    "# Extracting the male data from train_data\n",
    "male_data = train_data[train_data['Demographics.Gender (0=Female, 1=Male)']== 1]\n",
    "male_data.head()"
   ]
  },
  {
   "cell_type": "code",
   "execution_count": 45,
   "metadata": {},
   "outputs": [
    {
     "data": {
      "text/plain": [
       "1267"
      ]
     },
     "execution_count": 45,
     "metadata": {},
     "output_type": "execute_result"
    }
   ],
   "source": [
    "# Checking the length\n",
    "len(male_data)"
   ]
  },
  {
   "cell_type": "code",
   "execution_count": 46,
   "metadata": {},
   "outputs": [
    {
     "data": {
      "text/html": [
       "<div>\n",
       "<style scoped>\n",
       "    .dataframe tbody tr th:only-of-type {\n",
       "        vertical-align: middle;\n",
       "    }\n",
       "\n",
       "    .dataframe tbody tr th {\n",
       "        vertical-align: top;\n",
       "    }\n",
       "\n",
       "    .dataframe thead th {\n",
       "        text-align: right;\n",
       "    }\n",
       "</style>\n",
       "<table border=\"1\" class=\"dataframe\">\n",
       "  <thead>\n",
       "    <tr style=\"text-align: right;\">\n",
       "      <th></th>\n",
       "      <th>Procedure_TKR.Height_cm</th>\n",
       "      <th>Procedure_TKR.Weight_kg</th>\n",
       "      <th>Demographics.Gender (0=Female, 1=Male)</th>\n",
       "      <th>Tibia ML Dimension (mm)</th>\n",
       "      <th>Femur AP Dimension (mm)</th>\n",
       "    </tr>\n",
       "  </thead>\n",
       "  <tbody>\n",
       "    <tr>\n",
       "      <th>0</th>\n",
       "      <td>60.00</td>\n",
       "      <td>58.64</td>\n",
       "      <td>0</td>\n",
       "      <td>63.8</td>\n",
       "      <td>60.4</td>\n",
       "    </tr>\n",
       "    <tr>\n",
       "      <th>1</th>\n",
       "      <td>116.84</td>\n",
       "      <td>62.20</td>\n",
       "      <td>0</td>\n",
       "      <td>58.0</td>\n",
       "      <td>53.5</td>\n",
       "    </tr>\n",
       "    <tr>\n",
       "      <th>2</th>\n",
       "      <td>127.00</td>\n",
       "      <td>52.00</td>\n",
       "      <td>0</td>\n",
       "      <td>66.0</td>\n",
       "      <td>57.5</td>\n",
       "    </tr>\n",
       "    <tr>\n",
       "      <th>3</th>\n",
       "      <td>124.46</td>\n",
       "      <td>68.64</td>\n",
       "      <td>0</td>\n",
       "      <td>66.0</td>\n",
       "      <td>65.3</td>\n",
       "    </tr>\n",
       "    <tr>\n",
       "      <th>4</th>\n",
       "      <td>121.92</td>\n",
       "      <td>75.00</td>\n",
       "      <td>0</td>\n",
       "      <td>67.0</td>\n",
       "      <td>60.8</td>\n",
       "    </tr>\n",
       "  </tbody>\n",
       "</table>\n",
       "</div>"
      ],
      "text/plain": [
       "   Procedure_TKR.Height_cm  Procedure_TKR.Weight_kg  \\\n",
       "0                    60.00                    58.64   \n",
       "1                   116.84                    62.20   \n",
       "2                   127.00                    52.00   \n",
       "3                   124.46                    68.64   \n",
       "4                   121.92                    75.00   \n",
       "\n",
       "   Demographics.Gender (0=Female, 1=Male)  Tibia ML Dimension (mm)  \\\n",
       "0                                       0                     63.8   \n",
       "1                                       0                     58.0   \n",
       "2                                       0                     66.0   \n",
       "3                                       0                     66.0   \n",
       "4                                       0                     67.0   \n",
       "\n",
       "   Femur AP Dimension (mm)  \n",
       "0                     60.4  \n",
       "1                     53.5  \n",
       "2                     57.5  \n",
       "3                     65.3  \n",
       "4                     60.8  "
      ]
     },
     "execution_count": 46,
     "metadata": {},
     "output_type": "execute_result"
    }
   ],
   "source": [
    "# Extracting the female data from train data\n",
    "female_data = train_data[train_data['Demographics.Gender (0=Female, 1=Male)']== 0]\n",
    "female_data.head()"
   ]
  },
  {
   "cell_type": "code",
   "execution_count": 47,
   "metadata": {},
   "outputs": [
    {
     "data": {
      "text/plain": [
       "2133"
      ]
     },
     "execution_count": 47,
     "metadata": {},
     "output_type": "execute_result"
    }
   ],
   "source": [
    "# Checking the length\n",
    "len(female_data)"
   ]
  },
  {
   "cell_type": "code",
   "execution_count": 48,
   "metadata": {},
   "outputs": [
    {
     "data": {
      "text/plain": [
       "1377    67.0\n",
       "1384    63.8\n",
       "1388    74.0\n",
       "1393    63.8\n",
       "1395    66.0\n",
       "Name: Tibia ML Dimension (mm), dtype: float64"
      ]
     },
     "execution_count": 48,
     "metadata": {},
     "output_type": "execute_result"
    }
   ],
   "source": [
    "# Extracting the tibia dimension for males\n",
    "male_tibia = male_data['Tibia ML Dimension (mm)']\n",
    "male_tibia.head()"
   ]
  },
  {
   "cell_type": "code",
   "execution_count": 49,
   "metadata": {},
   "outputs": [
    {
     "data": {
      "text/plain": [
       "0    63.8\n",
       "1    58.0\n",
       "2    66.0\n",
       "3    66.0\n",
       "4    67.0\n",
       "Name: Tibia ML Dimension (mm), dtype: float64"
      ]
     },
     "execution_count": 49,
     "metadata": {},
     "output_type": "execute_result"
    }
   ],
   "source": [
    "# Extracting the tibia dimensions for females\n",
    "female_tibia = female_data['Tibia ML Dimension (mm)']\n",
    "female_tibia.head()"
   ]
  },
  {
   "cell_type": "code",
   "execution_count": 50,
   "metadata": {},
   "outputs": [
    {
     "name": "stdout",
     "output_type": "stream",
     "text": [
      "male_tibia mean value: 76.6308445146014\n",
      "female_tibia mean value: 68.12081575246148\n",
      "male_tibia std value: 3.7311634102633944\n",
      "female_tibia std value: 3.7311634102633944\n",
      "p-value 0.0\n",
      "we reject the null hypothesis\n"
     ]
    }
   ],
   "source": [
    "# T-test using p-values\n",
    "from scipy.stats import ttest_ind\n",
    "male_tibia_mean = np.mean(male_tibia)\n",
    "female_tibia_mean = np.mean(female_tibia)\n",
    "print(\"male_tibia mean value:\",male_tibia_mean)\n",
    "print(\"female_tibia mean value:\",female_tibia_mean)\n",
    "male_tibia_std = np.std(male_tibia)\n",
    "female_tibia_std = np.std(female_tibia)\n",
    "print(\"male_tibia std value:\",female_tibia_std)\n",
    "print(\"female_tibia std value:\",female_tibia_std)\n",
    "ttest,pval = ttest_ind(male_tibia,female_tibia)\n",
    "print(\"p-value\",pval)\n",
    "if pval <0.05:\n",
    "  print(\"we reject the null hypothesis\")\n",
    "else:\n",
    "  print(\"we do not reject the null hypothesis\")"
   ]
  },
  {
   "cell_type": "markdown",
   "metadata": {},
   "source": [
    "#### Interpretation of t-test\n",
    "H0: There is no statistical significant difference in tibial dimension between males and females\n",
    "\n",
    "\n",
    "H1: There is a statistical significant difference in tibial dimension between males and females\n",
    "\n",
    "\n",
    "The p-value for the two-sample t-test is 0.0 which is less than the 95% confidence interval threshold of 0.05. Therefore we reject the null hypothesis and conclude that there is a  statistical significant difference in tibial dimension between males and females."
   ]
  },
  {
   "cell_type": "markdown",
   "metadata": {},
   "source": [
    "#### 3.3 Gender vs Femur dimension"
   ]
  },
  {
   "cell_type": "code",
   "execution_count": 51,
   "metadata": {},
   "outputs": [
    {
     "data": {
      "image/png": "[encoded data removed]",
      "text/plain": [
       "<Figure size 432x288 with 1 Axes>"
      ]
     },
     "metadata": {
      "needs_background": "light"
     },
     "output_type": "display_data"
    }
   ],
   "source": [
    "sns.boxplot(x='Demographics.Gender (0=Female, 1=Male)', y='Femur AP Dimension (mm)', data=train_data)\n",
    "plt.title('Gender vs Femur dimension');"
   ]
  },
  {
   "cell_type": "markdown",
   "metadata": {},
   "source": [
    "##### Interpretation\n",
    "The above boxplots compares the distribution of Femur AP dimension among gender.\n",
    "It can be seen that the boxplot for males is abit higher. The median femur dimension for males is approximately 68mm,the minimum is about 57mm while the maximum is about 76mm. \n",
    "For females, the median femur dimension is about 62mm, the minimum is 52mm while the maximum is about 70mm. The interquartile ranges for the 2 genders are not very different from each other.\n",
    "Moreover, for both genders, we observe that there are some outliers in the femur dimension.\n",
    "Generally, the femur AP dimension for males is higher than that of females.\n",
    "In addition, the femur AP dimension for both genders is lower than the tibia ML dimension."
   ]
  },
  {
   "cell_type": "markdown",
   "metadata": {},
   "source": [
    "#### 3.4 T-test to check whether the difference between femur dimension for females and males is statistically significant"
   ]
  },
  {
   "cell_type": "code",
   "execution_count": 52,
   "metadata": {},
   "outputs": [
    {
     "data": {
      "text/plain": [
       "0    60.4\n",
       "1    53.5\n",
       "2    57.5\n",
       "3    65.3\n",
       "4    60.8\n",
       "Name: Femur AP Dimension (mm), dtype: float64"
      ]
     },
     "execution_count": 52,
     "metadata": {},
     "output_type": "execute_result"
    }
   ],
   "source": [
    "# Extracting femur dimension for females\n",
    "female_femur = female_data['Femur AP Dimension (mm)']\n",
    "female_femur.head()"
   ]
  },
  {
   "cell_type": "code",
   "execution_count": 53,
   "metadata": {},
   "outputs": [
    {
     "data": {
      "text/plain": [
       "1377    57.3\n",
       "1384    60.8\n",
       "1388    59.4\n",
       "1393    60.8\n",
       "1395    61.5\n",
       "Name: Femur AP Dimension (mm), dtype: float64"
      ]
     },
     "execution_count": 53,
     "metadata": {},
     "output_type": "execute_result"
    }
   ],
   "source": [
    "# Extracting femur dimension for males\n",
    "male_femur = male_data['Femur AP Dimension (mm)']\n",
    "male_femur.head()"
   ]
  },
  {
   "cell_type": "code",
   "execution_count": 54,
   "metadata": {},
   "outputs": [
    {
     "name": "stdout",
     "output_type": "stream",
     "text": [
      "male_femur mean value: 67.35341752170469\n",
      "female_femur mean value: 61.17277074542858\n",
      "male_femur std value: 3.3009194278770972\n",
      "female_femur std value: 3.3009194278770972\n",
      "p-value 0.0\n",
      "we reject the null hypothesis\n"
     ]
    }
   ],
   "source": [
    "# Performing the tw0-sample t-test\n",
    "from scipy.stats import ttest_ind\n",
    "male_femur_mean = np.mean(male_femur)\n",
    "female_femur_mean = np.mean(female_femur)\n",
    "print(\"male_femur mean value:\",male_femur_mean)\n",
    "print(\"female_femur mean value:\",female_femur_mean)\n",
    "male_femur_std = np.std(male_femur)\n",
    "female_femur_std = np.std(female_femur)\n",
    "print(\"male_femur std value:\",female_femur_std)\n",
    "print(\"female_femur std value:\",female_femur_std)\n",
    "ttest,pval = ttest_ind(male_femur,female_femur)\n",
    "print(\"p-value\",pval)\n",
    "if pval <0.05:\n",
    "  print(\"we reject the null hypothesis\")\n",
    "else:\n",
    "  print(\"we do not reject the null hypothesis\")"
   ]
  },
  {
   "cell_type": "markdown",
   "metadata": {},
   "source": [
    "##### Interpretation of t-test \n",
    "H0: There is no statistical significant difference in femur dimension between males and females\n",
    "\n",
    "\n",
    "H1: There is a statistical significant difference in femur dimension between males and females\n",
    "\n",
    "\n",
    "The p-value for the two-sample t-test is 0.0 which is less than the 95% confidence interval threshold of 0.05. Therefore we reject the null hypothesis and conclude that there is a  statistical significant difference in femur dimension between males and females."
   ]
  },
  {
   "cell_type": "code",
   "execution_count": 55,
   "metadata": {},
   "outputs": [
    {
     "data": {
      "text/plain": [
       "Index(['Procedure_TKR.Height_cm', 'Procedure_TKR.Weight_kg',\n",
       "       'Demographics.Gender (0=Female, 1=Male)', 'Tibia ML Dimension (mm)',\n",
       "       'Femur AP Dimension (mm)'],\n",
       "      dtype='object')"
      ]
     },
     "execution_count": 55,
     "metadata": {},
     "output_type": "execute_result"
    }
   ],
   "source": [
    "train_data.columns"
   ]
  },
  {
   "cell_type": "markdown",
   "metadata": {},
   "source": [
    "### 4. Scatter plots to check whether there is a linear relationship btn variables and also check outliers"
   ]
  },
  {
   "cell_type": "code",
   "execution_count": 56,
   "metadata": {},
   "outputs": [
    {
     "data": {
      "text/plain": [
       "<AxesSubplot:xlabel='Tibia ML Dimension (mm)', ylabel='Femur AP Dimension (mm)'>"
      ]
     },
     "execution_count": 56,
     "metadata": {},
     "output_type": "execute_result"
    },
    {
     "data": {
      "image/png": "[encoded data removed]",
      "text/plain": [
       "<Figure size 432x288 with 1 Axes>"
      ]
     },
     "metadata": {
      "needs_background": "light"
     },
     "output_type": "display_data"
    }
   ],
   "source": [
    "# Scatter plot with colored labels\n",
    "sns.scatterplot(x='Tibia ML Dimension (mm)', y='Femur AP Dimension (mm)', hue='Demographics.Gender (0=Female, 1=Male)', data=train_data)"
   ]
  },
  {
   "cell_type": "markdown",
   "metadata": {},
   "source": [
    "##### Interpretation\n",
    "The above scatterplot shows that there appears to be a positive linear relationship between femur and tibia dimension for males and females. \n",
    "\n",
    "As tibia dimension increases, the femur dimension also increases. "
   ]
  },
  {
   "cell_type": "markdown",
   "metadata": {},
   "source": [
    "### 5. Line plot to check the trend of the outcome variables"
   ]
  },
  {
   "cell_type": "code",
   "execution_count": 57,
   "metadata": {},
   "outputs": [
    {
     "data": {
      "text/plain": [
       "<AxesSubplot:>"
      ]
     },
     "execution_count": 57,
     "metadata": {},
     "output_type": "execute_result"
    },
    {
     "data": {
      "image/png": "[encoded data removed]",
      "text/plain": [
       "<Figure size 432x288 with 1 Axes>"
      ]
     },
     "metadata": {
      "needs_background": "light"
     },
     "output_type": "display_data"
    }
   ],
   "source": [
    "# Lineplot\n",
    "sns.lineplot(data=train_data.drop(['Demographics.Gender (0=Female, 1=Male)','Procedure_TKR.Height_cm','Procedure_TKR.Weight_kg'], axis=1))"
   ]
  },
  {
   "cell_type": "markdown",
   "metadata": {},
   "source": [
    "##### Interpretation\n",
    "The lineplot above shows that both the tibia and femur dimension show an increasing trend and then reduce but further starts to increase.\n",
    "\n",
    "However, the tibial dimension appears to be higher than the femur dimension."
   ]
  },
  {
   "cell_type": "markdown",
   "metadata": {},
   "source": [
    "### 6. Density plots"
   ]
  },
  {
   "cell_type": "code",
   "execution_count": 58,
   "metadata": {},
   "outputs": [
    {
     "data": {
      "text/plain": [
       "<AxesSubplot:xlabel='Tibia ML Dimension (mm)', ylabel='Density'>"
      ]
     },
     "execution_count": 58,
     "metadata": {},
     "output_type": "execute_result"
    },
    {
     "data": {
      "image/png": "[encoded data removed]",
      "text/plain": [
       "<Figure size 432x288 with 1 Axes>"
      ]
     },
     "metadata": {
      "needs_background": "light"
     },
     "output_type": "display_data"
    }
   ],
   "source": [
    "# Density plot for tibia dimension\n",
    "sns.distplot(train_data['Tibia ML Dimension (mm)'], bins=20, kde=True)"
   ]
  },
  {
   "cell_type": "markdown",
   "metadata": {},
   "source": [
    "##### Interpretation\n",
    "The above is a density plot which is a smoother version of the histogram. Tibia dimension appears to be skewed to the left "
   ]
  },
  {
   "cell_type": "code",
   "execution_count": 59,
   "metadata": {},
   "outputs": [
    {
     "data": {
      "text/plain": [
       "<AxesSubplot:xlabel='Femur AP Dimension (mm)', ylabel='Density'>"
      ]
     },
     "execution_count": 59,
     "metadata": {},
     "output_type": "execute_result"
    },
    {
     "data": {
      "image/png": "[encoded data removed]",
      "text/plain": [
       "<Figure size 432x288 with 1 Axes>"
      ]
     },
     "metadata": {
      "needs_background": "light"
     },
     "output_type": "display_data"
    }
   ],
   "source": [
    "# Density plot for femur dimension\n",
    "sns.distplot(train_data['Femur AP Dimension (mm)'], bins=5, kde=True) "
   ]
  },
  {
   "cell_type": "markdown",
   "metadata": {},
   "source": [
    "##### Interpretation\n",
    "The density plot for femur shows that femur dimension is normally distributed due to the bell shape.  "
   ]
  },
  {
   "cell_type": "markdown",
   "metadata": {},
   "source": [
    "### 7. Heat map to view correlations"
   ]
  },
  {
   "cell_type": "code",
   "execution_count": 60,
   "metadata": {},
   "outputs": [
    {
     "data": {
      "text/plain": [
       "<AxesSubplot:>"
      ]
     },
     "execution_count": 60,
     "metadata": {},
     "output_type": "execute_result"
    },
    {
     "data": {
      "image/png": "[encoded data removed]",
      "text/plain": [
       "<Figure size 432x288 with 2 Axes>"
      ]
     },
     "metadata": {
      "needs_background": "light"
     },
     "output_type": "display_data"
    }
   ],
   "source": [
    "# Heatmap to view correlations\n",
    "sns.heatmap(train_data.corr(), annot=True)"
   ]
  },
  {
   "cell_type": "markdown",
   "metadata": {},
   "source": [
    "#### Interpretation\n",
    "The above plot is a heatmap which shows the correlation between the variables.\n",
    "\n",
    "Focusing on the independent variables, it is observed that all the variables are positively correlated, however they are not highly correlated since the correlation values are all 0.55 and below.\n",
    "Therefore, performing variable selection is not appropriate and all the three independent variables will be used for modelling.\n",
    "\n",
    "Moreover, looking at the correlation between dependent and independent variables, variable gender has the highest positive correlation of 0.65 and 0.72 for the dependent variables femur dimension and tibia dimension respectively. Therefore, gender seems to contribute the most to the femur and tibia dimensions."
   ]
  },
  {
   "cell_type": "markdown",
   "metadata": {},
   "source": [
    "### 8. Facet grid to view the distribution of femur and tibia between the genders"
   ]
  },
  {
   "cell_type": "code",
   "execution_count": 61,
   "metadata": {},
   "outputs": [
    {
     "data": {
      "image/png": "[encoded data removed]",
      "text/plain": [
       "<Figure size 432x216 with 2 Axes>"
      ]
     },
     "metadata": {
      "needs_background": "light"
     },
     "output_type": "display_data"
    }
   ],
   "source": [
    "# Facet grid\n",
    "g = sns.FacetGrid(train_data, col='Demographics.Gender (0=Female, 1=Male)')\n",
    "g = g.map(sns.kdeplot, 'Femur AP Dimension (mm)')"
   ]
  },
  {
   "cell_type": "code",
   "execution_count": 62,
   "metadata": {},
   "outputs": [
    {
     "data": {
      "image/png": "[encoded data removed]",
      "text/plain": [
       "<Figure size 432x216 with 2 Axes>"
      ]
     },
     "metadata": {
      "needs_background": "light"
     },
     "output_type": "display_data"
    }
   ],
   "source": [
    "g = sns.FacetGrid(train_data, col='Demographics.Gender (0=Female, 1=Male)')\n",
    "g = g.map(sns.kdeplot, 'Tibia ML Dimension (mm)')"
   ]
  },
  {
   "cell_type": "markdown",
   "metadata": {},
   "source": [
    "##### Interpretation\n",
    "The above facet grids show the distributions of femur and tibia dimension for both genders. \n",
    "\n",
    "Femur dimension appears to have a better bell shape than tibia dimension"
   ]
  },
  {
   "cell_type": "code",
   "execution_count": 63,
   "metadata": {},
   "outputs": [],
   "source": [
    "# Pair plot\n",
    "# sns.pairplot(train_data)"
   ]
  },
  {
   "cell_type": "code",
   "execution_count": 64,
   "metadata": {},
   "outputs": [],
   "source": [
    "# # create figure and axis\n",
    "# fig, ax = plt.subplots()\n",
    "# # plot histogram\n",
    "# ax.hist(train_data['Procedure_TKR.Height_cm'])\n",
    "# # set title and labels\n",
    "# ax.set_title('histogram height')\n",
    "# ax.set_xlabel('Procedure_TKR.Height_cm')\n",
    "# ax.set_ylabel('Frequency')"
   ]
  },
  {
   "cell_type": "markdown",
   "metadata": {},
   "source": [
    "## Dealing with outliers"
   ]
  },
  {
   "cell_type": "markdown",
   "metadata": {},
   "source": [
    "### Drawing scatterplots to check outliers"
   ]
  },
  {
   "cell_type": "code",
   "execution_count": 65,
   "metadata": {},
   "outputs": [
    {
     "data": {
      "text/plain": [
       "<AxesSubplot:xlabel='Tibia ML Dimension (mm)', ylabel='Femur AP Dimension (mm)'>"
      ]
     },
     "execution_count": 65,
     "metadata": {},
     "output_type": "execute_result"
    },
    {
     "data": {
      "image/png": "[encoded data removed]",
      "text/plain": [
       "<Figure size 432x288 with 1 Axes>"
      ]
     },
     "metadata": {
      "needs_background": "light"
     },
     "output_type": "display_data"
    }
   ],
   "source": [
    "sns.scatterplot(x='Tibia ML Dimension (mm)', y='Femur AP Dimension (mm)',data=train_data)"
   ]
  },
  {
   "cell_type": "markdown",
   "metadata": {},
   "source": [
    "##### Interpretation\n",
    "It is clear that there are outliers in variables femur and tibia\n"
   ]
  },
  {
   "cell_type": "code",
   "execution_count": 66,
   "metadata": {},
   "outputs": [
    {
     "data": {
      "text/plain": [
       "<AxesSubplot:xlabel='Procedure_TKR.Height_cm', ylabel='Procedure_TKR.Weight_kg'>"
      ]
     },
     "execution_count": 66,
     "metadata": {},
     "output_type": "execute_result"
    },
    {
     "data": {
      "image/png": "[encoded data removed]",
      "text/plain": [
       "<Figure size 432x288 with 1 Axes>"
      ]
     },
     "metadata": {
      "needs_background": "light"
     },
     "output_type": "display_data"
    }
   ],
   "source": [
    "sns.scatterplot(x='Procedure_TKR.Height_cm', y='Procedure_TKR.Weight_kg',data=train_data)"
   ]
  },
  {
   "cell_type": "markdown",
   "metadata": {},
   "source": [
    "#### Interpretation\n",
    "From the scatterplot, it is clear that there are some outliers for the variable weight and height"
   ]
  },
  {
   "cell_type": "markdown",
   "metadata": {},
   "source": [
    "#### Using z-score to check and remove outliers\n",
    "The z values outside the range (-3,3) are taken as outliers"
   ]
  },
  {
   "cell_type": "code",
   "execution_count": 67,
   "metadata": {},
   "outputs": [
    {
     "name": "stdout",
     "output_type": "stream",
     "text": [
      "[[ 7.89779234  1.46306216  0.77071335  1.30222388  0.66732749]\n",
      " [ 3.73802163  1.32213648  0.77071335  2.31034524  2.16427279]\n",
      " [ 2.99447359  1.7259123   0.77071335  0.91983303  1.29647841]\n",
      " ...\n",
      " [12.28882405  0.06330599  0.77071335  0.91983303  0.42868404]\n",
      " [12.28882405  3.78437725  0.77071335  0.22457692  0.32020974]\n",
      " [12.28882405  3.78437725  1.29749926  1.51356334  1.6323276 ]]\n"
     ]
    }
   ],
   "source": [
    "from scipy import stats\n",
    "import numpy as np\n",
    "z = np.abs(stats.zscore(train_data))\n",
    "print(z)"
   ]
  },
  {
   "cell_type": "code",
   "execution_count": 68,
   "metadata": {},
   "outputs": [
    {
     "name": "stdout",
     "output_type": "stream",
     "text": [
      "(array([   0,    1,    3,    4,   32, 1429, 1928, 1936, 2348, 2350, 2351,\n",
      "       2352, 2353, 2355, 2356, 2357, 2382, 2385, 2386, 2389, 2390, 2390,\n",
      "       2396, 2396, 2397, 2399, 2399, 2410, 2410, 2601, 2601, 2675, 2675,\n",
      "       2900, 2970, 2970, 3027, 3027, 3096, 3111, 3111, 3239, 3239, 3256,\n",
      "       3257, 3266, 3267, 3298, 3302, 3324, 3324, 3369, 3372, 3373, 3374,\n",
      "       3376, 3377, 3378, 3379, 3380, 3381, 3382, 3385, 3386, 3387, 3397,\n",
      "       3398, 3398, 3399, 3399], dtype=int64), array([0, 0, 0, 0, 0, 1, 3, 4, 1, 1, 1, 1, 1, 3, 1, 1, 0, 0, 0, 0, 0, 1,\n",
      "       0, 1, 0, 0, 1, 0, 1, 0, 1, 0, 1, 0, 0, 1, 0, 1, 1, 0, 1, 0, 1, 1,\n",
      "       1, 1, 1, 1, 1, 0, 1, 4, 1, 1, 4, 3, 3, 3, 3, 3, 3, 3, 3, 3, 3, 0,\n",
      "       0, 1, 0, 1], dtype=int64))\n"
     ]
    }
   ],
   "source": [
    "# Defining a threshold to identify outliers\n",
    "threshold = 3\n",
    "print(np.where(z>3))"
   ]
  },
  {
   "cell_type": "code",
   "execution_count": 69,
   "metadata": {},
   "outputs": [],
   "source": [
    "# Removing the outliers outside the range of 3\n",
    "train_data = train_data[(z < 3).all(axis=1)]\n"
   ]
  },
  {
   "cell_type": "code",
   "execution_count": 70,
   "metadata": {},
   "outputs": [
    {
     "data": {
      "text/plain": [
       "3343"
      ]
     },
     "execution_count": 70,
     "metadata": {},
     "output_type": "execute_result"
    }
   ],
   "source": [
    "# Checking the length of train set after removing outliers\n",
    "len(train_data)"
   ]
  },
  {
   "cell_type": "markdown",
   "metadata": {},
   "source": [
    "### Checking and removing duplicates"
   ]
  },
  {
   "cell_type": "code",
   "execution_count": 71,
   "metadata": {},
   "outputs": [
    {
     "data": {
      "text/plain": [
       "119"
      ]
     },
     "execution_count": 71,
     "metadata": {},
     "output_type": "execute_result"
    }
   ],
   "source": [
    "train_data.duplicated().sum()"
   ]
  },
  {
   "cell_type": "code",
   "execution_count": 72,
   "metadata": {},
   "outputs": [],
   "source": [
    "train_data.drop_duplicates(inplace=True)"
   ]
  },
  {
   "cell_type": "code",
   "execution_count": 73,
   "metadata": {},
   "outputs": [
    {
     "data": {
      "text/plain": [
       "3224"
      ]
     },
     "execution_count": 73,
     "metadata": {},
     "output_type": "execute_result"
    }
   ],
   "source": [
    "len(train_data)"
   ]
  },
  {
   "cell_type": "markdown",
   "metadata": {},
   "source": [
    "#####  Scaling / standardizing the data"
   ]
  },
  {
   "cell_type": "code",
   "execution_count": 74,
   "metadata": {},
   "outputs": [],
   "source": [
    "# # Scaling the numeric variables\n",
    "# from sklearn.preprocessing import MinMaxScaler, StandardScaler\n",
    "# scaler = MinMaxScaler()\n",
    "# train_data = pd.DataFrame(scaler.fit_transform(train_data), columns = train_data.columns)\n",
    "# train_data.head()"
   ]
  },
  {
   "cell_type": "code",
   "execution_count": 75,
   "metadata": {},
   "outputs": [],
   "source": [
    "# train_data=train_data.astype({'Demographics.Gender (0=Female, 1=Male)': 'int32'})"
   ]
  },
  {
   "cell_type": "markdown",
   "metadata": {},
   "source": [
    "### Defining the x and y variables"
   ]
  },
  {
   "cell_type": "code",
   "execution_count": 76,
   "metadata": {},
   "outputs": [
    {
     "data": {
      "text/html": [
       "<div>\n",
       "<style scoped>\n",
       "    .dataframe tbody tr th:only-of-type {\n",
       "        vertical-align: middle;\n",
       "    }\n",
       "\n",
       "    .dataframe tbody tr th {\n",
       "        vertical-align: top;\n",
       "    }\n",
       "\n",
       "    .dataframe thead th {\n",
       "        text-align: right;\n",
       "    }\n",
       "</style>\n",
       "<table border=\"1\" class=\"dataframe\">\n",
       "  <thead>\n",
       "    <tr style=\"text-align: right;\">\n",
       "      <th></th>\n",
       "      <th>Procedure_TKR.Height_cm</th>\n",
       "      <th>Procedure_TKR.Weight_kg</th>\n",
       "      <th>Demographics.Gender (0=Female, 1=Male)</th>\n",
       "    </tr>\n",
       "  </thead>\n",
       "  <tbody>\n",
       "    <tr>\n",
       "      <th>3392</th>\n",
       "      <td>172.720</td>\n",
       "      <td>86.36</td>\n",
       "      <td>1</td>\n",
       "    </tr>\n",
       "    <tr>\n",
       "      <th>3393</th>\n",
       "      <td>176.276</td>\n",
       "      <td>113.64</td>\n",
       "      <td>0</td>\n",
       "    </tr>\n",
       "    <tr>\n",
       "      <th>3394</th>\n",
       "      <td>172.212</td>\n",
       "      <td>111.30</td>\n",
       "      <td>0</td>\n",
       "    </tr>\n",
       "    <tr>\n",
       "      <th>3395</th>\n",
       "      <td>182.880</td>\n",
       "      <td>99.55</td>\n",
       "      <td>1</td>\n",
       "    </tr>\n",
       "    <tr>\n",
       "      <th>3396</th>\n",
       "      <td>186.436</td>\n",
       "      <td>102.27</td>\n",
       "      <td>1</td>\n",
       "    </tr>\n",
       "  </tbody>\n",
       "</table>\n",
       "</div>"
      ],
      "text/plain": [
       "      Procedure_TKR.Height_cm  Procedure_TKR.Weight_kg  \\\n",
       "3392                  172.720                    86.36   \n",
       "3393                  176.276                   113.64   \n",
       "3394                  172.212                   111.30   \n",
       "3395                  182.880                    99.55   \n",
       "3396                  186.436                   102.27   \n",
       "\n",
       "      Demographics.Gender (0=Female, 1=Male)  \n",
       "3392                                       1  \n",
       "3393                                       0  \n",
       "3394                                       0  \n",
       "3395                                       1  \n",
       "3396                                       1  "
      ]
     },
     "execution_count": 76,
     "metadata": {},
     "output_type": "execute_result"
    }
   ],
   "source": [
    "x_femur = train_data.loc[:,['Procedure_TKR.Height_cm','Procedure_TKR.Weight_kg','Demographics.Gender (0=Female, 1=Male)']]\n",
    "x_femur.tail()"
   ]
  },
  {
   "cell_type": "code",
   "execution_count": 77,
   "metadata": {},
   "outputs": [
    {
     "data": {
      "text/html": [
       "<div>\n",
       "<style scoped>\n",
       "    .dataframe tbody tr th:only-of-type {\n",
       "        vertical-align: middle;\n",
       "    }\n",
       "\n",
       "    .dataframe tbody tr th {\n",
       "        vertical-align: top;\n",
       "    }\n",
       "\n",
       "    .dataframe thead th {\n",
       "        text-align: right;\n",
       "    }\n",
       "</style>\n",
       "<table border=\"1\" class=\"dataframe\">\n",
       "  <thead>\n",
       "    <tr style=\"text-align: right;\">\n",
       "      <th></th>\n",
       "      <th>Femur AP Dimension (mm)</th>\n",
       "    </tr>\n",
       "  </thead>\n",
       "  <tbody>\n",
       "    <tr>\n",
       "      <th>2</th>\n",
       "      <td>57.5</td>\n",
       "    </tr>\n",
       "    <tr>\n",
       "      <th>5</th>\n",
       "      <td>59.0</td>\n",
       "    </tr>\n",
       "    <tr>\n",
       "      <th>6</th>\n",
       "      <td>58.7</td>\n",
       "    </tr>\n",
       "    <tr>\n",
       "      <th>7</th>\n",
       "      <td>59.0</td>\n",
       "    </tr>\n",
       "    <tr>\n",
       "      <th>8</th>\n",
       "      <td>58.7</td>\n",
       "    </tr>\n",
       "  </tbody>\n",
       "</table>\n",
       "</div>"
      ],
      "text/plain": [
       "   Femur AP Dimension (mm)\n",
       "2                     57.5\n",
       "5                     59.0\n",
       "6                     58.7\n",
       "7                     59.0\n",
       "8                     58.7"
      ]
     },
     "execution_count": 77,
     "metadata": {},
     "output_type": "execute_result"
    }
   ],
   "source": [
    "y_femur = train_data.loc[:,['Femur AP Dimension (mm)']]\n",
    "y_femur.head()"
   ]
  },
  {
   "cell_type": "markdown",
   "metadata": {},
   "source": [
    "### Performing cross - validation"
   ]
  },
  {
   "cell_type": "code",
   "execution_count": 78,
   "metadata": {},
   "outputs": [],
   "source": [
    "# Importing important libraries\n",
    "from sklearn.datasets import make_classification\n",
    "from sklearn.model_selection import KFold\n",
    "from sklearn.model_selection import cross_val_score\n",
    "from sklearn.linear_model import LinearRegression, Ridge, RidgeCV, ElasticNet, LassoCV\n",
    "from numpy import mean\n",
    "from numpy import std\n",
    "from sklearn.ensemble import RandomForestRegressor"
   ]
  },
  {
   "cell_type": "code",
   "execution_count": 79,
   "metadata": {},
   "outputs": [
    {
     "name": "stdout",
     "output_type": "stream",
     "text": [
      "r2: 0.551 (0.015)\n"
     ]
    }
   ],
   "source": [
    "# Preparing the cross-validation procedure\n",
    "cv_femur = KFold(n_splits=5, random_state=10, shuffle=True)\n",
    "model1=LinearRegression()\n",
    "scores = cross_val_score(model1, x_femur, y_femur,scoring = 'r2', cv=cv_femur, n_jobs = -1)\n",
    "print('r2: %.3f (%.3f)' % (mean(scores), std(scores)))"
   ]
  },
  {
   "cell_type": "code",
   "execution_count": 80,
   "metadata": {},
   "outputs": [
    {
     "name": "stdout",
     "output_type": "stream",
     "text": [
      "r2: 0.550 (0.016)\n"
     ]
    }
   ],
   "source": [
    "# Preparing the cross-validation procedure\n",
    "cv_femur = KFold(n_splits=5, random_state=10, shuffle=True)\n",
    "model2=RandomForestRegressor(max_depth=5, random_state=0)\n",
    "scores = cross_val_score(model2, x_femur, y_femur,scoring = 'r2', cv=cv_femur, n_jobs = -1)\n",
    "print('r2: %.3f (%.3f)' % (mean(scores), std(scores)))"
   ]
  },
  {
   "cell_type": "code",
   "execution_count": 81,
   "metadata": {},
   "outputs": [
    {
     "name": "stdout",
     "output_type": "stream",
     "text": [
      "r2: 0.510 (0.010)\n"
     ]
    }
   ],
   "source": [
    "# Preparing the cross-validation procedure\n",
    "from sklearn import svm\n",
    "cv_femur = KFold(n_splits=5, random_state=10, shuffle=True)\n",
    "model3 = svm.SVR()\n",
    "scores = cross_val_score(model3, x_femur, y_femur,scoring = 'r2', cv=cv_femur, n_jobs = -1)\n",
    "print('r2: %.3f (%.3f)' % (mean(scores), std(scores)))"
   ]
  },
  {
   "cell_type": "code",
   "execution_count": 82,
   "metadata": {},
   "outputs": [
    {
     "name": "stdout",
     "output_type": "stream",
     "text": [
      "r2: 0.510 (0.010)\n"
     ]
    }
   ],
   "source": [
    "# Preparing the cross-validation procedure\n",
    "from sklearn import svm\n",
    "from sklearn.svm import SVR\n",
    "cv_femur = KFold(n_splits=5, random_state=10, shuffle=True)\n",
    "# model4 = SVR(kernel='rbf', C=100, gamma=0.1, epsilon=.1)\n",
    "model4 = SVR(kernel='rbf')\n",
    "scores = cross_val_score(model4, x_femur, y_femur,scoring = 'r2', cv=cv_femur, n_jobs = -1)\n",
    "print('r2: %.3f (%.3f)' % (mean(scores), std(scores)))\n"
   ]
  },
  {
   "cell_type": "code",
   "execution_count": 83,
   "metadata": {},
   "outputs": [
    {
     "name": "stdout",
     "output_type": "stream",
     "text": [
      "r2: 0.550 (0.015)\n"
     ]
    }
   ],
   "source": [
    "from sklearn import svm\n",
    "from sklearn.svm import SVR\n",
    "cv_femur = KFold(n_splits=5, random_state=10, shuffle=True)\n",
    "# model4 = SVR(kernel='rbf', C=100, gamma=0.1, epsilon=.1)\n",
    "model4 = SVR(kernel='linear')\n",
    "scores = cross_val_score(model4, x_femur, y_femur,scoring = 'r2', cv=cv_femur, n_jobs = -1)\n",
    "print('r2: %.3f (%.3f)' % (mean(scores), std(scores)))"
   ]
  },
  {
   "cell_type": "code",
   "execution_count": 84,
   "metadata": {},
   "outputs": [
    {
     "name": "stdout",
     "output_type": "stream",
     "text": [
      "r2: 0.520 (0.010)\n"
     ]
    }
   ],
   "source": [
    "from sklearn import svm\n",
    "from sklearn.svm import SVR\n",
    "cv_femur = KFold(n_splits=5, random_state=10, shuffle=True)\n",
    "# model4 = SVR(kernel='rbf', C=100, gamma=0.1, epsilon=.1)\n",
    "model4 = SVR(kernel='poly')\n",
    "scores = cross_val_score(model4, x_femur, y_femur,scoring = 'r2', cv=cv_femur, n_jobs = -1)\n",
    "print('r2: %.3f (%.3f)' % (mean(scores), std(scores)))"
   ]
  },
  {
   "cell_type": "code",
   "execution_count": 85,
   "metadata": {},
   "outputs": [
    {
     "name": "stdout",
     "output_type": "stream",
     "text": [
      "r2: 0.387 (0.036)\n"
     ]
    }
   ],
   "source": [
    "from xgboost import XGBRegressor\n",
    "# param = {\"booster\":\"gblinear\", \"objective\":\"reg:linear\"}\n",
    "model5 = XGBRegressor(objective='reg:squarederror',  n_estimators = 10, seed = 123) \n",
    "cv_femur = KFold(n_splits=5, random_state=10, shuffle=True)\n",
    "scores = cross_val_score(model5, x_femur, y_femur,scoring = 'r2', cv=cv_femur, n_jobs = -1)\n",
    "print('r2: %.3f (%.3f)' % (mean(scores), std(scores)))"
   ]
  },
  {
   "cell_type": "code",
   "execution_count": 86,
   "metadata": {},
   "outputs": [
    {
     "name": "stdout",
     "output_type": "stream",
     "text": [
      "r2: 0.545 (0.016)\n"
     ]
    }
   ],
   "source": [
    "from sklearn.ensemble import GradientBoostingRegressor\n",
    "model6 = GradientBoostingRegressor() \n",
    "cv_femur = KFold(n_splits=5, random_state=10, shuffle=True)\n",
    "scores = cross_val_score(model6, x_femur, y_femur,scoring = 'r2', cv=cv_femur, n_jobs = -1)\n",
    "print('r2: %.3f (%.3f)' % (mean(scores), std(scores)))"
   ]
  },
  {
   "cell_type": "code",
   "execution_count": 87,
   "metadata": {},
   "outputs": [
    {
     "name": "stdout",
     "output_type": "stream",
     "text": [
      "r2: nan (nan)\n"
     ]
    }
   ],
   "source": [
    "import lightgbm\n",
    "from lightgbm import LGBMRegressor\n",
    "model7 = LGBMRegressor() \n",
    "cv_femur = KFold(n_splits=5, random_state=10, shuffle=True)\n",
    "scores = cross_val_score(model7, x_femur, y_femur,scoring = 'r2', cv=cv_femur, n_jobs = -1)\n",
    "print('r2: %.3f (%.3f)' % (mean(scores), std(scores)))"
   ]
  },
  {
   "cell_type": "code",
   "execution_count": 88,
   "metadata": {},
   "outputs": [
    {
     "name": "stdout",
     "output_type": "stream",
     "text": [
      "MAE: -2.437 (0.092)\n"
     ]
    }
   ],
   "source": [
    "from sklearn.model_selection import RepeatedKFold\n",
    "model = GradientBoostingRegressor()\n",
    "cv = RepeatedKFold(n_splits=5, n_repeats=3, random_state=1)\n",
    "n_scores = cross_val_score(model, x_femur, y_femur, scoring='neg_mean_absolute_error', cv=cv, n_jobs=-1, error_score='raise')\n",
    "print('MAE: %.3f (%.3f)' % (mean(n_scores), std(n_scores)))"
   ]
  },
  {
   "cell_type": "code",
   "execution_count": 89,
   "metadata": {},
   "outputs": [
    {
     "name": "stdout",
     "output_type": "stream",
     "text": [
      "MAE: -2.430 (0.092)\n"
     ]
    }
   ],
   "source": [
    "from sklearn.model_selection import RepeatedKFold\n",
    "model8 = SVR(kernel='linear')\n",
    "cv = RepeatedKFold(n_splits=5, n_repeats=3, random_state=1)\n",
    "n_scores = cross_val_score(model8, x_femur, y_femur, scoring='neg_mean_absolute_error', cv=cv, n_jobs=-1, error_score='raise')\n",
    "print('MAE: %.3f (%.3f)' % (mean(n_scores), std(n_scores)))"
   ]
  },
  {
   "cell_type": "code",
   "execution_count": 90,
   "metadata": {},
   "outputs": [
    {
     "name": "stdout",
     "output_type": "stream",
     "text": [
      "MAE: -2.415 (0.100)\n"
     ]
    }
   ],
   "source": [
    "model9=RandomForestRegressor(max_depth=5, random_state=0)\n",
    "cv = RepeatedKFold(n_splits=5, n_repeats=3, random_state=1)\n",
    "n_scores = cross_val_score(model9, x_femur, y_femur, scoring='neg_mean_absolute_error', cv=cv, n_jobs=-1, error_score='raise')\n",
    "print('MAE: %.3f (%.3f)' % (mean(n_scores), std(n_scores)))"
   ]
  },
  {
   "cell_type": "code",
   "execution_count": 91,
   "metadata": {},
   "outputs": [
    {
     "name": "stdout",
     "output_type": "stream",
     "text": [
      "MAE: -2.521 (0.079)\n"
     ]
    }
   ],
   "source": [
    "from sklearn.model_selection import RepeatedKFold\n",
    "model8 = SVR(kernel='rbf')\n",
    "cv = RepeatedKFold(n_splits=5, n_repeats=3, random_state=1)\n",
    "n_scores = cross_val_score(model8, x_femur, y_femur, scoring='neg_mean_absolute_error', cv=cv, n_jobs=-1, error_score='raise')\n",
    "print('MAE: %.3f (%.3f)' % (mean(n_scores), std(n_scores)))"
   ]
  },
  {
   "cell_type": "markdown",
   "metadata": {},
   "source": [
    "#### Checking test data"
   ]
  },
  {
   "cell_type": "code",
   "execution_count": 92,
   "metadata": {},
   "outputs": [
    {
     "data": {
      "text/plain": [
       "Index(['age', 'right', 'Demographics.Gender (0=Female, 1=Male)',\n",
       "       'Procedure_TKR.BMI', 'Procedure_TKR.Weight_kg',\n",
       "       'Procedure_TKR.Height_cm', 'Femoral Model', 'Femur implanted',\n",
       "       'Tibial Model', 'Tibia Implanted', 'Unnamed: 10'],\n",
       "      dtype='object')"
      ]
     },
     "execution_count": 92,
     "metadata": {},
     "output_type": "execute_result"
    }
   ],
   "source": [
    "test_df.columns"
   ]
  },
  {
   "cell_type": "code",
   "execution_count": 93,
   "metadata": {},
   "outputs": [
    {
     "data": {
      "text/html": [
       "<div>\n",
       "<style scoped>\n",
       "    .dataframe tbody tr th:only-of-type {\n",
       "        vertical-align: middle;\n",
       "    }\n",
       "\n",
       "    .dataframe tbody tr th {\n",
       "        vertical-align: top;\n",
       "    }\n",
       "\n",
       "    .dataframe thead th {\n",
       "        text-align: right;\n",
       "    }\n",
       "</style>\n",
       "<table border=\"1\" class=\"dataframe\">\n",
       "  <thead>\n",
       "    <tr style=\"text-align: right;\">\n",
       "      <th></th>\n",
       "      <th>age</th>\n",
       "      <th>right</th>\n",
       "      <th>Demographics.Gender (0=Female, 1=Male)</th>\n",
       "      <th>Procedure_TKR.BMI</th>\n",
       "      <th>Procedure_TKR.Weight_kg</th>\n",
       "      <th>Procedure_TKR.Height_cm</th>\n",
       "      <th>Femoral Model</th>\n",
       "      <th>Femur implanted</th>\n",
       "      <th>Tibial Model</th>\n",
       "      <th>Tibia Implanted</th>\n",
       "      <th>Unnamed: 10</th>\n",
       "    </tr>\n",
       "  </thead>\n",
       "  <tbody>\n",
       "    <tr>\n",
       "      <th>0</th>\n",
       "      <td>59</td>\n",
       "      <td>1</td>\n",
       "      <td>0.0</td>\n",
       "      <td>30.13</td>\n",
       "      <td>95.3</td>\n",
       "      <td>177.8</td>\n",
       "      <td>SN Legion Size 6</td>\n",
       "      <td>66.0</td>\n",
       "      <td>Genesis II size 5</td>\n",
       "      <td>74.0</td>\n",
       "      <td>NaN</td>\n",
       "    </tr>\n",
       "    <tr>\n",
       "      <th>1</th>\n",
       "      <td>42</td>\n",
       "      <td>0</td>\n",
       "      <td>1.0</td>\n",
       "      <td>32.49</td>\n",
       "      <td>100.2</td>\n",
       "      <td>173.2</td>\n",
       "      <td>SN Legion Size 7</td>\n",
       "      <td>70.0</td>\n",
       "      <td>Genesis II size 6</td>\n",
       "      <td>77.0</td>\n",
       "      <td>NaN</td>\n",
       "    </tr>\n",
       "    <tr>\n",
       "      <th>2</th>\n",
       "      <td>71</td>\n",
       "      <td>0</td>\n",
       "      <td>0.0</td>\n",
       "      <td>34.00</td>\n",
       "      <td>98.4</td>\n",
       "      <td>170.2</td>\n",
       "      <td>Stryker Triathlon Femoral 5</td>\n",
       "      <td>65.0</td>\n",
       "      <td>Stryker Triathlon Tibial 5</td>\n",
       "      <td>74.0</td>\n",
       "      <td>NaN</td>\n",
       "    </tr>\n",
       "    <tr>\n",
       "      <th>3</th>\n",
       "      <td>83</td>\n",
       "      <td>0</td>\n",
       "      <td>0.0</td>\n",
       "      <td>24.27</td>\n",
       "      <td>62.1</td>\n",
       "      <td>160.0</td>\n",
       "      <td>SN Legion Size 4</td>\n",
       "      <td>59.0</td>\n",
       "      <td>Genesis II size 2</td>\n",
       "      <td>64.0</td>\n",
       "      <td>NaN</td>\n",
       "    </tr>\n",
       "    <tr>\n",
       "      <th>4</th>\n",
       "      <td>56</td>\n",
       "      <td>1</td>\n",
       "      <td>1.0</td>\n",
       "      <td>49.51</td>\n",
       "      <td>161.0</td>\n",
       "      <td>180.3</td>\n",
       "      <td>Stryker Triathlon Femoral 8</td>\n",
       "      <td>75.0</td>\n",
       "      <td>Stryker Triathlon Tibial 7</td>\n",
       "      <td>80.0</td>\n",
       "      <td>NaN</td>\n",
       "    </tr>\n",
       "  </tbody>\n",
       "</table>\n",
       "</div>"
      ],
      "text/plain": [
       "  age right  Demographics.Gender (0=Female, 1=Male)  Procedure_TKR.BMI  \\\n",
       "0  59     1                                     0.0              30.13   \n",
       "1  42     0                                     1.0              32.49   \n",
       "2  71     0                                     0.0              34.00   \n",
       "3  83     0                                     0.0              24.27   \n",
       "4  56     1                                     1.0              49.51   \n",
       "\n",
       "   Procedure_TKR.Weight_kg  Procedure_TKR.Height_cm  \\\n",
       "0                     95.3                    177.8   \n",
       "1                    100.2                    173.2   \n",
       "2                     98.4                    170.2   \n",
       "3                     62.1                    160.0   \n",
       "4                    161.0                    180.3   \n",
       "\n",
       "                 Femoral Model  Femur implanted                Tibial Model  \\\n",
       "0             SN Legion Size 6             66.0           Genesis II size 5   \n",
       "1             SN Legion Size 7             70.0           Genesis II size 6   \n",
       "2  Stryker Triathlon Femoral 5             65.0  Stryker Triathlon Tibial 5   \n",
       "3             SN Legion Size 4             59.0           Genesis II size 2   \n",
       "4  Stryker Triathlon Femoral 8             75.0  Stryker Triathlon Tibial 7   \n",
       "\n",
       "   Tibia Implanted  Unnamed: 10  \n",
       "0             74.0          NaN  \n",
       "1             77.0          NaN  \n",
       "2             74.0          NaN  \n",
       "3             64.0          NaN  \n",
       "4             80.0          NaN  "
      ]
     },
     "execution_count": 93,
     "metadata": {},
     "output_type": "execute_result"
    }
   ],
   "source": [
    "test_df.head()"
   ]
  },
  {
   "cell_type": "code",
   "execution_count": 94,
   "metadata": {},
   "outputs": [],
   "source": [
    "test_data =test_df.loc[:,['Demographics.Gender (0=Female, 1=Male)','Procedure_TKR.Weight_kg','Procedure_TKR.Height_cm','Femur implanted','Tibia Implanted' ]]\n"
   ]
  },
  {
   "cell_type": "code",
   "execution_count": 95,
   "metadata": {},
   "outputs": [
    {
     "data": {
      "text/html": [
       "<div>\n",
       "<style scoped>\n",
       "    .dataframe tbody tr th:only-of-type {\n",
       "        vertical-align: middle;\n",
       "    }\n",
       "\n",
       "    .dataframe tbody tr th {\n",
       "        vertical-align: top;\n",
       "    }\n",
       "\n",
       "    .dataframe thead th {\n",
       "        text-align: right;\n",
       "    }\n",
       "</style>\n",
       "<table border=\"1\" class=\"dataframe\">\n",
       "  <thead>\n",
       "    <tr style=\"text-align: right;\">\n",
       "      <th></th>\n",
       "      <th>Demographics.Gender (0=Female, 1=Male)</th>\n",
       "      <th>Procedure_TKR.Weight_kg</th>\n",
       "      <th>Procedure_TKR.Height_cm</th>\n",
       "      <th>Femur implanted</th>\n",
       "      <th>Tibia Implanted</th>\n",
       "    </tr>\n",
       "  </thead>\n",
       "  <tbody>\n",
       "    <tr>\n",
       "      <th>0</th>\n",
       "      <td>0.0</td>\n",
       "      <td>95.3</td>\n",
       "      <td>177.8</td>\n",
       "      <td>66.0</td>\n",
       "      <td>74.0</td>\n",
       "    </tr>\n",
       "    <tr>\n",
       "      <th>1</th>\n",
       "      <td>1.0</td>\n",
       "      <td>100.2</td>\n",
       "      <td>173.2</td>\n",
       "      <td>70.0</td>\n",
       "      <td>77.0</td>\n",
       "    </tr>\n",
       "    <tr>\n",
       "      <th>2</th>\n",
       "      <td>0.0</td>\n",
       "      <td>98.4</td>\n",
       "      <td>170.2</td>\n",
       "      <td>65.0</td>\n",
       "      <td>74.0</td>\n",
       "    </tr>\n",
       "    <tr>\n",
       "      <th>3</th>\n",
       "      <td>0.0</td>\n",
       "      <td>62.1</td>\n",
       "      <td>160.0</td>\n",
       "      <td>59.0</td>\n",
       "      <td>64.0</td>\n",
       "    </tr>\n",
       "    <tr>\n",
       "      <th>4</th>\n",
       "      <td>1.0</td>\n",
       "      <td>161.0</td>\n",
       "      <td>180.3</td>\n",
       "      <td>75.0</td>\n",
       "      <td>80.0</td>\n",
       "    </tr>\n",
       "  </tbody>\n",
       "</table>\n",
       "</div>"
      ],
      "text/plain": [
       "   Demographics.Gender (0=Female, 1=Male)  Procedure_TKR.Weight_kg  \\\n",
       "0                                     0.0                     95.3   \n",
       "1                                     1.0                    100.2   \n",
       "2                                     0.0                     98.4   \n",
       "3                                     0.0                     62.1   \n",
       "4                                     1.0                    161.0   \n",
       "\n",
       "   Procedure_TKR.Height_cm  Femur implanted  Tibia Implanted  \n",
       "0                    177.8             66.0             74.0  \n",
       "1                    173.2             70.0             77.0  \n",
       "2                    170.2             65.0             74.0  \n",
       "3                    160.0             59.0             64.0  \n",
       "4                    180.3             75.0             80.0  "
      ]
     },
     "execution_count": 95,
     "metadata": {},
     "output_type": "execute_result"
    }
   ],
   "source": [
    "test_data.head()"
   ]
  },
  {
   "cell_type": "code",
   "execution_count": 96,
   "metadata": {},
   "outputs": [
    {
     "data": {
      "text/html": [
       "<div>\n",
       "<style scoped>\n",
       "    .dataframe tbody tr th:only-of-type {\n",
       "        vertical-align: middle;\n",
       "    }\n",
       "\n",
       "    .dataframe tbody tr th {\n",
       "        vertical-align: top;\n",
       "    }\n",
       "\n",
       "    .dataframe thead th {\n",
       "        text-align: right;\n",
       "    }\n",
       "</style>\n",
       "<table border=\"1\" class=\"dataframe\">\n",
       "  <thead>\n",
       "    <tr style=\"text-align: right;\">\n",
       "      <th></th>\n",
       "      <th>Procedure_TKR.Height_cm</th>\n",
       "      <th>Procedure_TKR.Weight_kg</th>\n",
       "      <th>Demographics.Gender (0=Female, 1=Male)</th>\n",
       "      <th>Tibia ML Dimension (mm)</th>\n",
       "      <th>Femur AP Dimension (mm)</th>\n",
       "    </tr>\n",
       "  </thead>\n",
       "  <tbody>\n",
       "    <tr>\n",
       "      <th>2</th>\n",
       "      <td>127.00</td>\n",
       "      <td>52.00</td>\n",
       "      <td>0</td>\n",
       "      <td>66.0</td>\n",
       "      <td>57.5</td>\n",
       "    </tr>\n",
       "    <tr>\n",
       "      <th>5</th>\n",
       "      <td>127.00</td>\n",
       "      <td>72.73</td>\n",
       "      <td>0</td>\n",
       "      <td>63.8</td>\n",
       "      <td>59.0</td>\n",
       "    </tr>\n",
       "    <tr>\n",
       "      <th>6</th>\n",
       "      <td>139.70</td>\n",
       "      <td>54.09</td>\n",
       "      <td>0</td>\n",
       "      <td>67.0</td>\n",
       "      <td>58.7</td>\n",
       "    </tr>\n",
       "    <tr>\n",
       "      <th>7</th>\n",
       "      <td>147.32</td>\n",
       "      <td>46.70</td>\n",
       "      <td>0</td>\n",
       "      <td>67.0</td>\n",
       "      <td>59.0</td>\n",
       "    </tr>\n",
       "    <tr>\n",
       "      <th>8</th>\n",
       "      <td>149.86</td>\n",
       "      <td>47.27</td>\n",
       "      <td>0</td>\n",
       "      <td>67.0</td>\n",
       "      <td>58.7</td>\n",
       "    </tr>\n",
       "  </tbody>\n",
       "</table>\n",
       "</div>"
      ],
      "text/plain": [
       "   Procedure_TKR.Height_cm  Procedure_TKR.Weight_kg  \\\n",
       "2                   127.00                    52.00   \n",
       "5                   127.00                    72.73   \n",
       "6                   139.70                    54.09   \n",
       "7                   147.32                    46.70   \n",
       "8                   149.86                    47.27   \n",
       "\n",
       "   Demographics.Gender (0=Female, 1=Male)  Tibia ML Dimension (mm)  \\\n",
       "2                                       0                     66.0   \n",
       "5                                       0                     63.8   \n",
       "6                                       0                     67.0   \n",
       "7                                       0                     67.0   \n",
       "8                                       0                     67.0   \n",
       "\n",
       "   Femur AP Dimension (mm)  \n",
       "2                     57.5  \n",
       "5                     59.0  \n",
       "6                     58.7  \n",
       "7                     59.0  \n",
       "8                     58.7  "
      ]
     },
     "execution_count": 96,
     "metadata": {},
     "output_type": "execute_result"
    }
   ],
   "source": [
    "train_data.head()"
   ]
  },
  {
   "cell_type": "code",
   "execution_count": 97,
   "metadata": {},
   "outputs": [],
   "source": [
    "test_data = test_data.rename(columns={'Femur implanted':'Femur AP Dimension (mm)'})"
   ]
  },
  {
   "cell_type": "code",
   "execution_count": 98,
   "metadata": {},
   "outputs": [
    {
     "data": {
      "text/html": [
       "<div>\n",
       "<style scoped>\n",
       "    .dataframe tbody tr th:only-of-type {\n",
       "        vertical-align: middle;\n",
       "    }\n",
       "\n",
       "    .dataframe tbody tr th {\n",
       "        vertical-align: top;\n",
       "    }\n",
       "\n",
       "    .dataframe thead th {\n",
       "        text-align: right;\n",
       "    }\n",
       "</style>\n",
       "<table border=\"1\" class=\"dataframe\">\n",
       "  <thead>\n",
       "    <tr style=\"text-align: right;\">\n",
       "      <th></th>\n",
       "      <th>Demographics.Gender (0=Female, 1=Male)</th>\n",
       "      <th>Procedure_TKR.Weight_kg</th>\n",
       "      <th>Procedure_TKR.Height_cm</th>\n",
       "      <th>Femur AP Dimension (mm)</th>\n",
       "      <th>Tibia Implanted</th>\n",
       "    </tr>\n",
       "  </thead>\n",
       "  <tbody>\n",
       "    <tr>\n",
       "      <th>0</th>\n",
       "      <td>0.0</td>\n",
       "      <td>95.3</td>\n",
       "      <td>177.8</td>\n",
       "      <td>66.0</td>\n",
       "      <td>74.0</td>\n",
       "    </tr>\n",
       "    <tr>\n",
       "      <th>1</th>\n",
       "      <td>1.0</td>\n",
       "      <td>100.2</td>\n",
       "      <td>173.2</td>\n",
       "      <td>70.0</td>\n",
       "      <td>77.0</td>\n",
       "    </tr>\n",
       "    <tr>\n",
       "      <th>2</th>\n",
       "      <td>0.0</td>\n",
       "      <td>98.4</td>\n",
       "      <td>170.2</td>\n",
       "      <td>65.0</td>\n",
       "      <td>74.0</td>\n",
       "    </tr>\n",
       "    <tr>\n",
       "      <th>3</th>\n",
       "      <td>0.0</td>\n",
       "      <td>62.1</td>\n",
       "      <td>160.0</td>\n",
       "      <td>59.0</td>\n",
       "      <td>64.0</td>\n",
       "    </tr>\n",
       "    <tr>\n",
       "      <th>4</th>\n",
       "      <td>1.0</td>\n",
       "      <td>161.0</td>\n",
       "      <td>180.3</td>\n",
       "      <td>75.0</td>\n",
       "      <td>80.0</td>\n",
       "    </tr>\n",
       "  </tbody>\n",
       "</table>\n",
       "</div>"
      ],
      "text/plain": [
       "   Demographics.Gender (0=Female, 1=Male)  Procedure_TKR.Weight_kg  \\\n",
       "0                                     0.0                     95.3   \n",
       "1                                     1.0                    100.2   \n",
       "2                                     0.0                     98.4   \n",
       "3                                     0.0                     62.1   \n",
       "4                                     1.0                    161.0   \n",
       "\n",
       "   Procedure_TKR.Height_cm  Femur AP Dimension (mm)  Tibia Implanted  \n",
       "0                    177.8                     66.0             74.0  \n",
       "1                    173.2                     70.0             77.0  \n",
       "2                    170.2                     65.0             74.0  \n",
       "3                    160.0                     59.0             64.0  \n",
       "4                    180.3                     75.0             80.0  "
      ]
     },
     "execution_count": 98,
     "metadata": {},
     "output_type": "execute_result"
    }
   ],
   "source": [
    "test_data.head()"
   ]
  },
  {
   "cell_type": "code",
   "execution_count": 154,
   "metadata": {},
   "outputs": [
    {
     "data": {
      "text/plain": [
       "496"
      ]
     },
     "execution_count": 154,
     "metadata": {},
     "output_type": "execute_result"
    }
   ],
   "source": [
    "len(test_data)"
   ]
  },
  {
   "cell_type": "code",
   "execution_count": 99,
   "metadata": {},
   "outputs": [
    {
     "data": {
      "text/plain": [
       "Demographics.Gender (0=Female, 1=Male)    520\n",
       "Procedure_TKR.Weight_kg                   525\n",
       "Procedure_TKR.Height_cm                   525\n",
       "Femur AP Dimension (mm)                   525\n",
       "Tibia Implanted                           528\n",
       "dtype: int64"
      ]
     },
     "execution_count": 99,
     "metadata": {},
     "output_type": "execute_result"
    }
   ],
   "source": [
    "test_data.isna().sum()"
   ]
  },
  {
   "cell_type": "code",
   "execution_count": 100,
   "metadata": {},
   "outputs": [],
   "source": [
    "test_data = test_data.dropna(subset=['Demographics.Gender (0=Female, 1=Male)'])"
   ]
  },
  {
   "cell_type": "code",
   "execution_count": 101,
   "metadata": {},
   "outputs": [
    {
     "data": {
      "text/plain": [
       "Demographics.Gender (0=Female, 1=Male)    0\n",
       "Procedure_TKR.Weight_kg                   5\n",
       "Procedure_TKR.Height_cm                   5\n",
       "Femur AP Dimension (mm)                   5\n",
       "Tibia Implanted                           8\n",
       "dtype: int64"
      ]
     },
     "execution_count": 101,
     "metadata": {},
     "output_type": "execute_result"
    }
   ],
   "source": [
    "test_data.isna().sum()"
   ]
  },
  {
   "cell_type": "code",
   "execution_count": 102,
   "metadata": {},
   "outputs": [],
   "source": [
    "# Imputing missing values\n",
    "# K-NN IMPUTATION\n",
    "#  KNN Imputer maintains the value and variability of your datasets and yet it is more precise and efficient than using the average values.\n",
    "from sklearn.impute import KNNImputer\n",
    "imputer = KNNImputer(n_neighbors=5)\n",
    "test_data = pd.DataFrame(imputer.fit_transform(test_data),columns = test_data.columns)"
   ]
  },
  {
   "cell_type": "code",
   "execution_count": 103,
   "metadata": {},
   "outputs": [
    {
     "data": {
      "text/plain": [
       "Demographics.Gender (0=Female, 1=Male)    0\n",
       "Procedure_TKR.Weight_kg                   0\n",
       "Procedure_TKR.Height_cm                   0\n",
       "Femur AP Dimension (mm)                   0\n",
       "Tibia Implanted                           0\n",
       "dtype: int64"
      ]
     },
     "execution_count": 103,
     "metadata": {},
     "output_type": "execute_result"
    }
   ],
   "source": [
    "test_data.isna().sum()"
   ]
  },
  {
   "cell_type": "code",
   "execution_count": 104,
   "metadata": {},
   "outputs": [
    {
     "data": {
      "text/plain": [
       "496"
      ]
     },
     "execution_count": 104,
     "metadata": {},
     "output_type": "execute_result"
    }
   ],
   "source": [
    "len(test_data)"
   ]
  },
  {
   "cell_type": "code",
   "execution_count": 105,
   "metadata": {},
   "outputs": [],
   "source": [
    "# Converting the variable gender from float to integer\n",
    "test_data=test_data.astype({'Demographics.Gender (0=Female, 1=Male)': 'int32'})"
   ]
  },
  {
   "cell_type": "code",
   "execution_count": 106,
   "metadata": {},
   "outputs": [
    {
     "data": {
      "text/plain": [
       "Demographics.Gender (0=Female, 1=Male)      int32\n",
       "Procedure_TKR.Weight_kg                   float64\n",
       "Procedure_TKR.Height_cm                   float64\n",
       "Femur AP Dimension (mm)                   float64\n",
       "Tibia Implanted                           float64\n",
       "dtype: object"
      ]
     },
     "execution_count": 106,
     "metadata": {},
     "output_type": "execute_result"
    }
   ],
   "source": [
    "test_data.dtypes"
   ]
  },
  {
   "cell_type": "code",
   "execution_count": 107,
   "metadata": {},
   "outputs": [
    {
     "data": {
      "text/html": [
       "<div>\n",
       "<style scoped>\n",
       "    .dataframe tbody tr th:only-of-type {\n",
       "        vertical-align: middle;\n",
       "    }\n",
       "\n",
       "    .dataframe tbody tr th {\n",
       "        vertical-align: top;\n",
       "    }\n",
       "\n",
       "    .dataframe thead th {\n",
       "        text-align: right;\n",
       "    }\n",
       "</style>\n",
       "<table border=\"1\" class=\"dataframe\">\n",
       "  <thead>\n",
       "    <tr style=\"text-align: right;\">\n",
       "      <th></th>\n",
       "      <th>Demographics.Gender (0=Female, 1=Male)</th>\n",
       "      <th>Procedure_TKR.Weight_kg</th>\n",
       "      <th>Procedure_TKR.Height_cm</th>\n",
       "      <th>Femur AP Dimension (mm)</th>\n",
       "      <th>Tibia Implanted</th>\n",
       "    </tr>\n",
       "  </thead>\n",
       "  <tbody>\n",
       "    <tr>\n",
       "      <th>0</th>\n",
       "      <td>0</td>\n",
       "      <td>95.3</td>\n",
       "      <td>177.8</td>\n",
       "      <td>66.0</td>\n",
       "      <td>74.0</td>\n",
       "    </tr>\n",
       "    <tr>\n",
       "      <th>1</th>\n",
       "      <td>1</td>\n",
       "      <td>100.2</td>\n",
       "      <td>173.2</td>\n",
       "      <td>70.0</td>\n",
       "      <td>77.0</td>\n",
       "    </tr>\n",
       "    <tr>\n",
       "      <th>2</th>\n",
       "      <td>0</td>\n",
       "      <td>98.4</td>\n",
       "      <td>170.2</td>\n",
       "      <td>65.0</td>\n",
       "      <td>74.0</td>\n",
       "    </tr>\n",
       "    <tr>\n",
       "      <th>3</th>\n",
       "      <td>0</td>\n",
       "      <td>62.1</td>\n",
       "      <td>160.0</td>\n",
       "      <td>59.0</td>\n",
       "      <td>64.0</td>\n",
       "    </tr>\n",
       "    <tr>\n",
       "      <th>4</th>\n",
       "      <td>1</td>\n",
       "      <td>161.0</td>\n",
       "      <td>180.3</td>\n",
       "      <td>75.0</td>\n",
       "      <td>80.0</td>\n",
       "    </tr>\n",
       "  </tbody>\n",
       "</table>\n",
       "</div>"
      ],
      "text/plain": [
       "   Demographics.Gender (0=Female, 1=Male)  Procedure_TKR.Weight_kg  \\\n",
       "0                                       0                     95.3   \n",
       "1                                       1                    100.2   \n",
       "2                                       0                     98.4   \n",
       "3                                       0                     62.1   \n",
       "4                                       1                    161.0   \n",
       "\n",
       "   Procedure_TKR.Height_cm  Femur AP Dimension (mm)  Tibia Implanted  \n",
       "0                    177.8                     66.0             74.0  \n",
       "1                    173.2                     70.0             77.0  \n",
       "2                    170.2                     65.0             74.0  \n",
       "3                    160.0                     59.0             64.0  \n",
       "4                    180.3                     75.0             80.0  "
      ]
     },
     "execution_count": 107,
     "metadata": {},
     "output_type": "execute_result"
    }
   ],
   "source": [
    "test_data.head()"
   ]
  },
  {
   "cell_type": "code",
   "execution_count": 108,
   "metadata": {},
   "outputs": [],
   "source": [
    "# # Scaling the numeric variables\n",
    "# from sklearn.preprocessing import MinMaxScaler, StandardScaler\n",
    "# scaler = MinMaxScaler()\n",
    "# test_data = pd.DataFrame(scaler.fit_transform(test_data), columns = test_data.columns)\n",
    "# test_data.tail()"
   ]
  },
  {
   "cell_type": "code",
   "execution_count": 109,
   "metadata": {},
   "outputs": [],
   "source": [
    "x_test=test_data.loc[:,['Demographics.Gender (0=Female, 1=Male)','Procedure_TKR.Weight_kg','Procedure_TKR.Height_cm']]"
   ]
  },
  {
   "cell_type": "code",
   "execution_count": 110,
   "metadata": {},
   "outputs": [],
   "source": [
    "\n",
    "y_test=test_data.loc[:,['Femur AP Dimension (mm)']]"
   ]
  },
  {
   "cell_type": "code",
   "execution_count": 111,
   "metadata": {},
   "outputs": [
    {
     "data": {
      "text/html": [
       "<div>\n",
       "<style scoped>\n",
       "    .dataframe tbody tr th:only-of-type {\n",
       "        vertical-align: middle;\n",
       "    }\n",
       "\n",
       "    .dataframe tbody tr th {\n",
       "        vertical-align: top;\n",
       "    }\n",
       "\n",
       "    .dataframe thead th {\n",
       "        text-align: right;\n",
       "    }\n",
       "</style>\n",
       "<table border=\"1\" class=\"dataframe\">\n",
       "  <thead>\n",
       "    <tr style=\"text-align: right;\">\n",
       "      <th></th>\n",
       "      <th>Femur AP Dimension (mm)</th>\n",
       "    </tr>\n",
       "  </thead>\n",
       "  <tbody>\n",
       "    <tr>\n",
       "      <th>0</th>\n",
       "      <td>66.0</td>\n",
       "    </tr>\n",
       "    <tr>\n",
       "      <th>1</th>\n",
       "      <td>70.0</td>\n",
       "    </tr>\n",
       "    <tr>\n",
       "      <th>2</th>\n",
       "      <td>65.0</td>\n",
       "    </tr>\n",
       "    <tr>\n",
       "      <th>3</th>\n",
       "      <td>59.0</td>\n",
       "    </tr>\n",
       "    <tr>\n",
       "      <th>4</th>\n",
       "      <td>75.0</td>\n",
       "    </tr>\n",
       "  </tbody>\n",
       "</table>\n",
       "</div>"
      ],
      "text/plain": [
       "   Femur AP Dimension (mm)\n",
       "0                     66.0\n",
       "1                     70.0\n",
       "2                     65.0\n",
       "3                     59.0\n",
       "4                     75.0"
      ]
     },
     "execution_count": 111,
     "metadata": {},
     "output_type": "execute_result"
    }
   ],
   "source": [
    "y_test.head()"
   ]
  },
  {
   "cell_type": "code",
   "execution_count": 112,
   "metadata": {},
   "outputs": [
    {
     "data": {
      "text/html": [
       "<div>\n",
       "<style scoped>\n",
       "    .dataframe tbody tr th:only-of-type {\n",
       "        vertical-align: middle;\n",
       "    }\n",
       "\n",
       "    .dataframe tbody tr th {\n",
       "        vertical-align: top;\n",
       "    }\n",
       "\n",
       "    .dataframe thead th {\n",
       "        text-align: right;\n",
       "    }\n",
       "</style>\n",
       "<table border=\"1\" class=\"dataframe\">\n",
       "  <thead>\n",
       "    <tr style=\"text-align: right;\">\n",
       "      <th></th>\n",
       "      <th>Demographics.Gender (0=Female, 1=Male)</th>\n",
       "      <th>Procedure_TKR.Weight_kg</th>\n",
       "      <th>Procedure_TKR.Height_cm</th>\n",
       "    </tr>\n",
       "  </thead>\n",
       "  <tbody>\n",
       "    <tr>\n",
       "      <th>0</th>\n",
       "      <td>0</td>\n",
       "      <td>95.3</td>\n",
       "      <td>177.8</td>\n",
       "    </tr>\n",
       "    <tr>\n",
       "      <th>1</th>\n",
       "      <td>1</td>\n",
       "      <td>100.2</td>\n",
       "      <td>173.2</td>\n",
       "    </tr>\n",
       "    <tr>\n",
       "      <th>2</th>\n",
       "      <td>0</td>\n",
       "      <td>98.4</td>\n",
       "      <td>170.2</td>\n",
       "    </tr>\n",
       "    <tr>\n",
       "      <th>3</th>\n",
       "      <td>0</td>\n",
       "      <td>62.1</td>\n",
       "      <td>160.0</td>\n",
       "    </tr>\n",
       "    <tr>\n",
       "      <th>4</th>\n",
       "      <td>1</td>\n",
       "      <td>161.0</td>\n",
       "      <td>180.3</td>\n",
       "    </tr>\n",
       "  </tbody>\n",
       "</table>\n",
       "</div>"
      ],
      "text/plain": [
       "   Demographics.Gender (0=Female, 1=Male)  Procedure_TKR.Weight_kg  \\\n",
       "0                                       0                     95.3   \n",
       "1                                       1                    100.2   \n",
       "2                                       0                     98.4   \n",
       "3                                       0                     62.1   \n",
       "4                                       1                    161.0   \n",
       "\n",
       "   Procedure_TKR.Height_cm  \n",
       "0                    177.8  \n",
       "1                    173.2  \n",
       "2                    170.2  \n",
       "3                    160.0  \n",
       "4                    180.3  "
      ]
     },
     "execution_count": 112,
     "metadata": {},
     "output_type": "execute_result"
    }
   ],
   "source": [
    "x_test.head()"
   ]
  },
  {
   "cell_type": "code",
   "execution_count": 113,
   "metadata": {},
   "outputs": [
    {
     "data": {
      "text/html": [
       "<div>\n",
       "<style scoped>\n",
       "    .dataframe tbody tr th:only-of-type {\n",
       "        vertical-align: middle;\n",
       "    }\n",
       "\n",
       "    .dataframe tbody tr th {\n",
       "        vertical-align: top;\n",
       "    }\n",
       "\n",
       "    .dataframe thead th {\n",
       "        text-align: right;\n",
       "    }\n",
       "</style>\n",
       "<table border=\"1\" class=\"dataframe\">\n",
       "  <thead>\n",
       "    <tr style=\"text-align: right;\">\n",
       "      <th></th>\n",
       "      <th>Demographics.Gender (0=Female, 1=Male)</th>\n",
       "      <th>Procedure_TKR.Weight_kg</th>\n",
       "      <th>Procedure_TKR.Height_cm</th>\n",
       "    </tr>\n",
       "  </thead>\n",
       "  <tbody>\n",
       "    <tr>\n",
       "      <th>0</th>\n",
       "      <td>0</td>\n",
       "      <td>95.3</td>\n",
       "      <td>177.8</td>\n",
       "    </tr>\n",
       "    <tr>\n",
       "      <th>1</th>\n",
       "      <td>1</td>\n",
       "      <td>100.2</td>\n",
       "      <td>173.2</td>\n",
       "    </tr>\n",
       "    <tr>\n",
       "      <th>2</th>\n",
       "      <td>0</td>\n",
       "      <td>98.4</td>\n",
       "      <td>170.2</td>\n",
       "    </tr>\n",
       "    <tr>\n",
       "      <th>3</th>\n",
       "      <td>0</td>\n",
       "      <td>62.1</td>\n",
       "      <td>160.0</td>\n",
       "    </tr>\n",
       "    <tr>\n",
       "      <th>4</th>\n",
       "      <td>1</td>\n",
       "      <td>161.0</td>\n",
       "      <td>180.3</td>\n",
       "    </tr>\n",
       "  </tbody>\n",
       "</table>\n",
       "</div>"
      ],
      "text/plain": [
       "   Demographics.Gender (0=Female, 1=Male)  Procedure_TKR.Weight_kg  \\\n",
       "0                                       0                     95.3   \n",
       "1                                       1                    100.2   \n",
       "2                                       0                     98.4   \n",
       "3                                       0                     62.1   \n",
       "4                                       1                    161.0   \n",
       "\n",
       "   Procedure_TKR.Height_cm  \n",
       "0                    177.8  \n",
       "1                    173.2  \n",
       "2                    170.2  \n",
       "3                    160.0  \n",
       "4                    180.3  "
      ]
     },
     "execution_count": 113,
     "metadata": {},
     "output_type": "execute_result"
    }
   ],
   "source": [
    "x_test.head()"
   ]
  },
  {
   "cell_type": "code",
   "execution_count": 114,
   "metadata": {},
   "outputs": [
    {
     "data": {
      "text/html": [
       "<div>\n",
       "<style scoped>\n",
       "    .dataframe tbody tr th:only-of-type {\n",
       "        vertical-align: middle;\n",
       "    }\n",
       "\n",
       "    .dataframe tbody tr th {\n",
       "        vertical-align: top;\n",
       "    }\n",
       "\n",
       "    .dataframe thead th {\n",
       "        text-align: right;\n",
       "    }\n",
       "</style>\n",
       "<table border=\"1\" class=\"dataframe\">\n",
       "  <thead>\n",
       "    <tr style=\"text-align: right;\">\n",
       "      <th></th>\n",
       "      <th>Femur AP Dimension (mm)</th>\n",
       "    </tr>\n",
       "  </thead>\n",
       "  <tbody>\n",
       "    <tr>\n",
       "      <th>0</th>\n",
       "      <td>66.0</td>\n",
       "    </tr>\n",
       "    <tr>\n",
       "      <th>1</th>\n",
       "      <td>70.0</td>\n",
       "    </tr>\n",
       "    <tr>\n",
       "      <th>2</th>\n",
       "      <td>65.0</td>\n",
       "    </tr>\n",
       "    <tr>\n",
       "      <th>3</th>\n",
       "      <td>59.0</td>\n",
       "    </tr>\n",
       "    <tr>\n",
       "      <th>4</th>\n",
       "      <td>75.0</td>\n",
       "    </tr>\n",
       "  </tbody>\n",
       "</table>\n",
       "</div>"
      ],
      "text/plain": [
       "   Femur AP Dimension (mm)\n",
       "0                     66.0\n",
       "1                     70.0\n",
       "2                     65.0\n",
       "3                     59.0\n",
       "4                     75.0"
      ]
     },
     "execution_count": 114,
     "metadata": {},
     "output_type": "execute_result"
    }
   ],
   "source": [
    "y_test.head()"
   ]
  },
  {
   "cell_type": "code",
   "execution_count": 115,
   "metadata": {},
   "outputs": [
    {
     "name": "stdout",
     "output_type": "stream",
     "text": [
      "-7379.962096148338\n"
     ]
    }
   ],
   "source": [
    "from sklearn.metrics import r2_score\n",
    "lr = LinearRegression()\n",
    "lr.fit(x_femur, y_femur)\n",
    "y_pred = lr.predict(x_test)\n",
    "r_square = r2_score(y_test,y_pred)\n",
    "print(r_square)"
   ]
  },
  {
   "cell_type": "code",
   "execution_count": 116,
   "metadata": {},
   "outputs": [
    {
     "name": "stdout",
     "output_type": "stream",
     "text": [
      "-6957.38734922254\n"
     ]
    }
   ],
   "source": [
    "from sklearn.metrics import r2_score\n",
    "from sklearn import svm\n",
    "cv_femur = KFold(n_splits=5, random_state=10, shuffle=True)\n",
    "svm = svm.SVR(kernel = 'linear')\n",
    "svm.fit(x_femur, y_femur)\n",
    "y_pred = svm.predict(x_test)\n",
    "r_square = r2_score(y_test,y_pred)\n",
    "print(r_square)"
   ]
  },
  {
   "cell_type": "code",
   "execution_count": 117,
   "metadata": {},
   "outputs": [
    {
     "name": "stdout",
     "output_type": "stream",
     "text": [
      "0.023633668628289972\n"
     ]
    }
   ],
   "source": [
    "from sklearn.metrics import r2_score\n",
    "from sklearn import svm\n",
    "cv_femur = KFold(n_splits=5, random_state=10, shuffle=True)\n",
    "svm = svm.SVR(kernel = 'rbf')\n",
    "svm.fit(x_femur, y_femur)\n",
    "y_pred = svm.predict(x_test)\n",
    "r_square = r2_score(y_test,y_pred)\n",
    "print(r_square)"
   ]
  },
  {
   "cell_type": "code",
   "execution_count": 118,
   "metadata": {},
   "outputs": [],
   "source": [
    "# from xgboost import XGBRegressor\n",
    "# # param = {\"booster\":\"gblinear\", \"objective\":\"reg:linear\"}\n",
    "# xgb = XGBRegressor() \n",
    "# xgb.fit(x_femur, y_femur)\n",
    "# y_pred = xgb.predict(x_test)\n",
    "# r_square = r2_score(y_test,y_pred)\n",
    "# print(r_square)\n"
   ]
  },
  {
   "cell_type": "code",
   "execution_count": 119,
   "metadata": {},
   "outputs": [
    {
     "name": "stdout",
     "output_type": "stream",
     "text": [
      "-0.11462237514930718\n"
     ]
    }
   ],
   "source": [
    "from sklearn.ensemble import GradientBoostingRegressor\n",
    "gb = GradientBoostingRegressor() \n",
    "gb.fit(x_femur, y_femur)\n",
    "y_pred = gb.predict(x_test)\n",
    "r_square = r2_score(y_test,y_pred)\n",
    "print(r_square)"
   ]
  },
  {
   "cell_type": "code",
   "execution_count": 120,
   "metadata": {},
   "outputs": [
    {
     "name": "stdout",
     "output_type": "stream",
     "text": [
      "0.0027268068079450147\n"
     ]
    }
   ],
   "source": [
    "\n",
    "from sklearn.ensemble import RandomForestRegressor\n",
    "rf=RandomForestRegressor()\n",
    "rf.fit(x_femur, y_femur)\n",
    "y_pred = rf.predict(x_test)\n",
    "r_square = r2_score(y_test,y_pred)\n",
    "print(r_square)"
   ]
  },
  {
   "cell_type": "code",
   "execution_count": 121,
   "metadata": {},
   "outputs": [
    {
     "name": "stdout",
     "output_type": "stream",
     "text": [
      "MSE on training data is: 2.8405252468132782\n",
      "MSE on test data is: 25.121645720225942\n"
     ]
    }
   ],
   "source": [
    "from sklearn.metrics import mean_squared_error\n",
    "training_mse = mean_squared_error(y_femur, rf.predict(x_femur))\n",
    "test_mse = mean_squared_error(y_test, rf.predict(x_test))\n",
    "print('MSE on training data is: {}'.format(training_mse))\n",
    "print('MSE on test data is: {}'.format(test_mse))"
   ]
  },
  {
   "cell_type": "code",
   "execution_count": 122,
   "metadata": {},
   "outputs": [
    {
     "name": "stdout",
     "output_type": "stream",
     "text": [
      "-7338.000380439374\n"
     ]
    }
   ],
   "source": [
    "from sklearn.metrics import r2_score\n",
    "rd = Ridge()\n",
    "rd.fit(x_femur, y_femur)\n",
    "y_pred = rd.predict(x_test)\n",
    "r_square = r2_score(y_test,y_pred)\n",
    "print(r_square)"
   ]
  },
  {
   "cell_type": "code",
   "execution_count": 123,
   "metadata": {},
   "outputs": [
    {
     "name": "stdout",
     "output_type": "stream",
     "text": [
      "Score is calculated as:  0.8650824366625309\n"
     ]
    }
   ],
   "source": [
    "import numpy\n",
    "from sklearn import linear_model\n",
    "cls = RandomForestRegressor(n_estimators=250, criterion='mse', max_depth=30)#cls = RandomForestRegressor(n_estimators=150)\n",
    "\n",
    "cls.fit(x_femur, y_femur)#We are training the model with RBF'ed data\n",
    "\n",
    "scoreOfModel = cls.score(x_femur, y_femur)\n",
    "\n",
    "\n",
    "print(\"Score is calculated as: \",scoreOfModel)"
   ]
  },
  {
   "cell_type": "markdown",
   "metadata": {},
   "source": [
    "### Modelling "
   ]
  },
  {
   "cell_type": "code",
   "execution_count": 124,
   "metadata": {},
   "outputs": [],
   "source": [
    "import numpy as np\n",
    "import pandas as pd \n",
    "# from sklearn.model_selection import train_test_split\n",
    "from sklearn import linear_model\n",
    "from sklearn.neighbors import KNeighborsRegressor\n",
    "from sklearn.preprocessing import PolynomialFeatures\n",
    "from sklearn import metrics\n",
    "from sklearn.model_selection import cross_val_score\n",
    "import matplotlib.pyplot as plt\n",
    "import seaborn as sns\n",
    "from mpl_toolkits.mplot3d import Axes3D\n",
    "from sklearn import svm\n",
    "# import folium\n",
    "# from folium.plugins import HeatMap\n",
    "%matplotlib inline\n",
    "import warnings\n",
    "warnings.filterwarnings('ignore')\n",
    "\n",
    "evaluation = pd.DataFrame({'Model': [],\n",
    "                           'Details':[],\n",
    "                           'Root Mean Squared Error (RMSE)':[],\n",
    "                           'R-squared (training)':[],\n",
    "                           'Adjusted R-squared (training)':[],\n",
    "                           'R-squared (test)':[],\n",
    "                           'Adjusted R-squared (test)':[],\n",
    "                           '5-Fold Cross Validation':[]})\n",
    "\n"
   ]
  },
  {
   "cell_type": "code",
   "execution_count": 125,
   "metadata": {},
   "outputs": [],
   "source": [
    "def adjustedR2(r2,n,k):\n",
    "    return r2-(k-1)/(n-k)*(1-r2)"
   ]
  },
  {
   "cell_type": "code",
   "execution_count": 126,
   "metadata": {},
   "outputs": [
    {
     "data": {
      "text/plain": [
       "Index(['Demographics.Gender (0=Female, 1=Male)', 'Procedure_TKR.Weight_kg',\n",
       "       'Procedure_TKR.Height_cm', 'Femur AP Dimension (mm)',\n",
       "       'Tibia Implanted'],\n",
       "      dtype='object')"
      ]
     },
     "execution_count": 126,
     "metadata": {},
     "output_type": "execute_result"
    }
   ],
   "source": [
    "test_data.columns"
   ]
  },
  {
   "cell_type": "code",
   "execution_count": 127,
   "metadata": {},
   "outputs": [
    {
     "data": {
      "text/plain": [
       "Index(['Procedure_TKR.Height_cm', 'Procedure_TKR.Weight_kg',\n",
       "       'Demographics.Gender (0=Female, 1=Male)', 'Tibia ML Dimension (mm)',\n",
       "       'Femur AP Dimension (mm)'],\n",
       "      dtype='object')"
      ]
     },
     "execution_count": 127,
     "metadata": {},
     "output_type": "execute_result"
    }
   ],
   "source": [
    "train_data.columns"
   ]
  },
  {
   "cell_type": "code",
   "execution_count": 128,
   "metadata": {},
   "outputs": [],
   "source": [
    "# lr = linear_model.LinearRegression()\n",
    "# X_train = np.array(train_data['Demographics.Gender (0=Female, 1=Male)'], dtype=pd.Series).reshape(-1,1)\n",
    "# y_train = np.array(train_data['Femur AP Dimension (mm)'], dtype=pd.Series)\n",
    "# lr.fit(X_train,y_train)\n",
    "\n",
    "# X_test = np.array(test_data['Demographics.Gender (0=Female, 1=Male)'], dtype=pd.Series).reshape(-1,1)\n",
    "# y_test = np.array(test_data['Femur implanted'], dtype=pd.Series)\n",
    "\n",
    "# pred = lr.predict(X_test)\n",
    "# rmsesm = float(format(np.sqrt(metrics.mean_squared_error(y_test,pred)),'.3f'))\n",
    "# rtrsm = float(format(lr.score(X_train, y_train),'.3f'))\n",
    "# rtesm = float(format(lr.score(X_test, y_test),'.3f'))\n",
    "# cv = float(format(cross_val_score(lr,train_data[['Demographics.Gender (0=Female, 1=Male)']],train_data['Femur AP Dimension (mm)'],cv=5).mean(),'.3f'))\n",
    "\n",
    "# print (\"Average femur dimension for Test Data: {:.3f}\".format(y_test.mean()))\n",
    "# print('Intercept: {}'.format(lr.intercept_))\n",
    "# print('Coefficient: {}'.format(lr.coef_))\n",
    "\n",
    "# r = evaluation.shape[0]\n",
    "# evaluation.loc[r] = ['Simple Linear Regression','-',rmsesm,rtrsm,'-',rtesm,'-',cv]\n",
    "# evaluation"
   ]
  },
  {
   "cell_type": "code",
   "execution_count": 129,
   "metadata": {},
   "outputs": [
    {
     "name": "stdout",
     "output_type": "stream",
     "text": [
      "     Demographics.Gender (0=Female, 1=Male)  Procedure_TKR.Weight_kg  \\\n",
      "0                                         0                    95.30   \n",
      "1                                         1                   100.20   \n",
      "2                                         0                    98.40   \n",
      "3                                         0                    62.10   \n",
      "4                                         1                   161.00   \n",
      "..                                      ...                      ...   \n",
      "491                                       0                    67.10   \n",
      "492                                       0                    82.60   \n",
      "493                                       0                    73.70   \n",
      "494                                       0                    99.92   \n",
      "495                                       0                    81.60   \n",
      "\n",
      "     Procedure_TKR.Height_cm  Femur AP Dimension (mm)  Tibia Implanted  \n",
      "0                     177.80                     66.0             74.0  \n",
      "1                     173.20                     70.0             77.0  \n",
      "2                     170.20                     65.0             74.0  \n",
      "3                     160.00                     59.0             64.0  \n",
      "4                     180.30                     75.0             80.0  \n",
      "..                       ...                      ...              ...  \n",
      "491                   149.90                     59.0             68.0  \n",
      "492                   170.20                     63.0             71.0  \n",
      "493                   188.00                     70.0             74.0  \n",
      "494                   167.71                     63.0             71.0  \n",
      "495                   167.60                     63.0             71.0  \n",
      "\n",
      "[496 rows x 5 columns]\n"
     ]
    }
   ],
   "source": [
    "print(test_data)"
   ]
  },
  {
   "cell_type": "code",
   "execution_count": 130,
   "metadata": {},
   "outputs": [
    {
     "name": "stdout",
     "output_type": "stream",
     "text": [
      "Average femur dimension for Test Data: 64.171\n",
      "Intercept: 61.22800197823935\n",
      "Coefficient: [6.07106624]\n"
     ]
    },
    {
     "data": {
      "text/html": [
       "<div>\n",
       "<style scoped>\n",
       "    .dataframe tbody tr th:only-of-type {\n",
       "        vertical-align: middle;\n",
       "    }\n",
       "\n",
       "    .dataframe tbody tr th {\n",
       "        vertical-align: top;\n",
       "    }\n",
       "\n",
       "    .dataframe thead th {\n",
       "        text-align: right;\n",
       "    }\n",
       "</style>\n",
       "<table border=\"1\" class=\"dataframe\">\n",
       "  <thead>\n",
       "    <tr style=\"text-align: right;\">\n",
       "      <th></th>\n",
       "      <th>Model</th>\n",
       "      <th>Details</th>\n",
       "      <th>Root Mean Squared Error (RMSE)</th>\n",
       "      <th>R-squared (training)</th>\n",
       "      <th>Adjusted R-squared (training)</th>\n",
       "      <th>R-squared (test)</th>\n",
       "      <th>Adjusted R-squared (test)</th>\n",
       "      <th>5-Fold Cross Validation</th>\n",
       "    </tr>\n",
       "  </thead>\n",
       "  <tbody>\n",
       "    <tr>\n",
       "      <th>0</th>\n",
       "      <td>Simple Linear Regression</td>\n",
       "      <td>-</td>\n",
       "      <td>4.084</td>\n",
       "      <td>0.412</td>\n",
       "      <td>-</td>\n",
       "      <td>0.338</td>\n",
       "      <td>-</td>\n",
       "      <td>0.272</td>\n",
       "    </tr>\n",
       "  </tbody>\n",
       "</table>\n",
       "</div>"
      ],
      "text/plain": [
       "                      Model Details  Root Mean Squared Error (RMSE)  \\\n",
       "0  Simple Linear Regression       -                           4.084   \n",
       "\n",
       "   R-squared (training) Adjusted R-squared (training)  R-squared (test)  \\\n",
       "0                 0.412                             -             0.338   \n",
       "\n",
       "  Adjusted R-squared (test)  5-Fold Cross Validation  \n",
       "0                         -                    0.272  "
      ]
     },
     "execution_count": 130,
     "metadata": {},
     "output_type": "execute_result"
    }
   ],
   "source": [
    "lr = linear_model.LinearRegression()\n",
    "X_train = np.array(train_data['Demographics.Gender (0=Female, 1=Male)'], dtype=pd.Series).reshape(-1,1)\n",
    "y_train = np.array(train_data['Femur AP Dimension (mm)'], dtype=pd.Series)\n",
    "lr.fit(X_train,y_train)\n",
    "\n",
    "X_test = np.array(test_data['Demographics.Gender (0=Female, 1=Male)'], dtype=pd.Series).reshape(-1,1)\n",
    "y_test = np.array(test_data['Femur AP Dimension (mm)'], dtype=pd.Series)\n",
    "\n",
    "pred = lr.predict(X_test)\n",
    "rmsesm = float(format(np.sqrt(metrics.mean_squared_error(y_test,pred)),'.3f'))\n",
    "rtrsm = float(format(lr.score(X_train, y_train),'.3f'))\n",
    "rtesm = float(format(lr.score(X_test, y_test),'.3f'))\n",
    "cv = float(format(cross_val_score(lr,x_femur,y_femur,cv=5).mean(),'.3f'))\n",
    "\n",
    "print (\"Average femur dimension for Test Data: {:.3f}\".format(y_test.mean()))\n",
    "print('Intercept: {}'.format(lr.intercept_))\n",
    "print('Coefficient: {}'.format(lr.coef_))\n",
    "\n",
    "r = evaluation.shape[0]\n",
    "evaluation.loc[r] = ['Simple Linear Regression','-',rmsesm,rtrsm,'-',rtesm,'-',cv]\n",
    "evaluation"
   ]
  },
  {
   "cell_type": "code",
   "execution_count": 131,
   "metadata": {},
   "outputs": [
    {
     "data": {
      "text/plain": [
       "Index(['Procedure_TKR.Height_cm', 'Procedure_TKR.Weight_kg',\n",
       "       'Demographics.Gender (0=Female, 1=Male)', 'Tibia ML Dimension (mm)',\n",
       "       'Femur AP Dimension (mm)'],\n",
       "      dtype='object')"
      ]
     },
     "execution_count": 131,
     "metadata": {},
     "output_type": "execute_result"
    }
   ],
   "source": [
    "train_data.columns"
   ]
  },
  {
   "cell_type": "code",
   "execution_count": 132,
   "metadata": {},
   "outputs": [
    {
     "data": {
      "text/plain": [
       "Index(['Demographics.Gender (0=Female, 1=Male)', 'Procedure_TKR.Weight_kg',\n",
       "       'Procedure_TKR.Height_cm', 'Femur AP Dimension (mm)',\n",
       "       'Tibia Implanted'],\n",
       "      dtype='object')"
      ]
     },
     "execution_count": 132,
     "metadata": {},
     "output_type": "execute_result"
    }
   ],
   "source": [
    "test_data.columns"
   ]
  },
  {
   "cell_type": "code",
   "execution_count": 133,
   "metadata": {},
   "outputs": [
    {
     "data": {
      "text/plain": [
       "3224"
      ]
     },
     "execution_count": 133,
     "metadata": {},
     "output_type": "execute_result"
    }
   ],
   "source": [
    "len(x_femur)"
   ]
  },
  {
   "cell_type": "code",
   "execution_count": 134,
   "metadata": {},
   "outputs": [
    {
     "data": {
      "text/plain": [
       "3224"
      ]
     },
     "execution_count": 134,
     "metadata": {},
     "output_type": "execute_result"
    }
   ],
   "source": [
    "len(y_femur)"
   ]
  },
  {
   "cell_type": "code",
   "execution_count": 135,
   "metadata": {},
   "outputs": [
    {
     "data": {
      "text/plain": [
       "496"
      ]
     },
     "execution_count": 135,
     "metadata": {},
     "output_type": "execute_result"
    }
   ],
   "source": [
    "len(x_test)"
   ]
  },
  {
   "cell_type": "code",
   "execution_count": 136,
   "metadata": {},
   "outputs": [
    {
     "data": {
      "text/plain": [
       "496"
      ]
     },
     "execution_count": 136,
     "metadata": {},
     "output_type": "execute_result"
    }
   ],
   "source": [
    "len(y_test)"
   ]
  },
  {
   "cell_type": "code",
   "execution_count": 137,
   "metadata": {},
   "outputs": [],
   "source": [
    "# lr = LinearRegression()\n",
    "# # X_train = np.array(train_data['sqft_living'], dtype=pd.Series).reshape(-1,1)\n",
    "# # y_train = np.array(train_data['price'], dtype=pd.Series)\n",
    "# # X_train = np.array(train_data[['Procedure_TKR.Weight_kg','Procedure_TKR.Height_cm','Demographics.Gender (0=Female, 1=Male)']])\n",
    "# # y_train = np.array(train_data['Femur AP Dimension (mm)'])\n",
    "# # lr.fit(X_train.reshape(-1,1),y_train.reshape(-1,1))\n",
    "# x_femur1 = np.array(x_femur)\n",
    "# y_femur1 = np.array(y_femur)\n",
    "# x_test1 = np.array(x_test)\n",
    "# # y_test1 = np.array(y_test)\n",
    "# lr.fit(x_femur1.reshape(1,-1),y_femur1.reshape(1,-1))\n",
    "# y_pred = lr.predict(x_test1.reshape(1,-1))\n",
    "# # Visualizing the results\n",
    "# # f, ax = plt.subplots(1, 1, figsize=(10, 5)) # make a figure with one row and one column of size 10x5\n",
    "# # ax.scatter(x_femur, y_femur) # scatter plot the training data\n",
    "# # ax.plot(x_test, y_pred, 'r')  # plot the learned linear regression function by plotting the predictions\n",
    "# # plt.show() # display the figure\n",
    "# # x_test = np.array(test_data[['Procedure_TKR.Weight_kg','Procedure_TKR.Height_cm','Demographics.Gender (0=Female, 1=Male)']])\n",
    "# # y_test = np.array(test_data['Femur implanted']).reshape(-1,1)\n",
    "# # # X_test = np.array(test_data['sqft_living'], dtype=pd.Series).reshape(-1,1)\n",
    "# # # y_test = np.array(test_data['price'], dtype=pd.Series)\n",
    "\n",
    "# # pred = lr.predict(x_test.reshape(-1,1))\n",
    "# # rmsesm = float(format(np.sqrt(metrics.mean_squared_error(y_test,pred)),'.3f'))\n",
    "# # rtrsm = float(format(lr.score(X_train, y_train),'.3f'))\n",
    "# # rtesm = float(format(lr.score(x_test, y_test),'.3f'))\n",
    "# # cv = float(format(cross_val_score(lr,X_train,y_train,cv=5).mean(),'.3f'))\n",
    "# # print (\"Average femur implanted dimension for Test Data: {:.3f}\".format(y_test.mean()))\n",
    "# # print('Intercept: {}'.format(lr.intercept_))\n",
    "# # print('Coefficient: {}'.format(lr.coef_))\n",
    "\n",
    "# # r = evaluation.shape[0]\n",
    "# # evaluation.loc[r] = [ 'Linear Regression','-',rmsesm,rtrsm,'-',rtesm,'-',cv]\n",
    "# # evaluation"
   ]
  },
  {
   "cell_type": "code",
   "execution_count": 138,
   "metadata": {},
   "outputs": [
    {
     "name": "stdout",
     "output_type": "stream",
     "text": [
      "-7379.962096148338\n"
     ]
    }
   ],
   "source": [
    "from sklearn.metrics import r2_score\n",
    "lr = LinearRegression()\n",
    "lr.fit(x_femur, y_femur)\n",
    "y_pred = lr.predict(x_test)\n",
    "r_square = r2_score(y_test,y_pred)\n",
    "print(r_square)\n",
    "\n"
   ]
  },
  {
   "cell_type": "code",
   "execution_count": 139,
   "metadata": {},
   "outputs": [
    {
     "data": {
      "text/plain": [
       "(3224, 3)"
      ]
     },
     "execution_count": 139,
     "metadata": {},
     "output_type": "execute_result"
    }
   ],
   "source": [
    "x_femur.shape"
   ]
  },
  {
   "cell_type": "code",
   "execution_count": 140,
   "metadata": {},
   "outputs": [
    {
     "data": {
      "text/plain": [
       "(3224, 1)"
      ]
     },
     "execution_count": 140,
     "metadata": {},
     "output_type": "execute_result"
    }
   ],
   "source": [
    "y_femur.shape"
   ]
  },
  {
   "cell_type": "code",
   "execution_count": 141,
   "metadata": {},
   "outputs": [],
   "source": [
    "# from math import sqrt\n",
    "# from sklearn.metrics import mean_squared_error\n",
    "# lr = LinearRegression()\n",
    "# lr.fit(x_femur, y_femur)\n",
    "# y_pred = lr.predict(y_test)\n",
    "# MSE = mean_squared_error(y_test,y_pred)\n",
    "# print(MSE)"
   ]
  },
  {
   "cell_type": "code",
   "execution_count": 142,
   "metadata": {},
   "outputs": [],
   "source": [
    "# from math import sqrt\n",
    "# from sklearn.metrics import mean_squared_error\n",
    "# from sklearn.ensemble import RandomForestRegressor\n",
    "# rf = RandomForestRegressor()\n",
    "# rf.fit(x_femur,y_femur)\n",
    "# y_pred = rf.predict(y_test.reshape(-1,1))\n",
    "# MSE = rf.mean_squared_error(y_test,y_pred)\n",
    "# print(MSE)"
   ]
  },
  {
   "cell_type": "code",
   "execution_count": 143,
   "metadata": {},
   "outputs": [],
   "source": [
    "# from math import sqrt\n",
    "# from sklearn.metrics import mean_squared_error\n",
    "# lr = LinearRegression()\n",
    "# lr.fit(x_femur, y_femur)\n",
    "# y_pred = lr.predict(x_femur)\n",
    "# MSE = sqrt(mean_squared_error(y_test,y_pred))\n",
    "# print(MSE)"
   ]
  },
  {
   "cell_type": "code",
   "execution_count": 144,
   "metadata": {},
   "outputs": [
    {
     "name": "stdout",
     "output_type": "stream",
     "text": [
      "Average femur implanted dimension for Test Data: 64.171\n",
      "Intercept: [26.03726464]\n",
      "Coefficient: [[0.20856312 0.01350616 2.75778666]]\n"
     ]
    },
    {
     "data": {
      "text/html": [
       "<div>\n",
       "<style scoped>\n",
       "    .dataframe tbody tr th:only-of-type {\n",
       "        vertical-align: middle;\n",
       "    }\n",
       "\n",
       "    .dataframe tbody tr th {\n",
       "        vertical-align: top;\n",
       "    }\n",
       "\n",
       "    .dataframe thead th {\n",
       "        text-align: right;\n",
       "    }\n",
       "</style>\n",
       "<table border=\"1\" class=\"dataframe\">\n",
       "  <thead>\n",
       "    <tr style=\"text-align: right;\">\n",
       "      <th></th>\n",
       "      <th>Model</th>\n",
       "      <th>Details</th>\n",
       "      <th>Root Mean Squared Error (RMSE)</th>\n",
       "      <th>R-squared (training)</th>\n",
       "      <th>Adjusted R-squared (training)</th>\n",
       "      <th>R-squared (test)</th>\n",
       "      <th>Adjusted R-squared (test)</th>\n",
       "      <th>5-Fold Cross Validation</th>\n",
       "    </tr>\n",
       "  </thead>\n",
       "  <tbody>\n",
       "    <tr>\n",
       "      <th>0</th>\n",
       "      <td>Simple Linear Regression</td>\n",
       "      <td>-</td>\n",
       "      <td>4.084</td>\n",
       "      <td>0.412</td>\n",
       "      <td>-</td>\n",
       "      <td>0.338</td>\n",
       "      <td>-</td>\n",
       "      <td>0.272</td>\n",
       "    </tr>\n",
       "    <tr>\n",
       "      <th>1</th>\n",
       "      <td>linear_regressor</td>\n",
       "      <td>-</td>\n",
       "      <td>431.195</td>\n",
       "      <td>0.554</td>\n",
       "      <td>-</td>\n",
       "      <td>-7379.962</td>\n",
       "      <td>-</td>\n",
       "      <td>0.272</td>\n",
       "    </tr>\n",
       "  </tbody>\n",
       "</table>\n",
       "</div>"
      ],
      "text/plain": [
       "                      Model Details  Root Mean Squared Error (RMSE)  \\\n",
       "0  Simple Linear Regression       -                           4.084   \n",
       "1          linear_regressor       -                         431.195   \n",
       "\n",
       "   R-squared (training) Adjusted R-squared (training)  R-squared (test)  \\\n",
       "0                 0.412                             -             0.338   \n",
       "1                 0.554                             -         -7379.962   \n",
       "\n",
       "  Adjusted R-squared (test)  5-Fold Cross Validation  \n",
       "0                         -                    0.272  \n",
       "1                         -                    0.272  "
      ]
     },
     "execution_count": 144,
     "metadata": {},
     "output_type": "execute_result"
    }
   ],
   "source": [
    "linear_regressor = LinearRegression()\n",
    "# X_train = np.array(train_data['sqft_living'], dtype=pd.Series).reshape(-1,1)\n",
    "# y_train = np.array(train_data['price'], dtype=pd.Series)\n",
    "linear_regressor.fit(x_femur,y_femur)\n",
    "\n",
    "# X_test = np.array(test_data['sqft_living'], dtype=pd.Series).reshape(-1,1)\n",
    "# y_test = np.array(test_data['price'], dtype=pd.Series)\n",
    "\n",
    "pred1 = linear_regressor.predict(x_test)\n",
    "rmsesm = float(format(np.sqrt(metrics.mean_squared_error(y_test,pred1)),'.3f'))\n",
    "rtrsm = float(format(linear_regressor.score(x_femur, y_femur),'.3f'))\n",
    "rtesm = float(format(linear_regressor.score(x_test, y_test),'.3f'))\n",
    "cv = float(format(cross_val_score(linear_regressor,x_femur,y_femur,cv=5).mean(),'.3f'))\n",
    "print (\"Average femur implanted dimension for Test Data: {:.3f}\".format(y_test.mean()))\n",
    "print('Intercept: {}'.format(linear_regressor.intercept_))\n",
    "print('Coefficient: {}'.format(linear_regressor.coef_))\n",
    "\n",
    "r = evaluation.shape[0]\n",
    "evaluation.loc[r] = ['linear_regressor','-',rmsesm,rtrsm,'-',rtesm,'-',cv]\n",
    "evaluation"
   ]
  },
  {
   "cell_type": "markdown",
   "metadata": {},
   "source": [
    "#### Modern machine learning techniques"
   ]
  },
  {
   "cell_type": "code",
   "execution_count": 145,
   "metadata": {},
   "outputs": [
    {
     "name": "stdout",
     "output_type": "stream",
     "text": [
      "Average femur implanted dimension for Test Data: 64.171\n",
      "Intercept: [24.31311263]\n",
      "Coefficient: [[0.21720072 0.01541679 2.69301859]]\n"
     ]
    },
    {
     "data": {
      "text/html": [
       "<div>\n",
       "<style scoped>\n",
       "    .dataframe tbody tr th:only-of-type {\n",
       "        vertical-align: middle;\n",
       "    }\n",
       "\n",
       "    .dataframe tbody tr th {\n",
       "        vertical-align: top;\n",
       "    }\n",
       "\n",
       "    .dataframe thead th {\n",
       "        text-align: right;\n",
       "    }\n",
       "</style>\n",
       "<table border=\"1\" class=\"dataframe\">\n",
       "  <thead>\n",
       "    <tr style=\"text-align: right;\">\n",
       "      <th></th>\n",
       "      <th>Model</th>\n",
       "      <th>Details</th>\n",
       "      <th>Root Mean Squared Error (RMSE)</th>\n",
       "      <th>R-squared (training)</th>\n",
       "      <th>Adjusted R-squared (training)</th>\n",
       "      <th>R-squared (test)</th>\n",
       "      <th>Adjusted R-squared (test)</th>\n",
       "      <th>5-Fold Cross Validation</th>\n",
       "    </tr>\n",
       "  </thead>\n",
       "  <tbody>\n",
       "    <tr>\n",
       "      <th>0</th>\n",
       "      <td>Simple Linear Regression</td>\n",
       "      <td>-</td>\n",
       "      <td>4.084</td>\n",
       "      <td>0.412</td>\n",
       "      <td>-</td>\n",
       "      <td>0.338</td>\n",
       "      <td>-</td>\n",
       "      <td>0.272</td>\n",
       "    </tr>\n",
       "    <tr>\n",
       "      <th>1</th>\n",
       "      <td>linear_regressor</td>\n",
       "      <td>-</td>\n",
       "      <td>431.195</td>\n",
       "      <td>0.554</td>\n",
       "      <td>-</td>\n",
       "      <td>-7379.962</td>\n",
       "      <td>-</td>\n",
       "      <td>0.272</td>\n",
       "    </tr>\n",
       "    <tr>\n",
       "      <th>2</th>\n",
       "      <td>svm</td>\n",
       "      <td>-</td>\n",
       "      <td>418.669</td>\n",
       "      <td>0.553</td>\n",
       "      <td>-</td>\n",
       "      <td>-6957.387</td>\n",
       "      <td>-</td>\n",
       "      <td>0.258</td>\n",
       "    </tr>\n",
       "  </tbody>\n",
       "</table>\n",
       "</div>"
      ],
      "text/plain": [
       "                      Model Details  Root Mean Squared Error (RMSE)  \\\n",
       "0  Simple Linear Regression       -                           4.084   \n",
       "1          linear_regressor       -                         431.195   \n",
       "2                       svm       -                         418.669   \n",
       "\n",
       "   R-squared (training) Adjusted R-squared (training)  R-squared (test)  \\\n",
       "0                 0.412                             -             0.338   \n",
       "1                 0.554                             -         -7379.962   \n",
       "2                 0.553                             -         -6957.387   \n",
       "\n",
       "  Adjusted R-squared (test)  5-Fold Cross Validation  \n",
       "0                         -                    0.272  \n",
       "1                         -                    0.272  \n",
       "2                         -                    0.258  "
      ]
     },
     "execution_count": 145,
     "metadata": {},
     "output_type": "execute_result"
    }
   ],
   "source": [
    "svm = SVR(kernel=\"linear\")\n",
    "# X_train = np.array(train_data['sqft_living'], dtype=pd.Series).reshape(-1,1)\n",
    "# y_train = np.array(train_data['price'], dtype=pd.Series)\n",
    "svm.fit(x_femur,y_femur)\n",
    "\n",
    "# X_test = np.array(test_data['sqft_living'], dtype=pd.Series).reshape(-1,1)\n",
    "# y_test = np.array(test_data['price'], dtype=pd.Series)\n",
    "\n",
    "pred1 = svm.predict(x_test)\n",
    "rmsesm = float(format(np.sqrt(metrics.mean_squared_error(y_test,pred1)),'.3f'))\n",
    "rtrsm = float(format(svm.score(x_femur, y_femur),'.3f'))\n",
    "rtesm = float(format(svm.score(x_test, y_test),'.3f'))\n",
    "cv = float(format(cross_val_score(svm,x_femur,y_femur,cv=5).mean(),'.3f'))\n",
    "print (\"Average femur implanted dimension for Test Data: {:.3f}\".format(y_test.mean()))\n",
    "print('Intercept: {}'.format(svm.intercept_))\n",
    "print('Coefficient: {}'.format(svm.coef_))\n",
    "\n",
    "r = evaluation.shape[0]\n",
    "evaluation.loc[r] = ['svm','-',rmsesm,rtrsm,'-',rtesm,'-',cv]\n",
    "evaluation"
   ]
  },
  {
   "cell_type": "code",
   "execution_count": 146,
   "metadata": {},
   "outputs": [],
   "source": [
    "from sklearn.ensemble import RandomForestRegressor\n",
    "rf = RandomForestRegressor(max_depth=2, random_state=0)"
   ]
  },
  {
   "cell_type": "code",
   "execution_count": 147,
   "metadata": {},
   "outputs": [
    {
     "name": "stdout",
     "output_type": "stream",
     "text": [
      "Average femur implanted dimension for Test Data: 64.171\n"
     ]
    },
    {
     "data": {
      "text/html": [
       "<div>\n",
       "<style scoped>\n",
       "    .dataframe tbody tr th:only-of-type {\n",
       "        vertical-align: middle;\n",
       "    }\n",
       "\n",
       "    .dataframe tbody tr th {\n",
       "        vertical-align: top;\n",
       "    }\n",
       "\n",
       "    .dataframe thead th {\n",
       "        text-align: right;\n",
       "    }\n",
       "</style>\n",
       "<table border=\"1\" class=\"dataframe\">\n",
       "  <thead>\n",
       "    <tr style=\"text-align: right;\">\n",
       "      <th></th>\n",
       "      <th>Model</th>\n",
       "      <th>Details</th>\n",
       "      <th>Root Mean Squared Error (RMSE)</th>\n",
       "      <th>R-squared (training)</th>\n",
       "      <th>Adjusted R-squared (training)</th>\n",
       "      <th>R-squared (test)</th>\n",
       "      <th>Adjusted R-squared (test)</th>\n",
       "      <th>5-Fold Cross Validation</th>\n",
       "    </tr>\n",
       "  </thead>\n",
       "  <tbody>\n",
       "    <tr>\n",
       "      <th>0</th>\n",
       "      <td>Simple Linear Regression</td>\n",
       "      <td>-</td>\n",
       "      <td>4.084</td>\n",
       "      <td>0.412</td>\n",
       "      <td>-</td>\n",
       "      <td>0.338</td>\n",
       "      <td>-</td>\n",
       "      <td>0.272</td>\n",
       "    </tr>\n",
       "    <tr>\n",
       "      <th>1</th>\n",
       "      <td>linear_regressor</td>\n",
       "      <td>-</td>\n",
       "      <td>431.195</td>\n",
       "      <td>0.554</td>\n",
       "      <td>-</td>\n",
       "      <td>-7379.962</td>\n",
       "      <td>-</td>\n",
       "      <td>0.272</td>\n",
       "    </tr>\n",
       "    <tr>\n",
       "      <th>2</th>\n",
       "      <td>svm</td>\n",
       "      <td>-</td>\n",
       "      <td>418.669</td>\n",
       "      <td>0.553</td>\n",
       "      <td>-</td>\n",
       "      <td>-6957.387</td>\n",
       "      <td>-</td>\n",
       "      <td>0.258</td>\n",
       "    </tr>\n",
       "    <tr>\n",
       "      <th>3</th>\n",
       "      <td>Random Forest</td>\n",
       "      <td>-</td>\n",
       "      <td>5.386</td>\n",
       "      <td>0.543</td>\n",
       "      <td>-</td>\n",
       "      <td>-0.152</td>\n",
       "      <td>-</td>\n",
       "      <td>0.235</td>\n",
       "    </tr>\n",
       "  </tbody>\n",
       "</table>\n",
       "</div>"
      ],
      "text/plain": [
       "                      Model Details  Root Mean Squared Error (RMSE)  \\\n",
       "0  Simple Linear Regression       -                           4.084   \n",
       "1          linear_regressor       -                         431.195   \n",
       "2                       svm       -                         418.669   \n",
       "3             Random Forest       -                           5.386   \n",
       "\n",
       "   R-squared (training) Adjusted R-squared (training)  R-squared (test)  \\\n",
       "0                 0.412                             -             0.338   \n",
       "1                 0.554                             -         -7379.962   \n",
       "2                 0.553                             -         -6957.387   \n",
       "3                 0.543                             -            -0.152   \n",
       "\n",
       "  Adjusted R-squared (test)  5-Fold Cross Validation  \n",
       "0                         -                    0.272  \n",
       "1                         -                    0.272  \n",
       "2                         -                    0.258  \n",
       "3                         -                    0.235  "
      ]
     },
     "execution_count": 147,
     "metadata": {},
     "output_type": "execute_result"
    }
   ],
   "source": [
    "\n",
    "# X_train = np.array(train_data['sqft_living'], dtype=pd.Series).reshape(-1,1)\n",
    "# y_train = np.array(train_data['price'], dtype=pd.Series)\n",
    "rf.fit(x_femur,y_femur)\n",
    "\n",
    "# X_test = np.array(test_data['sqft_living'], dtype=pd.Series).reshape(-1,1)\n",
    "# y_test = np.array(test_data['price'], dtype=pd.Series)\n",
    "\n",
    "pred2 = rf.predict(x_test)\n",
    "rmsesm = float(format(np.sqrt(metrics.mean_squared_error(y_test,pred2)),'.3f'))\n",
    "rtrsm = float(format(rf.score(x_femur, y_femur),'.3f'))\n",
    "rtesm = float(format(rf.score(x_test, y_test),'.3f'))\n",
    "cv = float(format(cross_val_score(rf,x_femur,y_femur,cv=5).mean(),'.3f'))\n",
    "print (\"Average femur implanted dimension for Test Data: {:.3f}\".format(y_test.mean()))\n",
    "# print('Intercept: {}'.format(rf.intercept_))\n",
    "# print('Coefficient: {}'.format(rf.coef_))\n",
    "\n",
    "r = evaluation.shape[0]\n",
    "evaluation.loc[r] = ['Random Forest','-',rmsesm,rtrsm,'-',rtesm,'-',cv]\n",
    "evaluation"
   ]
  },
  {
   "cell_type": "code",
   "execution_count": 148,
   "metadata": {},
   "outputs": [],
   "source": [
    "from sklearn.ensemble import GradientBoostingRegressor\n",
    "gb = GradientBoostingRegressor()"
   ]
  },
  {
   "cell_type": "code",
   "execution_count": 149,
   "metadata": {},
   "outputs": [
    {
     "name": "stdout",
     "output_type": "stream",
     "text": [
      "Average femur implanted dimension for Test Data: 64.171\n"
     ]
    },
    {
     "data": {
      "text/html": [
       "<div>\n",
       "<style scoped>\n",
       "    .dataframe tbody tr th:only-of-type {\n",
       "        vertical-align: middle;\n",
       "    }\n",
       "\n",
       "    .dataframe tbody tr th {\n",
       "        vertical-align: top;\n",
       "    }\n",
       "\n",
       "    .dataframe thead th {\n",
       "        text-align: right;\n",
       "    }\n",
       "</style>\n",
       "<table border=\"1\" class=\"dataframe\">\n",
       "  <thead>\n",
       "    <tr style=\"text-align: right;\">\n",
       "      <th></th>\n",
       "      <th>Model</th>\n",
       "      <th>Details</th>\n",
       "      <th>Root Mean Squared Error (RMSE)</th>\n",
       "      <th>R-squared (training)</th>\n",
       "      <th>Adjusted R-squared (training)</th>\n",
       "      <th>R-squared (test)</th>\n",
       "      <th>Adjusted R-squared (test)</th>\n",
       "      <th>5-Fold Cross Validation</th>\n",
       "    </tr>\n",
       "  </thead>\n",
       "  <tbody>\n",
       "    <tr>\n",
       "      <th>0</th>\n",
       "      <td>Simple Linear Regression</td>\n",
       "      <td>-</td>\n",
       "      <td>4.084</td>\n",
       "      <td>0.412</td>\n",
       "      <td>-</td>\n",
       "      <td>0.338</td>\n",
       "      <td>-</td>\n",
       "      <td>0.272</td>\n",
       "    </tr>\n",
       "    <tr>\n",
       "      <th>1</th>\n",
       "      <td>linear_regressor</td>\n",
       "      <td>-</td>\n",
       "      <td>431.195</td>\n",
       "      <td>0.554</td>\n",
       "      <td>-</td>\n",
       "      <td>-7379.962</td>\n",
       "      <td>-</td>\n",
       "      <td>0.272</td>\n",
       "    </tr>\n",
       "    <tr>\n",
       "      <th>2</th>\n",
       "      <td>svm</td>\n",
       "      <td>-</td>\n",
       "      <td>418.669</td>\n",
       "      <td>0.553</td>\n",
       "      <td>-</td>\n",
       "      <td>-6957.387</td>\n",
       "      <td>-</td>\n",
       "      <td>0.258</td>\n",
       "    </tr>\n",
       "    <tr>\n",
       "      <th>3</th>\n",
       "      <td>Random Forest</td>\n",
       "      <td>-</td>\n",
       "      <td>5.386</td>\n",
       "      <td>0.543</td>\n",
       "      <td>-</td>\n",
       "      <td>-0.152</td>\n",
       "      <td>-</td>\n",
       "      <td>0.235</td>\n",
       "    </tr>\n",
       "    <tr>\n",
       "      <th>4</th>\n",
       "      <td>GB</td>\n",
       "      <td>-</td>\n",
       "      <td>5.281</td>\n",
       "      <td>0.594</td>\n",
       "      <td>-</td>\n",
       "      <td>-0.107</td>\n",
       "      <td>-</td>\n",
       "      <td>0.219</td>\n",
       "    </tr>\n",
       "  </tbody>\n",
       "</table>\n",
       "</div>"
      ],
      "text/plain": [
       "                      Model Details  Root Mean Squared Error (RMSE)  \\\n",
       "0  Simple Linear Regression       -                           4.084   \n",
       "1          linear_regressor       -                         431.195   \n",
       "2                       svm       -                         418.669   \n",
       "3             Random Forest       -                           5.386   \n",
       "4                        GB       -                           5.281   \n",
       "\n",
       "   R-squared (training) Adjusted R-squared (training)  R-squared (test)  \\\n",
       "0                 0.412                             -             0.338   \n",
       "1                 0.554                             -         -7379.962   \n",
       "2                 0.553                             -         -6957.387   \n",
       "3                 0.543                             -            -0.152   \n",
       "4                 0.594                             -            -0.107   \n",
       "\n",
       "  Adjusted R-squared (test)  5-Fold Cross Validation  \n",
       "0                         -                    0.272  \n",
       "1                         -                    0.272  \n",
       "2                         -                    0.258  \n",
       "3                         -                    0.235  \n",
       "4                         -                    0.219  "
      ]
     },
     "execution_count": 149,
     "metadata": {},
     "output_type": "execute_result"
    }
   ],
   "source": [
    "\n",
    "# X_train = np.array(train_data['sqft_living'], dtype=pd.Series).reshape(-1,1)\n",
    "# y_train = np.array(train_data['price'], dtype=pd.Series)\n",
    "gb.fit(x_femur,y_femur)\n",
    "\n",
    "# X_test = np.array(test_data['sqft_living'], dtype=pd.Series).reshape(-1,1)\n",
    "# y_test = np.array(test_data['price'], dtype=pd.Series)\n",
    "\n",
    "pred3 = gb.predict(x_test)\n",
    "rmsesm = float(format(np.sqrt(metrics.mean_squared_error(y_test,pred3)),'.3f'))\n",
    "rtrsm = float(format(gb.score(x_femur, y_femur),'.3f'))\n",
    "rtesm = float(format(gb.score(x_test, y_test),'.3f'))\n",
    "cv = float(format(cross_val_score(gb,x_femur,y_femur,cv=5).mean(),'.3f'))\n",
    "print (\"Average femur implanted dimension for Test Data: {:.3f}\".format(y_test.mean()))\n",
    "# print('Intercept: {}'.format(rf.intercept_))\n",
    "# print('Coefficient: {}'.format(rf.coef_))\n",
    "\n",
    "r = evaluation.shape[0]\n",
    "evaluation.loc[r] = ['GB','-',rmsesm,rtrsm,'-',rtesm,'-',cv]\n",
    "evaluation"
   ]
  },
  {
   "cell_type": "code",
   "execution_count": null,
   "metadata": {},
   "outputs": [],
   "source": [
    "import lightgbm as lgb\n",
    "from lightgbm import Dataset\n",
    "hyper_params = {\n",
    "    'task': 'train',\n",
    "    'boosting_type': 'gbdt',\n",
    "    'objective': 'regression',\n",
    "    'metric': ['l2', 'auc'],\n",
    "    'learning_rate': 0.005,\n",
    "    'feature_fraction': 0.9,\n",
    "    'bagging_fraction': 0.7,\n",
    "    'bagging_freq': 10,\n",
    "    'verbose': 0,\n",
    "    \"max_depth\": 8,\n",
    "    \"num_leaves\": 128,  \n",
    "    \"max_bin\": 512,\n",
    "    \"num_iterations\": 100000,\n",
    "    \"n_estimators\": 1000\n",
    "}\n",
    "gbm = lgb.LGBMRegressor(**hyper_params)"
   ]
  },
  {
   "cell_type": "code",
   "execution_count": 151,
   "metadata": {},
   "outputs": [
    {
     "data": {
      "text/html": [
       "<div>\n",
       "<style scoped>\n",
       "    .dataframe tbody tr th:only-of-type {\n",
       "        vertical-align: middle;\n",
       "    }\n",
       "\n",
       "    .dataframe tbody tr th {\n",
       "        vertical-align: top;\n",
       "    }\n",
       "\n",
       "    .dataframe thead th {\n",
       "        text-align: right;\n",
       "    }\n",
       "</style>\n",
       "<table border=\"1\" class=\"dataframe\">\n",
       "  <thead>\n",
       "    <tr style=\"text-align: right;\">\n",
       "      <th></th>\n",
       "      <th>Demographics.Gender (0=Female, 1=Male)</th>\n",
       "      <th>Procedure_TKR.Weight_kg</th>\n",
       "      <th>Procedure_TKR.Height_cm</th>\n",
       "      <th>Femur AP Dimension (mm)</th>\n",
       "      <th>Tibia Implanted</th>\n",
       "    </tr>\n",
       "  </thead>\n",
       "  <tbody>\n",
       "    <tr>\n",
       "      <th>0</th>\n",
       "      <td>0</td>\n",
       "      <td>95.3</td>\n",
       "      <td>177.8</td>\n",
       "      <td>66.0</td>\n",
       "      <td>74.0</td>\n",
       "    </tr>\n",
       "    <tr>\n",
       "      <th>1</th>\n",
       "      <td>1</td>\n",
       "      <td>100.2</td>\n",
       "      <td>173.2</td>\n",
       "      <td>70.0</td>\n",
       "      <td>77.0</td>\n",
       "    </tr>\n",
       "    <tr>\n",
       "      <th>2</th>\n",
       "      <td>0</td>\n",
       "      <td>98.4</td>\n",
       "      <td>170.2</td>\n",
       "      <td>65.0</td>\n",
       "      <td>74.0</td>\n",
       "    </tr>\n",
       "    <tr>\n",
       "      <th>3</th>\n",
       "      <td>0</td>\n",
       "      <td>62.1</td>\n",
       "      <td>160.0</td>\n",
       "      <td>59.0</td>\n",
       "      <td>64.0</td>\n",
       "    </tr>\n",
       "    <tr>\n",
       "      <th>4</th>\n",
       "      <td>1</td>\n",
       "      <td>161.0</td>\n",
       "      <td>180.3</td>\n",
       "      <td>75.0</td>\n",
       "      <td>80.0</td>\n",
       "    </tr>\n",
       "  </tbody>\n",
       "</table>\n",
       "</div>"
      ],
      "text/plain": [
       "   Demographics.Gender (0=Female, 1=Male)  Procedure_TKR.Weight_kg  \\\n",
       "0                                       0                     95.3   \n",
       "1                                       1                    100.2   \n",
       "2                                       0                     98.4   \n",
       "3                                       0                     62.1   \n",
       "4                                       1                    161.0   \n",
       "\n",
       "   Procedure_TKR.Height_cm  Femur AP Dimension (mm)  Tibia Implanted  \n",
       "0                    177.8                     66.0             74.0  \n",
       "1                    173.2                     70.0             77.0  \n",
       "2                    170.2                     65.0             74.0  \n",
       "3                    160.0                     59.0             64.0  \n",
       "4                    180.3                     75.0             80.0  "
      ]
     },
     "execution_count": 151,
     "metadata": {},
     "output_type": "execute_result"
    }
   ],
   "source": [
    "test_data.head()"
   ]
  },
  {
   "cell_type": "code",
   "execution_count": 152,
   "metadata": {},
   "outputs": [
    {
     "data": {
      "text/html": [
       "<div>\n",
       "<style scoped>\n",
       "    .dataframe tbody tr th:only-of-type {\n",
       "        vertical-align: middle;\n",
       "    }\n",
       "\n",
       "    .dataframe tbody tr th {\n",
       "        vertical-align: top;\n",
       "    }\n",
       "\n",
       "    .dataframe thead th {\n",
       "        text-align: right;\n",
       "    }\n",
       "</style>\n",
       "<table border=\"1\" class=\"dataframe\">\n",
       "  <thead>\n",
       "    <tr style=\"text-align: right;\">\n",
       "      <th></th>\n",
       "      <th>Femur AP Dimension (mm)</th>\n",
       "    </tr>\n",
       "  </thead>\n",
       "  <tbody>\n",
       "    <tr>\n",
       "      <th>0</th>\n",
       "      <td>66.0</td>\n",
       "    </tr>\n",
       "    <tr>\n",
       "      <th>1</th>\n",
       "      <td>70.0</td>\n",
       "    </tr>\n",
       "    <tr>\n",
       "      <th>2</th>\n",
       "      <td>65.0</td>\n",
       "    </tr>\n",
       "    <tr>\n",
       "      <th>3</th>\n",
       "      <td>59.0</td>\n",
       "    </tr>\n",
       "    <tr>\n",
       "      <th>4</th>\n",
       "      <td>75.0</td>\n",
       "    </tr>\n",
       "  </tbody>\n",
       "</table>\n",
       "</div>"
      ],
      "text/plain": [
       "   Femur AP Dimension (mm)\n",
       "0                     66.0\n",
       "1                     70.0\n",
       "2                     65.0\n",
       "3                     59.0\n",
       "4                     75.0"
      ]
     },
     "execution_count": 152,
     "metadata": {},
     "output_type": "execute_result"
    }
   ],
   "source": [
    "Y_test = test_data.loc[:,['Femur AP Dimension (mm)']]\n",
    "Y_test.head()"
   ]
  },
  {
   "cell_type": "code",
   "execution_count": 153,
   "metadata": {},
   "outputs": [],
   "source": [
    "import re\n",
    "x_femur = x_femur.rename(columns = lambda x:re.sub('[^A-Za-z0-9_]+', '', x))\n",
    "y_femur = y_femur.rename(columns = lambda x:re.sub('[^A-Za-z0-9_]+', '', x))\n",
    "x_test = x_test.rename(columns = lambda x:re.sub('[^A-Za-z0-9_]+', '', x))\n",
    "Y_test = Y_test.rename(columns = lambda x:re.sub('[^A-Za-z0-9_]+', '', x))"
   ]
  },
  {
   "cell_type": "code",
   "execution_count": 174,
   "metadata": {},
   "outputs": [
    {
     "name": "stdout",
     "output_type": "stream",
     "text": [
      "[LightGBM] [Warning] feature_fraction is set=0.9, colsample_bytree=1.0 will be ignored. Current value: feature_fraction=0.9\n",
      "[LightGBM] [Warning] bagging_fraction is set=0.7, subsample=1.0 will be ignored. Current value: bagging_fraction=0.7\n",
      "[LightGBM] [Warning] bagging_freq is set=10, subsample_freq=0 will be ignored. Current value: bagging_freq=10\n"
     ]
    },
    {
     "ename": "LightGBMError",
     "evalue": "Do not support special JSON characters in feature name.",
     "output_type": "error",
     "traceback": [
      "\u001b[1;31m---------------------------------------------------------------------------\u001b[0m",
      "\u001b[1;31mLightGBMError\u001b[0m                             Traceback (most recent call last)",
      "\u001b[1;32m<ipython-input-174-7df0d37a6b97>\u001b[0m in \u001b[0;36m<module>\u001b[1;34m()\u001b[0m\n\u001b[0;32m      1\u001b[0m gbm.fit(x_femur, y_femur,\n\u001b[0;32m      2\u001b[0m         \u001b[0meval_set\u001b[0m\u001b[1;33m=\u001b[0m\u001b[1;33m[\u001b[0m\u001b[1;33m(\u001b[0m\u001b[0mx_test\u001b[0m\u001b[1;33m,\u001b[0m \u001b[0my_test\u001b[0m\u001b[1;33m)\u001b[0m\u001b[1;33m]\u001b[0m\u001b[1;33m,\u001b[0m\u001b[1;33m\u001b[0m\u001b[0m\n\u001b[1;32m----> 3\u001b[1;33m         eval_metric='l1')\n\u001b[0m",
      "\u001b[1;32m~\\Anaconda3\\lib\\site-packages\\lightgbm\\sklearn.py\u001b[0m in \u001b[0;36mfit\u001b[1;34m(self, X, y, sample_weight, init_score, eval_set, eval_names, eval_sample_weight, eval_init_score, eval_metric, early_stopping_rounds, verbose, feature_name, categorical_feature, callbacks, init_model)\u001b[0m\n\u001b[0;32m    777\u001b[0m                                        \u001b[0mverbose\u001b[0m\u001b[1;33m=\u001b[0m\u001b[0mverbose\u001b[0m\u001b[1;33m,\u001b[0m \u001b[0mfeature_name\u001b[0m\u001b[1;33m=\u001b[0m\u001b[0mfeature_name\u001b[0m\u001b[1;33m,\u001b[0m\u001b[1;33m\u001b[0m\u001b[0m\n\u001b[0;32m    778\u001b[0m                                        \u001b[0mcategorical_feature\u001b[0m\u001b[1;33m=\u001b[0m\u001b[0mcategorical_feature\u001b[0m\u001b[1;33m,\u001b[0m\u001b[1;33m\u001b[0m\u001b[0m\n\u001b[1;32m--> 779\u001b[1;33m                                        callbacks=callbacks, init_model=init_model)\n\u001b[0m\u001b[0;32m    780\u001b[0m         \u001b[1;32mreturn\u001b[0m \u001b[0mself\u001b[0m\u001b[1;33m\u001b[0m\u001b[0m\n\u001b[0;32m    781\u001b[0m \u001b[1;33m\u001b[0m\u001b[0m\n",
      "\u001b[1;32m~\\Anaconda3\\lib\\site-packages\\lightgbm\\sklearn.py\u001b[0m in \u001b[0;36mfit\u001b[1;34m(self, X, y, sample_weight, init_score, group, eval_set, eval_names, eval_sample_weight, eval_class_weight, eval_init_score, eval_group, eval_metric, early_stopping_rounds, verbose, feature_name, categorical_feature, callbacks, init_model)\u001b[0m\n\u001b[0;32m    615\u001b[0m                               \u001b[0mevals_result\u001b[0m\u001b[1;33m=\u001b[0m\u001b[0mevals_result\u001b[0m\u001b[1;33m,\u001b[0m \u001b[0mfobj\u001b[0m\u001b[1;33m=\u001b[0m\u001b[0mself\u001b[0m\u001b[1;33m.\u001b[0m\u001b[0m_fobj\u001b[0m\u001b[1;33m,\u001b[0m \u001b[0mfeval\u001b[0m\u001b[1;33m=\u001b[0m\u001b[0meval_metrics_callable\u001b[0m\u001b[1;33m,\u001b[0m\u001b[1;33m\u001b[0m\u001b[0m\n\u001b[0;32m    616\u001b[0m                               \u001b[0mverbose_eval\u001b[0m\u001b[1;33m=\u001b[0m\u001b[0mverbose\u001b[0m\u001b[1;33m,\u001b[0m \u001b[0mfeature_name\u001b[0m\u001b[1;33m=\u001b[0m\u001b[0mfeature_name\u001b[0m\u001b[1;33m,\u001b[0m\u001b[1;33m\u001b[0m\u001b[0m\n\u001b[1;32m--> 617\u001b[1;33m                               callbacks=callbacks, init_model=init_model)\n\u001b[0m\u001b[0;32m    618\u001b[0m \u001b[1;33m\u001b[0m\u001b[0m\n\u001b[0;32m    619\u001b[0m         \u001b[1;32mif\u001b[0m \u001b[0mevals_result\u001b[0m\u001b[1;33m:\u001b[0m\u001b[1;33m\u001b[0m\u001b[0m\n",
      "\u001b[1;32m~\\Anaconda3\\lib\\site-packages\\lightgbm\\engine.py\u001b[0m in \u001b[0;36mtrain\u001b[1;34m(params, train_set, num_boost_round, valid_sets, valid_names, fobj, feval, init_model, feature_name, categorical_feature, early_stopping_rounds, evals_result, verbose_eval, learning_rates, keep_training_booster, callbacks)\u001b[0m\n\u001b[0;32m    229\u001b[0m     \u001b[1;31m# construct booster\u001b[0m\u001b[1;33m\u001b[0m\u001b[1;33m\u001b[0m\u001b[0m\n\u001b[0;32m    230\u001b[0m     \u001b[1;32mtry\u001b[0m\u001b[1;33m:\u001b[0m\u001b[1;33m\u001b[0m\u001b[0m\n\u001b[1;32m--> 231\u001b[1;33m         \u001b[0mbooster\u001b[0m \u001b[1;33m=\u001b[0m \u001b[0mBooster\u001b[0m\u001b[1;33m(\u001b[0m\u001b[0mparams\u001b[0m\u001b[1;33m=\u001b[0m\u001b[0mparams\u001b[0m\u001b[1;33m,\u001b[0m \u001b[0mtrain_set\u001b[0m\u001b[1;33m=\u001b[0m\u001b[0mtrain_set\u001b[0m\u001b[1;33m)\u001b[0m\u001b[1;33m\u001b[0m\u001b[0m\n\u001b[0m\u001b[0;32m    232\u001b[0m         \u001b[1;32mif\u001b[0m \u001b[0mis_valid_contain_train\u001b[0m\u001b[1;33m:\u001b[0m\u001b[1;33m\u001b[0m\u001b[0m\n\u001b[0;32m    233\u001b[0m             \u001b[0mbooster\u001b[0m\u001b[1;33m.\u001b[0m\u001b[0mset_train_data_name\u001b[0m\u001b[1;33m(\u001b[0m\u001b[0mtrain_data_name\u001b[0m\u001b[1;33m)\u001b[0m\u001b[1;33m\u001b[0m\u001b[0m\n",
      "\u001b[1;32m~\\Anaconda3\\lib\\site-packages\\lightgbm\\basic.py\u001b[0m in \u001b[0;36m__init__\u001b[1;34m(self, params, train_set, model_file, model_str, silent)\u001b[0m\n\u001b[0;32m   2051\u001b[0m                     \u001b[1;32mbreak\u001b[0m\u001b[1;33m\u001b[0m\u001b[0m\n\u001b[0;32m   2052\u001b[0m             \u001b[1;31m# construct booster object\u001b[0m\u001b[1;33m\u001b[0m\u001b[1;33m\u001b[0m\u001b[0m\n\u001b[1;32m-> 2053\u001b[1;33m             \u001b[0mtrain_set\u001b[0m\u001b[1;33m.\u001b[0m\u001b[0mconstruct\u001b[0m\u001b[1;33m(\u001b[0m\u001b[1;33m)\u001b[0m\u001b[1;33m\u001b[0m\u001b[0m\n\u001b[0m\u001b[0;32m   2054\u001b[0m             \u001b[1;31m# copy the parameters from train_set\u001b[0m\u001b[1;33m\u001b[0m\u001b[1;33m\u001b[0m\u001b[0m\n\u001b[0;32m   2055\u001b[0m             \u001b[0mparams\u001b[0m\u001b[1;33m.\u001b[0m\u001b[0mupdate\u001b[0m\u001b[1;33m(\u001b[0m\u001b[0mtrain_set\u001b[0m\u001b[1;33m.\u001b[0m\u001b[0mget_params\u001b[0m\u001b[1;33m(\u001b[0m\u001b[1;33m)\u001b[0m\u001b[1;33m)\u001b[0m\u001b[1;33m\u001b[0m\u001b[0m\n",
      "\u001b[1;32m~\\Anaconda3\\lib\\site-packages\\lightgbm\\basic.py\u001b[0m in \u001b[0;36mconstruct\u001b[1;34m(self)\u001b[0m\n\u001b[0;32m   1323\u001b[0m                                 \u001b[0minit_score\u001b[0m\u001b[1;33m=\u001b[0m\u001b[0mself\u001b[0m\u001b[1;33m.\u001b[0m\u001b[0minit_score\u001b[0m\u001b[1;33m,\u001b[0m \u001b[0mpredictor\u001b[0m\u001b[1;33m=\u001b[0m\u001b[0mself\u001b[0m\u001b[1;33m.\u001b[0m\u001b[0m_predictor\u001b[0m\u001b[1;33m,\u001b[0m\u001b[1;33m\u001b[0m\u001b[0m\n\u001b[0;32m   1324\u001b[0m                                 \u001b[0msilent\u001b[0m\u001b[1;33m=\u001b[0m\u001b[0mself\u001b[0m\u001b[1;33m.\u001b[0m\u001b[0msilent\u001b[0m\u001b[1;33m,\u001b[0m \u001b[0mfeature_name\u001b[0m\u001b[1;33m=\u001b[0m\u001b[0mself\u001b[0m\u001b[1;33m.\u001b[0m\u001b[0mfeature_name\u001b[0m\u001b[1;33m,\u001b[0m\u001b[1;33m\u001b[0m\u001b[0m\n\u001b[1;32m-> 1325\u001b[1;33m                                 categorical_feature=self.categorical_feature, params=self.params)\n\u001b[0m\u001b[0;32m   1326\u001b[0m             \u001b[1;32mif\u001b[0m \u001b[0mself\u001b[0m\u001b[1;33m.\u001b[0m\u001b[0mfree_raw_data\u001b[0m\u001b[1;33m:\u001b[0m\u001b[1;33m\u001b[0m\u001b[0m\n\u001b[0;32m   1327\u001b[0m                 \u001b[0mself\u001b[0m\u001b[1;33m.\u001b[0m\u001b[0mdata\u001b[0m \u001b[1;33m=\u001b[0m \u001b[1;32mNone\u001b[0m\u001b[1;33m\u001b[0m\u001b[0m\n",
      "\u001b[1;32m~\\Anaconda3\\lib\\site-packages\\lightgbm\\basic.py\u001b[0m in \u001b[0;36m_lazy_init\u001b[1;34m(self, data, label, reference, weight, group, init_score, predictor, silent, feature_name, categorical_feature, params)\u001b[0m\n\u001b[0;32m   1149\u001b[0m             \u001b[1;32mraise\u001b[0m \u001b[0mTypeError\u001b[0m\u001b[1;33m(\u001b[0m\u001b[1;34m'Wrong predictor type {}'\u001b[0m\u001b[1;33m.\u001b[0m\u001b[0mformat\u001b[0m\u001b[1;33m(\u001b[0m\u001b[0mtype\u001b[0m\u001b[1;33m(\u001b[0m\u001b[0mpredictor\u001b[0m\u001b[1;33m)\u001b[0m\u001b[1;33m.\u001b[0m\u001b[0m__name__\u001b[0m\u001b[1;33m)\u001b[0m\u001b[1;33m)\u001b[0m\u001b[1;33m\u001b[0m\u001b[0m\n\u001b[0;32m   1150\u001b[0m         \u001b[1;31m# set feature names\u001b[0m\u001b[1;33m\u001b[0m\u001b[1;33m\u001b[0m\u001b[0m\n\u001b[1;32m-> 1151\u001b[1;33m         \u001b[1;32mreturn\u001b[0m \u001b[0mself\u001b[0m\u001b[1;33m.\u001b[0m\u001b[0mset_feature_name\u001b[0m\u001b[1;33m(\u001b[0m\u001b[0mfeature_name\u001b[0m\u001b[1;33m)\u001b[0m\u001b[1;33m\u001b[0m\u001b[0m\n\u001b[0m\u001b[0;32m   1152\u001b[0m \u001b[1;33m\u001b[0m\u001b[0m\n\u001b[0;32m   1153\u001b[0m     \u001b[1;32mdef\u001b[0m \u001b[0m__init_from_np2d\u001b[0m\u001b[1;33m(\u001b[0m\u001b[0mself\u001b[0m\u001b[1;33m,\u001b[0m \u001b[0mmat\u001b[0m\u001b[1;33m,\u001b[0m \u001b[0mparams_str\u001b[0m\u001b[1;33m,\u001b[0m \u001b[0mref_dataset\u001b[0m\u001b[1;33m)\u001b[0m\u001b[1;33m:\u001b[0m\u001b[1;33m\u001b[0m\u001b[0m\n",
      "\u001b[1;32m~\\Anaconda3\\lib\\site-packages\\lightgbm\\basic.py\u001b[0m in \u001b[0;36mset_feature_name\u001b[1;34m(self, feature_name)\u001b[0m\n\u001b[0;32m   1630\u001b[0m                 \u001b[0mself\u001b[0m\u001b[1;33m.\u001b[0m\u001b[0mhandle\u001b[0m\u001b[1;33m,\u001b[0m\u001b[1;33m\u001b[0m\u001b[0m\n\u001b[0;32m   1631\u001b[0m                 \u001b[0mc_array\u001b[0m\u001b[1;33m(\u001b[0m\u001b[0mctypes\u001b[0m\u001b[1;33m.\u001b[0m\u001b[0mc_char_p\u001b[0m\u001b[1;33m,\u001b[0m \u001b[0mc_feature_name\u001b[0m\u001b[1;33m)\u001b[0m\u001b[1;33m,\u001b[0m\u001b[1;33m\u001b[0m\u001b[0m\n\u001b[1;32m-> 1632\u001b[1;33m                 ctypes.c_int(len(feature_name))))\n\u001b[0m\u001b[0;32m   1633\u001b[0m         \u001b[1;32mreturn\u001b[0m \u001b[0mself\u001b[0m\u001b[1;33m\u001b[0m\u001b[0m\n\u001b[0;32m   1634\u001b[0m \u001b[1;33m\u001b[0m\u001b[0m\n",
      "\u001b[1;32m~\\Anaconda3\\lib\\site-packages\\lightgbm\\basic.py\u001b[0m in \u001b[0;36m_safe_call\u001b[1;34m(ret)\u001b[0m\n\u001b[0;32m     53\u001b[0m     \"\"\"\n\u001b[0;32m     54\u001b[0m     \u001b[1;32mif\u001b[0m \u001b[0mret\u001b[0m \u001b[1;33m!=\u001b[0m \u001b[1;36m0\u001b[0m\u001b[1;33m:\u001b[0m\u001b[1;33m\u001b[0m\u001b[0m\n\u001b[1;32m---> 55\u001b[1;33m         \u001b[1;32mraise\u001b[0m \u001b[0mLightGBMError\u001b[0m\u001b[1;33m(\u001b[0m\u001b[0mdecode_string\u001b[0m\u001b[1;33m(\u001b[0m\u001b[0m_LIB\u001b[0m\u001b[1;33m.\u001b[0m\u001b[0mLGBM_GetLastError\u001b[0m\u001b[1;33m(\u001b[0m\u001b[1;33m)\u001b[0m\u001b[1;33m)\u001b[0m\u001b[1;33m)\u001b[0m\u001b[1;33m\u001b[0m\u001b[0m\n\u001b[0m\u001b[0;32m     56\u001b[0m \u001b[1;33m\u001b[0m\u001b[0m\n\u001b[0;32m     57\u001b[0m \u001b[1;33m\u001b[0m\u001b[0m\n",
      "\u001b[1;31mLightGBMError\u001b[0m: Do not support special JSON characters in feature name."
     ]
    }
   ],
   "source": [
    "gbm.fit(x_femur, y_femur,\n",
    "        eval_set=[(x_test, Y_test)],\n",
    "        eval_metric='l1')"
   ]
  },
  {
   "cell_type": "code",
   "execution_count": 171,
   "metadata": {},
   "outputs": [
    {
     "ename": "AttributeError",
     "evalue": "module 'lightgbm' has no attribute 'fit'",
     "output_type": "error",
     "traceback": [
      "\u001b[1;31m---------------------------------------------------------------------------\u001b[0m",
      "\u001b[1;31mAttributeError\u001b[0m                            Traceback (most recent call last)",
      "\u001b[1;32m<ipython-input-171-eeac20c2fc8d>\u001b[0m in \u001b[0;36m<module>\u001b[1;34m()\u001b[0m\n\u001b[0;32m      2\u001b[0m \u001b[1;31m# X_train = np.array(train_data['sqft_living'], dtype=pd.Series).reshape(-1,1)\u001b[0m\u001b[1;33m\u001b[0m\u001b[1;33m\u001b[0m\u001b[0m\n\u001b[0;32m      3\u001b[0m \u001b[1;31m# y_train = np.array(train_data['price'], dtype=pd.Series)\u001b[0m\u001b[1;33m\u001b[0m\u001b[1;33m\u001b[0m\u001b[0m\n\u001b[1;32m----> 4\u001b[1;33m \u001b[0mlightgbm\u001b[0m\u001b[1;33m.\u001b[0m\u001b[0mfit\u001b[0m\u001b[1;33m(\u001b[0m\u001b[0mx_femur\u001b[0m\u001b[1;33m,\u001b[0m\u001b[0my_femur\u001b[0m\u001b[1;33m)\u001b[0m\u001b[1;33m\u001b[0m\u001b[0m\n\u001b[0m\u001b[0;32m      5\u001b[0m \u001b[1;33m\u001b[0m\u001b[0m\n\u001b[0;32m      6\u001b[0m \u001b[1;31m# X_test = np.array(test_data['sqft_living'], dtype=pd.Series).reshape(-1,1)\u001b[0m\u001b[1;33m\u001b[0m\u001b[1;33m\u001b[0m\u001b[0m\n",
      "\u001b[1;31mAttributeError\u001b[0m: module 'lightgbm' has no attribute 'fit'"
     ]
    }
   ],
   "source": [
    "\n",
    "# X_train = np.array(train_data['sqft_living'], dtype=pd.Series).reshape(-1,1)\n",
    "# y_train = np.array(train_data['price'], dtype=pd.Series)\n",
    "lightgbm.fit(x_femur,y_femur)\n",
    "\n",
    "# X_test = np.array(test_data['sqft_living'], dtype=pd.Series).reshape(-1,1)\n",
    "# y_test = np.array(test_data['price'], dtype=pd.Series)\n",
    "\n",
    "pred2 = lgb.predict(x_test)\n",
    "rmsesm = float(format(np.sqrt(metrics.mean_squared_error(y_test,pred2)),'.3f'))\n",
    "rtrsm = float(format(lightgbm.score(x_femur, y_femur),'.3f'))\n",
    "rtesm = float(format(lightgbm.score(x_test, y_test),'.3f'))\n",
    "cv = float(format(cross_val_score(lightgbm,x_femur,y_femur,cv=5).mean(),'.3f'))\n",
    "print (\"Average femur implanted dimension for Test Data: {:.3f}\".format(y_test.mean()))\n",
    "# print('Intercept: {}'.format(rf.intercept_))\n",
    "# print('Coefficient: {}'.format(rf.coef_))\n",
    "\n",
    "r = evaluation.shape[0]\n",
    "evaluation.loc[r] = ['lgb','-',rmsesm,rtrsm,'-',rtesm,'-',cv]\n",
    "evaluation"
   ]
  },
  {
   "cell_type": "code",
   "execution_count": 159,
   "metadata": {},
   "outputs": [
    {
     "name": "stdout",
     "output_type": "stream",
     "text": [
      "Intercept: [26.03726464]\n",
      "Coefficients: [[0.20856312 0.01350616 2.75778666]]\n"
     ]
    },
    {
     "ename": "ZeroDivisionError",
     "evalue": "division by zero",
     "output_type": "error",
     "traceback": [
      "\u001b[1;31m---------------------------------------------------------------------------\u001b[0m",
      "\u001b[1;31mZeroDivisionError\u001b[0m                         Traceback (most recent call last)",
      "\u001b[1;32m<ipython-input-159-94059c6ff59d>\u001b[0m in \u001b[0;36m<module>\u001b[1;34m()\u001b[0m\n\u001b[0;32m     12\u001b[0m \u001b[0mrmsecm\u001b[0m \u001b[1;33m=\u001b[0m \u001b[0mfloat\u001b[0m\u001b[1;33m(\u001b[0m\u001b[0mformat\u001b[0m\u001b[1;33m(\u001b[0m\u001b[0mnp\u001b[0m\u001b[1;33m.\u001b[0m\u001b[0msqrt\u001b[0m\u001b[1;33m(\u001b[0m\u001b[0mmetrics\u001b[0m\u001b[1;33m.\u001b[0m\u001b[0mmean_squared_error\u001b[0m\u001b[1;33m(\u001b[0m\u001b[0my_test\u001b[0m\u001b[1;33m,\u001b[0m\u001b[0mpred\u001b[0m\u001b[1;33m)\u001b[0m\u001b[1;33m)\u001b[0m\u001b[1;33m,\u001b[0m\u001b[1;34m'.3f'\u001b[0m\u001b[1;33m)\u001b[0m\u001b[1;33m)\u001b[0m\u001b[1;33m\u001b[0m\u001b[0m\n\u001b[0;32m     13\u001b[0m \u001b[0mrtrcm\u001b[0m \u001b[1;33m=\u001b[0m \u001b[0mfloat\u001b[0m\u001b[1;33m(\u001b[0m\u001b[0mformat\u001b[0m\u001b[1;33m(\u001b[0m\u001b[0mcomplex_model_2\u001b[0m\u001b[1;33m.\u001b[0m\u001b[0mscore\u001b[0m\u001b[1;33m(\u001b[0m\u001b[0mx_femur\u001b[0m\u001b[1;33m,\u001b[0m\u001b[0my_femur\u001b[0m\u001b[1;33m)\u001b[0m\u001b[1;33m,\u001b[0m\u001b[1;34m'.3f'\u001b[0m\u001b[1;33m)\u001b[0m\u001b[1;33m)\u001b[0m\u001b[1;33m\u001b[0m\u001b[0m\n\u001b[1;32m---> 14\u001b[1;33m \u001b[0martrcm\u001b[0m \u001b[1;33m=\u001b[0m \u001b[0mfloat\u001b[0m\u001b[1;33m(\u001b[0m\u001b[0mformat\u001b[0m\u001b[1;33m(\u001b[0m\u001b[0madjustedR2\u001b[0m\u001b[1;33m(\u001b[0m\u001b[0mcomplex_model_2\u001b[0m\u001b[1;33m.\u001b[0m\u001b[0mscore\u001b[0m\u001b[1;33m(\u001b[0m\u001b[0mx_femur\u001b[0m\u001b[1;33m,\u001b[0m\u001b[0my_femur\u001b[0m\u001b[1;33m)\u001b[0m\u001b[1;33m,\u001b[0m\u001b[0mtrain_data\u001b[0m\u001b[1;33m.\u001b[0m\u001b[0mshape\u001b[0m\u001b[1;33m[\u001b[0m\u001b[1;36m0\u001b[0m\u001b[1;33m]\u001b[0m\u001b[1;33m,\u001b[0m\u001b[0mlen\u001b[0m\u001b[1;33m(\u001b[0m\u001b[0mx_femur\u001b[0m\u001b[1;33m)\u001b[0m\u001b[1;33m)\u001b[0m\u001b[1;33m,\u001b[0m\u001b[1;34m'.3f'\u001b[0m\u001b[1;33m)\u001b[0m\u001b[1;33m)\u001b[0m\u001b[1;33m\u001b[0m\u001b[0m\n\u001b[0m\u001b[0;32m     15\u001b[0m \u001b[0mrtecm\u001b[0m \u001b[1;33m=\u001b[0m \u001b[0mfloat\u001b[0m\u001b[1;33m(\u001b[0m\u001b[0mformat\u001b[0m\u001b[1;33m(\u001b[0m\u001b[0mcomplex_model_2\u001b[0m\u001b[1;33m.\u001b[0m\u001b[0mscore\u001b[0m\u001b[1;33m(\u001b[0m\u001b[0mx_test\u001b[0m\u001b[1;33m,\u001b[0m\u001b[0my_test\u001b[0m\u001b[1;33m)\u001b[0m\u001b[1;33m,\u001b[0m\u001b[1;34m'.3f'\u001b[0m\u001b[1;33m)\u001b[0m\u001b[1;33m)\u001b[0m\u001b[1;33m\u001b[0m\u001b[0m\n\u001b[0;32m     16\u001b[0m \u001b[0martecm\u001b[0m \u001b[1;33m=\u001b[0m \u001b[0mfloat\u001b[0m\u001b[1;33m(\u001b[0m\u001b[0mformat\u001b[0m\u001b[1;33m(\u001b[0m\u001b[0madjustedR2\u001b[0m\u001b[1;33m(\u001b[0m\u001b[0mcomplex_model_2\u001b[0m\u001b[1;33m.\u001b[0m\u001b[0mscore\u001b[0m\u001b[1;33m(\u001b[0m\u001b[0mx_test\u001b[0m\u001b[1;33m,\u001b[0m \u001b[0my_test\u001b[0m\u001b[1;33m)\u001b[0m\u001b[1;33m,\u001b[0m\u001b[0mtest_data\u001b[0m\u001b[1;33m.\u001b[0m\u001b[0mshape\u001b[0m\u001b[1;33m[\u001b[0m\u001b[1;36m0\u001b[0m\u001b[1;33m]\u001b[0m\u001b[1;33m,\u001b[0m\u001b[0mlen\u001b[0m\u001b[1;33m(\u001b[0m\u001b[0mx_test\u001b[0m\u001b[1;33m)\u001b[0m\u001b[1;33m)\u001b[0m\u001b[1;33m,\u001b[0m\u001b[1;34m'.3f'\u001b[0m\u001b[1;33m)\u001b[0m\u001b[1;33m)\u001b[0m\u001b[1;33m\u001b[0m\u001b[0m\n",
      "\u001b[1;32m<ipython-input-132-2f7059aad27f>\u001b[0m in \u001b[0;36madjustedR2\u001b[1;34m(r2, n, k)\u001b[0m\n\u001b[0;32m      1\u001b[0m \u001b[1;32mdef\u001b[0m \u001b[0madjustedR2\u001b[0m\u001b[1;33m(\u001b[0m\u001b[0mr2\u001b[0m\u001b[1;33m,\u001b[0m\u001b[0mn\u001b[0m\u001b[1;33m,\u001b[0m\u001b[0mk\u001b[0m\u001b[1;33m)\u001b[0m\u001b[1;33m:\u001b[0m\u001b[1;33m\u001b[0m\u001b[0m\n\u001b[1;32m----> 2\u001b[1;33m     \u001b[1;32mreturn\u001b[0m \u001b[0mr2\u001b[0m\u001b[1;33m-\u001b[0m\u001b[1;33m(\u001b[0m\u001b[0mk\u001b[0m\u001b[1;33m-\u001b[0m\u001b[1;36m1\u001b[0m\u001b[1;33m)\u001b[0m\u001b[1;33m/\u001b[0m\u001b[1;33m(\u001b[0m\u001b[0mn\u001b[0m\u001b[1;33m-\u001b[0m\u001b[0mk\u001b[0m\u001b[1;33m)\u001b[0m\u001b[1;33m*\u001b[0m\u001b[1;33m(\u001b[0m\u001b[1;36m1\u001b[0m\u001b[1;33m-\u001b[0m\u001b[0mr2\u001b[0m\u001b[1;33m)\u001b[0m\u001b[1;33m\u001b[0m\u001b[0m\n\u001b[0m",
      "\u001b[1;31mZeroDivisionError\u001b[0m: division by zero"
     ]
    }
   ],
   "source": [
    "\n",
    "complex_model_2 = linear_model.LinearRegression()\n",
    "complex_model_2.fit(x_femur, y_femur)\n",
    "\n",
    "print('Intercept: {}'.format(complex_model_2.intercept_))\n",
    "print('Coefficients: {}'.format(complex_model_2.coef_))\n",
    "\n",
    "pred = complex_model_2.predict(x_test)\n",
    "rmsecm = float(format(np.sqrt(metrics.mean_squared_error(y_test,pred)),'.3f'))\n",
    "rtrcm = float(format(complex_model_2.score(x_femur,y_femur),'.3f'))\n",
    "artrcm = float(format(adjustedR2(complex_model_2.score(x_femur,y_femur),train_data.shape[0],len(x_femur)),'.3f'))\n",
    "rtecm = float(format(complex_model_2.score(x_test,y_test),'.3f'))\n",
    "artecm = float(format(adjustedR2(complex_model_2.score(x_test, y_test),test_data.shape[0],len(x_test)),'.3f'))\n",
    "# cv = float(format(cross_val_score(complex_model_2, x_femur,Y_femur,cv=5).mean(),'.3f'))\n",
    "\n",
    "r = evaluation.shape[0]\n",
    "evaluation.loc[r] = ['Multiple Regression-2','selected features',rmsecm,rtrcm,artrcm,rtecm,artecm,cv]\n",
    "# evaluation.sort_values(by = '5-Fold Cross Validation', ascending=False)"
   ]
  },
  {
   "cell_type": "code",
   "execution_count": null,
   "metadata": {},
   "outputs": [],
   "source": [
    "test_data.info()"
   ]
  },
  {
   "cell_type": "code",
   "execution_count": 140,
   "metadata": {},
   "outputs": [
    {
     "data": {
      "text/plain": [
       "LinearRegression()"
      ]
     },
     "execution_count": 140,
     "metadata": {},
     "output_type": "execute_result"
    }
   ],
   "source": [
    "from sklearn.linear_model import LinearRegression\n",
    "clf = LinearRegression()\n",
    "clf.fit(x_femur, y_femur)\n"
   ]
  },
  {
   "cell_type": "code",
   "execution_count": 142,
   "metadata": {},
   "outputs": [
    {
     "data": {
      "text/plain": [
       "(3224, 1)"
      ]
     },
     "execution_count": 142,
     "metadata": {},
     "output_type": "execute_result"
    }
   ],
   "source": [
    "y_femur.shape"
   ]
  },
  {
   "cell_type": "code",
   "execution_count": 143,
   "metadata": {},
   "outputs": [
    {
     "data": {
      "text/plain": [
       "(3224, 3)"
      ]
     },
     "execution_count": 143,
     "metadata": {},
     "output_type": "execute_result"
    }
   ],
   "source": [
    "x_femur.shape"
   ]
  },
  {
   "cell_type": "code",
   "execution_count": 157,
   "metadata": {},
   "outputs": [
    {
     "data": {
      "text/html": [
       "<div>\n",
       "<style scoped>\n",
       "    .dataframe tbody tr th:only-of-type {\n",
       "        vertical-align: middle;\n",
       "    }\n",
       "\n",
       "    .dataframe tbody tr th {\n",
       "        vertical-align: top;\n",
       "    }\n",
       "\n",
       "    .dataframe thead th {\n",
       "        text-align: right;\n",
       "    }\n",
       "</style>\n",
       "<table border=\"1\" class=\"dataframe\">\n",
       "  <thead>\n",
       "    <tr style=\"text-align: right;\">\n",
       "      <th></th>\n",
       "      <th>Demographics.Gender (0=Female, 1=Male)</th>\n",
       "      <th>Procedure_TKR.Weight_kg</th>\n",
       "      <th>Procedure_TKR.Height_cm</th>\n",
       "    </tr>\n",
       "  </thead>\n",
       "  <tbody>\n",
       "    <tr>\n",
       "      <th>0</th>\n",
       "      <td>0</td>\n",
       "      <td>95.3</td>\n",
       "      <td>177.8</td>\n",
       "    </tr>\n",
       "    <tr>\n",
       "      <th>1</th>\n",
       "      <td>1</td>\n",
       "      <td>100.2</td>\n",
       "      <td>173.2</td>\n",
       "    </tr>\n",
       "    <tr>\n",
       "      <th>2</th>\n",
       "      <td>0</td>\n",
       "      <td>98.4</td>\n",
       "      <td>170.2</td>\n",
       "    </tr>\n",
       "    <tr>\n",
       "      <th>3</th>\n",
       "      <td>0</td>\n",
       "      <td>62.1</td>\n",
       "      <td>160.0</td>\n",
       "    </tr>\n",
       "    <tr>\n",
       "      <th>4</th>\n",
       "      <td>1</td>\n",
       "      <td>161.0</td>\n",
       "      <td>180.3</td>\n",
       "    </tr>\n",
       "  </tbody>\n",
       "</table>\n",
       "</div>"
      ],
      "text/plain": [
       "   Demographics.Gender (0=Female, 1=Male)  Procedure_TKR.Weight_kg  \\\n",
       "0                                       0                     95.3   \n",
       "1                                       1                    100.2   \n",
       "2                                       0                     98.4   \n",
       "3                                       0                     62.1   \n",
       "4                                       1                    161.0   \n",
       "\n",
       "   Procedure_TKR.Height_cm  \n",
       "0                    177.8  \n",
       "1                    173.2  \n",
       "2                    170.2  \n",
       "3                    160.0  \n",
       "4                    180.3  "
      ]
     },
     "execution_count": 157,
     "metadata": {},
     "output_type": "execute_result"
    }
   ],
   "source": [
    "x_test.head()"
   ]
  }
 ],
 "metadata": {
  "kernelspec": {
   "display_name": "Python 3",
   "language": "python",
   "name": "python3"
  },
  "language_info": {
   "codemirror_mode": {
    "name": "ipython",
    "version": 3
   },
   "file_extension": ".py",
   "mimetype": "text/x-python",
   "name": "python",
   "nbconvert_exporter": "python",
   "pygments_lexer": "ipython3",
   "version": "3.7.0"
  }
 },
 "nbformat": 4,
 "nbformat_minor": 2
}
